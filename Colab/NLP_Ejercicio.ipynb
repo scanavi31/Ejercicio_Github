{
  "nbformat": 4,
  "nbformat_minor": 0,
  "metadata": {
    "colab": {
      "provenance": [],
      "collapsed_sections": [
        "xKfSmtBylqcZ"
      ],
      "include_colab_link": true
    },
    "kernelspec": {
      "display_name": "Python 3",
      "name": "python3"
    }
  },
  "cells": [
    {
      "cell_type": "markdown",
      "metadata": {
        "id": "view-in-github",
        "colab_type": "text"
      },
      "source": [
        "<a href=\"https://colab.research.google.com/github/scanavi31/Ejercicio_Github/blob/main/Colab/NLP_Ejercicio.ipynb\" target=\"_parent\"><img src=\"https://colab.research.google.com/assets/colab-badge.svg\" alt=\"Open In Colab\"/></a>"
      ]
    },
    {
      "cell_type": "markdown",
      "source": [
        "Fuente: https://github.com/dan-almenar/Procesamiento-de-Lenguaje-Natural/tree/main"
      ],
      "metadata": {
        "id": "lWYJTORnsmYE"
      }
    },
    {
      "cell_type": "markdown",
      "metadata": {
        "id": "wRyEm6MGkBbq"
      },
      "source": [
        "# Ejercicio de **NLP (Natural Language Processing)**\n"
      ]
    },
    {
      "cell_type": "markdown",
      "metadata": {
        "id": "71e8YMz0nz9V"
      },
      "source": [
        "## Procesamiento de Lenguaje Natural: Pasos a seguir.\n",
        "\n",
        "Se obtiene el texto con el cual se va a realizar el ejercicio. El cual se adjunta \"Robin Hood.txt\"\n",
        "\n",
        "Una vez cargado el texto, se procede a:\n",
        "\n",
        "1. ***Tokenizarlo*** (separarlo), tanto por palabras como por oraciones.\n",
        "2. ***Reconocimiento de entidades***: identificar qué palabra o conjunto de palabras constituye una entidad (persona, lugar, organización).\n",
        "3. ***Lematizarlo***: reducir cada palabra a su mínima expresión.\n",
        "4. **POS Tagging**, es decir, asignarle a cada palabra su función gramatical (identificar cuáles son sustantivos, verbos, adjetivos y demás).\n",
        "5. **Análisis de sentimiento** (determinar la actitud emocional expresada en un fragmento de texto).\n",
        "\n",
        "Para este ejercicio, se utilizan tres de las principales librerías de Python para Procesamiento de Lenguaje Natural: **NLTK**, **SpaCy** y **Polyglot**, además de las herramientas tradicionales de análisis de datos como Pandas, Matplotlib, Numpy y Seaborn."
      ]
    },
    {
      "cell_type": "markdown",
      "metadata": {
        "id": "rt_i2XMq60e0"
      },
      "source": [
        "## Cargar la data"
      ]
    },
    {
      "cell_type": "code",
      "source": [
        "from google.colab import drive\n",
        "drive.mount('/content/drive')"
      ],
      "metadata": {
        "colab": {
          "base_uri": "https://localhost:8080/"
        },
        "id": "if-7F_nmrvx9",
        "outputId": "a403c196-8487-4fcd-fe24-2871bee59ae7"
      },
      "execution_count": null,
      "outputs": [
        {
          "output_type": "stream",
          "name": "stdout",
          "text": [
            "Mounted at /content/drive\n"
          ]
        }
      ]
    },
    {
      "cell_type": "code",
      "metadata": {
        "id": "Aq2akwAK21E2"
      },
      "source": [
        "robin_hood = open('/content/drive/MyDrive/Mentoría/Robin Hood.txt', 'r').read()"
      ],
      "execution_count": null,
      "outputs": []
    },
    {
      "cell_type": "code",
      "metadata": {
        "colab": {
          "base_uri": "https://localhost:8080/",
          "height": 175
        },
        "id": "Bkd8lONc3IJO",
        "outputId": "c537d02c-a95e-4cc1-ab6f-54064ed664d0"
      },
      "source": [
        "robin_hood"
      ],
      "execution_count": null,
      "outputs": [
        {
          "output_type": "execute_result",
          "data": {
            "text/plain": [
              "'Se me callan. Si, sé que ha pasado mucho tiempo pero díganme una cosa, si Rihanna se ha tomado 5 años de algo que le DA REAL, ¿Yo no puedo descansar dos meses de esto? Para reflexionar. En fin, como los Backstreet Boys: omg I’m back again, y con la historia de Robin Hood. A ver, si hacen memoria, van a recordar que el “Robin Hood” de Disney es un zorro, y todos los personajes son animalitos del bosque. José Luis dirá: “Los zorros y los leones no tienen el mismo HÁBITAT, belen”. Tienes razón José Luis, pero estos animales son arquetipos, cállate. Esta decisión no fue simplemente una picada de culo de Disney. Sino que en verdad la película está basada en dos cosas: 1. Robin Hood (yo también estoy en shock) y 2. Renart el Zorro. Renart el zorro o Roman de Renart, son todo un conjunto de Fábulas francesas entre los siglos XII y XIII, que básicamente parodiaban las novelas épicas y generalmente tenían un tono bien sarcástico. O sea la gente antes de tener twitter, tenían las fábulas de Renart, pues. Entonces, ¿qué hizo Disney? Pues agarro dos historias, y a todos los animalitos de Renart el zorro les asignó un personaje de Robin Hood y nos dieron un 2x1 en vez de hacer dos películas; Yo particularmente me siento estafada, pero... Les voy a hacer lo mismo. Primero. Salgamos del elefante en la habitación: ¿Robin Hood existió? Miren, no sé, Los historiadores tampoco. Lo cierto es que en la Inglaterra de la época,  Robin Hood era como llamarte Pedro Pérez, así que quizás todas las historias se refieran a un ejercito de carajos. Bueno. Robin Hood es un hero legendario del folclore inglés del siglo XIII que básicamente es la pesadilla de cualquier MAGAzolano. Robin Hood se caracterizaba por ser excelente con el arco y flecha, robaba a los ricos para darle a los pobres y usaba leggings verde pro-choice. Como ya dije, Robin Hood es parte del folclore inglés y son historias viejísimas. Entre los siglos XIII y XIV hay demasiadas fábulas, cuentos, baladas, changas, tecnomerengues y salsas de camionetica de las aventuras de Robin Hood; y eso representa un problema para su servidora. Pero, PERO, en 1883 llegó a salvar mi vida Howard Pyle. Que agarró todas esas changas y las recopiló en un solo libro que se llama “The merry adventures of Robin Hood” o “LAS FLIPANTES AVENTURAS DEL PILLO CON CAPERUZA” Como le dicen en España. Ajá érase una vez en un lugar llamado Nottingham en Inglaterra, vivía un forajido/pran y su banda de forajidos con los que hacía vainas ilegales y de moral dudosa pero vainas ilegales y de moral dudosa que favorecían los intereses de la gente del bosque entonces, chevere pues. Pero la historia no empieza ahí. Cuando Robin Hood tenía 18 años, decidió participar en un torneo del rey de arquería, por el gran y generoso premio de, y no estoy inventando, UN BARRIL (1) DE CERVEZA. Y nada, Robin estaba en el torneo ahí como en su peo; Hasta que llegó un grupo de hombres blancos católicos y heterosexuales y empezaron a decirle: “ Qué vas a saber tú de arquería mariquito ahí con tus leggings” mientras le lanzaban flechas. Robin, en defensa propia, mató a uno de los carajos. Y nada, al ver lo que había hecho, se cagó y huyó al bosque donde decidió convertirse en un, ehem, delincuente para siempre Por esto, pusieron una recompensa de 200 libras para la persona que lo atrapara. Y el Sheriff de Nottingham se empeñó particularmente en esto porque... bueno, porque era su trabajo, supongo? PERO, resulta que además el carajo que mató Robin era su sobrino. #plottwist Y así empezó el juego de policías y ladrones de Robin con el Sheriff. Muchos otros forajidos del bosque se unieron a Robin y lo escogieron como su líder de los malandros, además decidieron que iban a robar en las carreteras solo a los ricos para darle a los pobres. Sin comentarios. En fin,  un día Robin conoció a un hombre mientras estaban a punto de cruzar un puente; El único problema, era que el puente era muy estrecho y solo podía pasar una persona a la vez, que problemón vale, cómo solucionarlo... Pues decidieron que la única forma de resolverlo. UN DUELO A MUERTE NO JODA!!!!! Esooo TESTOSTERONA TESTOSTERONA perdón pero es que- Ok después de unos sólidos 20 min de “duelo a muerte” Robin Hood se dio cuenta de que su contrincante era tan fuerte como él así que le dijo: “Oye, creo que tienes gran potencial para lograr grandes cosas, te gustaría unirte a FORRESTLIFE y ser tú propia ley?” Y se unió. En otra oportunidad el Sheriff mandó a un mercenario a buscar información de Robin Hood; Pero quedó como una payasa porque cuando Robin conoció al mercenario, le dio el mismo discurso y también se unió a su esquema piramidal de robos. Y bueno para ponerle un poco de turbo a esto porque entiendo que ustedes tienen otras vainas que hacer, esa es más o menos la dinámica de todas las aventuras de Robin Hood, al que no podían roban, se les unía. Ya hacía el final de la historia, al fin aparece el rey Richard que estaba de gira por el reino, porque venían unas parlamentarias o algo así. Y cuando llegó a Nottingham el rey quiso saber quién coño era Robin Hood y por qué carajo todo el mundo hablaba de él. Así que el rey decidió disfrazarse (en esta vaina todo el mundo se disfraza ok) e ir a encontrarse con Robin Hood. Cuando FORRESTLIFE lo interceptó para robarlo, el rey trató de sacarles información y descubrió que Robin, estaba rodilla en tierra con él. Por esto el rey reveló su verdadera identidad y lo nombró a él, y a toda su banda, caballeros de la corte y los nuevos miembros de guardia real. Porque ya saben, ¿Qué importa uno que otro crimen? Lo que importa es que estén de tu lado jejejeje Después de muchos años, cuando Robin Hood ya estaba viejo, cayó enfermo y fue a la casa de una prima para que lo cuidara. Pero la jeva le tenía miedo y lo dejo desangrarse hasta que, se murió pero no la juzguen o sea ¿alguna vez han cuidado a un hombre enfermo? Y ya, esa fue la historia de Robin Hood. Recuerden niñitas y niñitos: NO ROBEN CARAJO FIN.'"
            ],
            "application/vnd.google.colaboratory.intrinsic+json": {
              "type": "string"
            }
          },
          "metadata": {},
          "execution_count": 3
        }
      ]
    },
    {
      "cell_type": "markdown",
      "metadata": {
        "id": "3rF_iRjT77Y9"
      },
      "source": [
        " ## Tokenizado de oraciones y palabras:\n",
        "\n",
        "Lo primero que haremos será tokenizar el texto en oraciones y en palabras.\n",
        "\n",
        "Aunque parezca una tarea sencilla -podría argumentarse que donde haya un espacio termina una palabra, o donde haya un punto seguido de una palabra que comience en mayúscula indica el fin de una oración y el inicio de la siguiente-, la misma puede tener singularidades difíciles de codificar desde cero.\n",
        "\n",
        "Tomemos, por ejemplo, la siguiente oración:\n",
        "\n",
        "*El Sr. Ramírez ha visto un enjambre de abejas acercarse.*\n",
        "\n",
        "Tenemos que Sr está seguida de un punto y Ramírez comienza en mayúscula. Aquí ya se cae el argumento que un punto seguido de una palabra que comienza en mayúscula marca el fin de una oración y el inicio de la siguiente.\n",
        "\n",
        "Afortunadamente, la gran mayoría de las librerías  de Python para Procesamiento de Lenguaje Natural -por no decir todas-, cuenta con algoritmos lo suficientemente eficaces como para no cometer esos errores.\n",
        "\n",
        "Para este ejercicio, utilizaremos NTLK ya que, si bien la librería *Polyglot*, relativamente más fácil de usar, cuenta con un algoritmo de tokenización, NLTK es una de las herramientas más antiguas con las que cuenta Python para el Procesamiento de Lenguaje Natural y, aunque quizás su implementación no es la más fácil para principiantes, cuenta con un soporte inmenso de usuarios y una documentación muy detallada."
      ]
    },
    {
      "cell_type": "markdown",
      "metadata": {
        "id": "IQK_ot4xgrAI"
      },
      "source": [
        " ### Importemos las librerías necesarias:"
      ]
    },
    {
      "cell_type": "code",
      "metadata": {
        "id": "lsT_6x6XhIbR"
      },
      "source": [
        "import nltk\n",
        "from nltk.tokenize import word_tokenize, sent_tokenize"
      ],
      "execution_count": null,
      "outputs": []
    },
    {
      "cell_type": "code",
      "metadata": {
        "colab": {
          "base_uri": "https://localhost:8080/"
        },
        "id": "N1tkSIaK_AM-",
        "outputId": "0727b322-1e12-4750-c5b9-45c5c25e42ab"
      },
      "source": [
        "nltk.download('punkt')"
      ],
      "execution_count": null,
      "outputs": [
        {
          "output_type": "stream",
          "name": "stderr",
          "text": [
            "[nltk_data] Downloading package punkt to /root/nltk_data...\n",
            "[nltk_data]   Unzipping tokenizers/punkt.zip.\n"
          ]
        },
        {
          "output_type": "execute_result",
          "data": {
            "text/plain": [
              "True"
            ]
          },
          "metadata": {},
          "execution_count": 5
        }
      ]
    },
    {
      "cell_type": "markdown",
      "metadata": {
        "id": "4j34j6TTpwv4"
      },
      "source": [
        " Veamos cómo funciona la tokenización con un ejemplo sencillo:"
      ]
    },
    {
      "cell_type": "code",
      "metadata": {
        "colab": {
          "base_uri": "https://localhost:8080/"
        },
        "id": "TBjsPFhM-n1L",
        "outputId": "642ca674-a82d-4e42-dda1-f0253b5b93b4"
      },
      "source": [
        "ejemplo = 'El Sr. Ramírez ha visto un enjambre de abejas acercarse. Asustado, corrió como nunca había corrido en su vida. Olvidó que corría directo al precipicio.'\n",
        "tokenized_sentences = sent_tokenize(ejemplo)\n",
        "tokenized_sentences"
      ],
      "execution_count": null,
      "outputs": [
        {
          "output_type": "execute_result",
          "data": {
            "text/plain": [
              "['El Sr. Ramírez ha visto un enjambre de abejas acercarse.',\n",
              " 'Asustado, corrió como nunca había corrido en su vida.',\n",
              " 'Olvidó que corría directo al precipicio.']"
            ]
          },
          "metadata": {},
          "execution_count": 6
        }
      ]
    },
    {
      "cell_type": "markdown",
      "metadata": {
        "id": "t4p5LC7t_Qr3"
      },
      "source": [
        " Como se ve, *tokenized_sentences*, la variable en la que quedó guardada la tokenización de la frase de ejemplo, es una lista de oraciones."
      ]
    },
    {
      "cell_type": "markdown",
      "metadata": {
        "id": "UjydnVVJBVYV"
      },
      "source": [
        " El tokenizado de palabras realiza el mismo procedimiento, con la diferencia de que devuelve una lista de palabras en lugar de oraciones:"
      ]
    },
    {
      "cell_type": "code",
      "metadata": {
        "colab": {
          "base_uri": "https://localhost:8080/"
        },
        "id": "B3Gh-lYqBKXI",
        "outputId": "cb539c3e-4863-41ee-c65e-c469233be66c"
      },
      "source": [
        "tokenized_words = word_tokenize(ejemplo)\n",
        "tokenized_words[:10] #se muestran los primeros diez items"
      ],
      "execution_count": null,
      "outputs": [
        {
          "output_type": "execute_result",
          "data": {
            "text/plain": [
              "['El',\n",
              " 'Sr.',\n",
              " 'Ramírez',\n",
              " 'ha',\n",
              " 'visto',\n",
              " 'un',\n",
              " 'enjambre',\n",
              " 'de',\n",
              " 'abejas',\n",
              " 'acercarse']"
            ]
          },
          "metadata": {},
          "execution_count": 7
        }
      ]
    },
    {
      "cell_type": "markdown",
      "metadata": {
        "id": "aWc8P_o7BrWs"
      },
      "source": [
        "Arriba podemos ver que el método tokenize de la librería NLTK es lo suficientemente hábil como para entender que Sr. -con el punto- constituye una única palabra.\n",
        "\n",
        "Repitamos ambas operaciones con el texto del hilo que estamos analizando:"
      ]
    },
    {
      "cell_type": "code",
      "metadata": {
        "colab": {
          "base_uri": "https://localhost:8080/"
        },
        "id": "lChlCNJm_y-V",
        "outputId": "a3f4a72a-5e3a-45ad-b2c6-42e189ecfec5"
      },
      "source": [
        "robin_hood_tk_sent = sent_tokenize(robin_hood)\n",
        "robin_hood_tk_sent[:5] #se muestran las primeras cinco oraciones"
      ],
      "execution_count": null,
      "outputs": [
        {
          "output_type": "execute_result",
          "data": {
            "text/plain": [
              "['Se me callan.',\n",
              " 'Si, sé que ha pasado mucho tiempo pero díganme una cosa, si Rihanna se ha tomado 5 años de algo que le DA REAL, ¿Yo no puedo descansar dos meses de esto?',\n",
              " 'Para reflexionar.',\n",
              " 'En fin, como los Backstreet Boys: omg I’m back again, y con la historia de Robin Hood.',\n",
              " 'A ver, si hacen memoria, van a recordar que el “Robin Hood” de Disney es un zorro, y todos los personajes son animalitos del bosque.']"
            ]
          },
          "metadata": {},
          "execution_count": 8
        }
      ]
    },
    {
      "cell_type": "code",
      "metadata": {
        "colab": {
          "base_uri": "https://localhost:8080/"
        },
        "id": "x97Mljp0Bzoc",
        "outputId": "0275618b-e20e-42d8-cef7-7a113cea16a7"
      },
      "source": [
        "robin_hood_tk_words = word_tokenize(robin_hood)\n",
        "robin_hood_tk_words[:20] # se muestran los primeros veinte items"
      ],
      "execution_count": null,
      "outputs": [
        {
          "output_type": "execute_result",
          "data": {
            "text/plain": [
              "['Se',\n",
              " 'me',\n",
              " 'callan',\n",
              " '.',\n",
              " 'Si',\n",
              " ',',\n",
              " 'sé',\n",
              " 'que',\n",
              " 'ha',\n",
              " 'pasado',\n",
              " 'mucho',\n",
              " 'tiempo',\n",
              " 'pero',\n",
              " 'díganme',\n",
              " 'una',\n",
              " 'cosa',\n",
              " ',',\n",
              " 'si',\n",
              " 'Rihanna',\n",
              " 'se']"
            ]
          },
          "metadata": {},
          "execution_count": 9
        }
      ]
    },
    {
      "cell_type": "markdown",
      "metadata": {
        "id": "2dGoX08-ZkdO"
      },
      "source": [
        "Lo primero que observamos al imprimir la lista tokenizada de palabras del hilo es que los signos de puntuación forman parte de la misma.\n",
        "\n",
        "Filtremos la lista para reducirla únicamente a expresiones alfanuméricas. Para esto, haremos List Comprehension<sup>1</sup> sobre la lista robin_hood_tk_words aplicando el método *.isalnum()* y guardaremos el resultado en la misma variable, sobreescribiéndola:\n",
        "\n",
        "---\n",
        "<small><sup>1</sup> Si desean ahondar más sobre *List Comprehension*, tengo un tutorial en formato *Jupyter Notebook* [aquí](https://github.com/dan-almenar/Python-List-Comprehension-Tutorial).</small>"
      ]
    },
    {
      "cell_type": "code",
      "metadata": {
        "id": "zrfD4HfNcaT3",
        "colab": {
          "base_uri": "https://localhost:8080/"
        },
        "outputId": "5da31ffa-4852-4ede-e3a4-da2145385bd9"
      },
      "source": [
        "robin_hood_tk_words = [word for word in robin_hood_tk_words if word.isalnum()]\n",
        "robin_hood_tk_words[:20]"
      ],
      "execution_count": null,
      "outputs": [
        {
          "output_type": "execute_result",
          "data": {
            "text/plain": [
              "['Se',\n",
              " 'me',\n",
              " 'callan',\n",
              " 'Si',\n",
              " 'sé',\n",
              " 'que',\n",
              " 'ha',\n",
              " 'pasado',\n",
              " 'mucho',\n",
              " 'tiempo',\n",
              " 'pero',\n",
              " 'díganme',\n",
              " 'una',\n",
              " 'cosa',\n",
              " 'si',\n",
              " 'Rihanna',\n",
              " 'se',\n",
              " 'ha',\n",
              " 'tomado',\n",
              " '5']"
            ]
          },
          "metadata": {},
          "execution_count": 10
        }
      ]
    },
    {
      "cell_type": "markdown",
      "metadata": {
        "id": "0SK7_WEIqpgN"
      },
      "source": [
        " Mucho mejor."
      ]
    },
    {
      "cell_type": "markdown",
      "metadata": {
        "id": "tjdPwoKp1t1L"
      },
      "source": [
        " ## Reconocimiento de entidades (*Named Entities Recognition*):\n",
        "Casi todas las herramientas de Procesamiento de Lenguaje Natural cuenta con algún algoritmo de reconocimiento de entidades. Esto es, un algoritmo que es capaz de encontrar en el texto palabras o conjunto de palabras que constituyen una entidad, sea una persona, una organización, un lugar, un nombre propio -marcas, nombres de libros o publicaciones, etc.- o incluso una referencia de geolocalización.\n",
        "\n",
        "Para esta parte del ejercicio, usaré la librería ***spaCy***, quizás una de las librerías más completas y relativamente fáciles de implementar  de PLN para Python.\n",
        "\n",
        "### Comenzaremos por instalar la librería y las dependencias necesarias:"
      ]
    },
    {
      "cell_type": "code",
      "metadata": {
        "colab": {
          "base_uri": "https://localhost:8080/"
        },
        "id": "WLBS5U-E23TG",
        "outputId": "5f53b5de-932a-4c92-f8f2-038421e6f51b"
      },
      "source": [
        "!pip install -U spacy"
      ],
      "execution_count": null,
      "outputs": [
        {
          "output_type": "stream",
          "name": "stdout",
          "text": [
            "Requirement already satisfied: spacy in /usr/local/lib/python3.10/dist-packages (3.7.6)\n",
            "Requirement already satisfied: spacy-legacy<3.1.0,>=3.0.11 in /usr/local/lib/python3.10/dist-packages (from spacy) (3.0.12)\n",
            "Requirement already satisfied: spacy-loggers<2.0.0,>=1.0.0 in /usr/local/lib/python3.10/dist-packages (from spacy) (1.0.5)\n",
            "Requirement already satisfied: murmurhash<1.1.0,>=0.28.0 in /usr/local/lib/python3.10/dist-packages (from spacy) (1.0.10)\n",
            "Requirement already satisfied: cymem<2.1.0,>=2.0.2 in /usr/local/lib/python3.10/dist-packages (from spacy) (2.0.8)\n",
            "Requirement already satisfied: preshed<3.1.0,>=3.0.2 in /usr/local/lib/python3.10/dist-packages (from spacy) (3.0.9)\n",
            "Requirement already satisfied: thinc<8.3.0,>=8.2.2 in /usr/local/lib/python3.10/dist-packages (from spacy) (8.2.5)\n",
            "Requirement already satisfied: wasabi<1.2.0,>=0.9.1 in /usr/local/lib/python3.10/dist-packages (from spacy) (1.1.3)\n",
            "Requirement already satisfied: srsly<3.0.0,>=2.4.3 in /usr/local/lib/python3.10/dist-packages (from spacy) (2.4.8)\n",
            "Requirement already satisfied: catalogue<2.1.0,>=2.0.6 in /usr/local/lib/python3.10/dist-packages (from spacy) (2.0.10)\n",
            "Requirement already satisfied: weasel<0.5.0,>=0.1.0 in /usr/local/lib/python3.10/dist-packages (from spacy) (0.4.1)\n",
            "Requirement already satisfied: typer<1.0.0,>=0.3.0 in /usr/local/lib/python3.10/dist-packages (from spacy) (0.12.5)\n",
            "Requirement already satisfied: tqdm<5.0.0,>=4.38.0 in /usr/local/lib/python3.10/dist-packages (from spacy) (4.66.5)\n",
            "Requirement already satisfied: requests<3.0.0,>=2.13.0 in /usr/local/lib/python3.10/dist-packages (from spacy) (2.32.3)\n",
            "Requirement already satisfied: pydantic!=1.8,!=1.8.1,<3.0.0,>=1.7.4 in /usr/local/lib/python3.10/dist-packages (from spacy) (2.9.2)\n",
            "Requirement already satisfied: jinja2 in /usr/local/lib/python3.10/dist-packages (from spacy) (3.1.4)\n",
            "Requirement already satisfied: setuptools in /usr/local/lib/python3.10/dist-packages (from spacy) (71.0.4)\n",
            "Requirement already satisfied: packaging>=20.0 in /usr/local/lib/python3.10/dist-packages (from spacy) (24.1)\n",
            "Requirement already satisfied: langcodes<4.0.0,>=3.2.0 in /usr/local/lib/python3.10/dist-packages (from spacy) (3.4.0)\n",
            "Requirement already satisfied: numpy>=1.19.0 in /usr/local/lib/python3.10/dist-packages (from spacy) (1.26.4)\n",
            "Requirement already satisfied: language-data>=1.2 in /usr/local/lib/python3.10/dist-packages (from langcodes<4.0.0,>=3.2.0->spacy) (1.2.0)\n",
            "Requirement already satisfied: annotated-types>=0.6.0 in /usr/local/lib/python3.10/dist-packages (from pydantic!=1.8,!=1.8.1,<3.0.0,>=1.7.4->spacy) (0.7.0)\n",
            "Requirement already satisfied: pydantic-core==2.23.4 in /usr/local/lib/python3.10/dist-packages (from pydantic!=1.8,!=1.8.1,<3.0.0,>=1.7.4->spacy) (2.23.4)\n",
            "Requirement already satisfied: typing-extensions>=4.6.1 in /usr/local/lib/python3.10/dist-packages (from pydantic!=1.8,!=1.8.1,<3.0.0,>=1.7.4->spacy) (4.12.2)\n",
            "Requirement already satisfied: charset-normalizer<4,>=2 in /usr/local/lib/python3.10/dist-packages (from requests<3.0.0,>=2.13.0->spacy) (3.3.2)\n",
            "Requirement already satisfied: idna<4,>=2.5 in /usr/local/lib/python3.10/dist-packages (from requests<3.0.0,>=2.13.0->spacy) (3.10)\n",
            "Requirement already satisfied: urllib3<3,>=1.21.1 in /usr/local/lib/python3.10/dist-packages (from requests<3.0.0,>=2.13.0->spacy) (2.2.3)\n",
            "Requirement already satisfied: certifi>=2017.4.17 in /usr/local/lib/python3.10/dist-packages (from requests<3.0.0,>=2.13.0->spacy) (2024.8.30)\n",
            "Requirement already satisfied: blis<0.8.0,>=0.7.8 in /usr/local/lib/python3.10/dist-packages (from thinc<8.3.0,>=8.2.2->spacy) (0.7.11)\n",
            "Requirement already satisfied: confection<1.0.0,>=0.0.1 in /usr/local/lib/python3.10/dist-packages (from thinc<8.3.0,>=8.2.2->spacy) (0.1.5)\n",
            "Requirement already satisfied: click>=8.0.0 in /usr/local/lib/python3.10/dist-packages (from typer<1.0.0,>=0.3.0->spacy) (8.1.7)\n",
            "Requirement already satisfied: shellingham>=1.3.0 in /usr/local/lib/python3.10/dist-packages (from typer<1.0.0,>=0.3.0->spacy) (1.5.4)\n",
            "Requirement already satisfied: rich>=10.11.0 in /usr/local/lib/python3.10/dist-packages (from typer<1.0.0,>=0.3.0->spacy) (13.8.1)\n",
            "Requirement already satisfied: cloudpathlib<1.0.0,>=0.7.0 in /usr/local/lib/python3.10/dist-packages (from weasel<0.5.0,>=0.1.0->spacy) (0.19.0)\n",
            "Requirement already satisfied: smart-open<8.0.0,>=5.2.1 in /usr/local/lib/python3.10/dist-packages (from weasel<0.5.0,>=0.1.0->spacy) (7.0.4)\n",
            "Requirement already satisfied: MarkupSafe>=2.0 in /usr/local/lib/python3.10/dist-packages (from jinja2->spacy) (2.1.5)\n",
            "Requirement already satisfied: marisa-trie>=0.7.7 in /usr/local/lib/python3.10/dist-packages (from language-data>=1.2->langcodes<4.0.0,>=3.2.0->spacy) (1.2.0)\n",
            "Requirement already satisfied: markdown-it-py>=2.2.0 in /usr/local/lib/python3.10/dist-packages (from rich>=10.11.0->typer<1.0.0,>=0.3.0->spacy) (3.0.0)\n",
            "Requirement already satisfied: pygments<3.0.0,>=2.13.0 in /usr/local/lib/python3.10/dist-packages (from rich>=10.11.0->typer<1.0.0,>=0.3.0->spacy) (2.18.0)\n",
            "Requirement already satisfied: wrapt in /usr/local/lib/python3.10/dist-packages (from smart-open<8.0.0,>=5.2.1->weasel<0.5.0,>=0.1.0->spacy) (1.16.0)\n",
            "Requirement already satisfied: mdurl~=0.1 in /usr/local/lib/python3.10/dist-packages (from markdown-it-py>=2.2.0->rich>=10.11.0->typer<1.0.0,>=0.3.0->spacy) (0.1.2)\n"
          ]
        }
      ]
    },
    {
      "cell_type": "code",
      "metadata": {
        "colab": {
          "base_uri": "https://localhost:8080/"
        },
        "id": "MqMUajO17GDy",
        "outputId": "6d08b507-d67a-4758-b08d-6262293c6a5d"
      },
      "source": [
        "%%bash\n",
        "python -m spacy download es_core_news_lg"
      ],
      "execution_count": null,
      "outputs": [
        {
          "output_type": "stream",
          "name": "stdout",
          "text": [
            "Collecting es-core-news-lg==3.7.0\n",
            "  Downloading https://github.com/explosion/spacy-models/releases/download/es_core_news_lg-3.7.0/es_core_news_lg-3.7.0-py3-none-any.whl (568.0 MB)\n",
            "     ━━━━━━━━━━━━━━━━━━━━━━━━━━━━━━━━━━━━━━━━ 568.0/568.0 MB 2.7 MB/s eta 0:00:00\n",
            "Requirement already satisfied: spacy<3.8.0,>=3.7.0 in /usr/local/lib/python3.10/dist-packages (from es-core-news-lg==3.7.0) (3.7.6)\n",
            "Requirement already satisfied: spacy-legacy<3.1.0,>=3.0.11 in /usr/local/lib/python3.10/dist-packages (from spacy<3.8.0,>=3.7.0->es-core-news-lg==3.7.0) (3.0.12)\n",
            "Requirement already satisfied: spacy-loggers<2.0.0,>=1.0.0 in /usr/local/lib/python3.10/dist-packages (from spacy<3.8.0,>=3.7.0->es-core-news-lg==3.7.0) (1.0.5)\n",
            "Requirement already satisfied: murmurhash<1.1.0,>=0.28.0 in /usr/local/lib/python3.10/dist-packages (from spacy<3.8.0,>=3.7.0->es-core-news-lg==3.7.0) (1.0.10)\n",
            "Requirement already satisfied: cymem<2.1.0,>=2.0.2 in /usr/local/lib/python3.10/dist-packages (from spacy<3.8.0,>=3.7.0->es-core-news-lg==3.7.0) (2.0.8)\n",
            "Requirement already satisfied: preshed<3.1.0,>=3.0.2 in /usr/local/lib/python3.10/dist-packages (from spacy<3.8.0,>=3.7.0->es-core-news-lg==3.7.0) (3.0.9)\n",
            "Requirement already satisfied: thinc<8.3.0,>=8.2.2 in /usr/local/lib/python3.10/dist-packages (from spacy<3.8.0,>=3.7.0->es-core-news-lg==3.7.0) (8.2.5)\n",
            "Requirement already satisfied: wasabi<1.2.0,>=0.9.1 in /usr/local/lib/python3.10/dist-packages (from spacy<3.8.0,>=3.7.0->es-core-news-lg==3.7.0) (1.1.3)\n",
            "Requirement already satisfied: srsly<3.0.0,>=2.4.3 in /usr/local/lib/python3.10/dist-packages (from spacy<3.8.0,>=3.7.0->es-core-news-lg==3.7.0) (2.4.8)\n",
            "Requirement already satisfied: catalogue<2.1.0,>=2.0.6 in /usr/local/lib/python3.10/dist-packages (from spacy<3.8.0,>=3.7.0->es-core-news-lg==3.7.0) (2.0.10)\n",
            "Requirement already satisfied: weasel<0.5.0,>=0.1.0 in /usr/local/lib/python3.10/dist-packages (from spacy<3.8.0,>=3.7.0->es-core-news-lg==3.7.0) (0.4.1)\n",
            "Requirement already satisfied: typer<1.0.0,>=0.3.0 in /usr/local/lib/python3.10/dist-packages (from spacy<3.8.0,>=3.7.0->es-core-news-lg==3.7.0) (0.12.5)\n",
            "Requirement already satisfied: tqdm<5.0.0,>=4.38.0 in /usr/local/lib/python3.10/dist-packages (from spacy<3.8.0,>=3.7.0->es-core-news-lg==3.7.0) (4.66.5)\n",
            "Requirement already satisfied: requests<3.0.0,>=2.13.0 in /usr/local/lib/python3.10/dist-packages (from spacy<3.8.0,>=3.7.0->es-core-news-lg==3.7.0) (2.32.3)\n",
            "Requirement already satisfied: pydantic!=1.8,!=1.8.1,<3.0.0,>=1.7.4 in /usr/local/lib/python3.10/dist-packages (from spacy<3.8.0,>=3.7.0->es-core-news-lg==3.7.0) (2.9.2)\n",
            "Requirement already satisfied: jinja2 in /usr/local/lib/python3.10/dist-packages (from spacy<3.8.0,>=3.7.0->es-core-news-lg==3.7.0) (3.1.4)\n",
            "Requirement already satisfied: setuptools in /usr/local/lib/python3.10/dist-packages (from spacy<3.8.0,>=3.7.0->es-core-news-lg==3.7.0) (71.0.4)\n",
            "Requirement already satisfied: packaging>=20.0 in /usr/local/lib/python3.10/dist-packages (from spacy<3.8.0,>=3.7.0->es-core-news-lg==3.7.0) (24.1)\n",
            "Requirement already satisfied: langcodes<4.0.0,>=3.2.0 in /usr/local/lib/python3.10/dist-packages (from spacy<3.8.0,>=3.7.0->es-core-news-lg==3.7.0) (3.4.0)\n",
            "Requirement already satisfied: numpy>=1.19.0 in /usr/local/lib/python3.10/dist-packages (from spacy<3.8.0,>=3.7.0->es-core-news-lg==3.7.0) (1.26.4)\n",
            "Requirement already satisfied: language-data>=1.2 in /usr/local/lib/python3.10/dist-packages (from langcodes<4.0.0,>=3.2.0->spacy<3.8.0,>=3.7.0->es-core-news-lg==3.7.0) (1.2.0)\n",
            "Requirement already satisfied: annotated-types>=0.6.0 in /usr/local/lib/python3.10/dist-packages (from pydantic!=1.8,!=1.8.1,<3.0.0,>=1.7.4->spacy<3.8.0,>=3.7.0->es-core-news-lg==3.7.0) (0.7.0)\n",
            "Requirement already satisfied: pydantic-core==2.23.4 in /usr/local/lib/python3.10/dist-packages (from pydantic!=1.8,!=1.8.1,<3.0.0,>=1.7.4->spacy<3.8.0,>=3.7.0->es-core-news-lg==3.7.0) (2.23.4)\n",
            "Requirement already satisfied: typing-extensions>=4.6.1 in /usr/local/lib/python3.10/dist-packages (from pydantic!=1.8,!=1.8.1,<3.0.0,>=1.7.4->spacy<3.8.0,>=3.7.0->es-core-news-lg==3.7.0) (4.12.2)\n",
            "Requirement already satisfied: charset-normalizer<4,>=2 in /usr/local/lib/python3.10/dist-packages (from requests<3.0.0,>=2.13.0->spacy<3.8.0,>=3.7.0->es-core-news-lg==3.7.0) (3.3.2)\n",
            "Requirement already satisfied: idna<4,>=2.5 in /usr/local/lib/python3.10/dist-packages (from requests<3.0.0,>=2.13.0->spacy<3.8.0,>=3.7.0->es-core-news-lg==3.7.0) (3.10)\n",
            "Requirement already satisfied: urllib3<3,>=1.21.1 in /usr/local/lib/python3.10/dist-packages (from requests<3.0.0,>=2.13.0->spacy<3.8.0,>=3.7.0->es-core-news-lg==3.7.0) (2.2.3)\n",
            "Requirement already satisfied: certifi>=2017.4.17 in /usr/local/lib/python3.10/dist-packages (from requests<3.0.0,>=2.13.0->spacy<3.8.0,>=3.7.0->es-core-news-lg==3.7.0) (2024.8.30)\n",
            "Requirement already satisfied: blis<0.8.0,>=0.7.8 in /usr/local/lib/python3.10/dist-packages (from thinc<8.3.0,>=8.2.2->spacy<3.8.0,>=3.7.0->es-core-news-lg==3.7.0) (0.7.11)\n",
            "Requirement already satisfied: confection<1.0.0,>=0.0.1 in /usr/local/lib/python3.10/dist-packages (from thinc<8.3.0,>=8.2.2->spacy<3.8.0,>=3.7.0->es-core-news-lg==3.7.0) (0.1.5)\n",
            "Requirement already satisfied: click>=8.0.0 in /usr/local/lib/python3.10/dist-packages (from typer<1.0.0,>=0.3.0->spacy<3.8.0,>=3.7.0->es-core-news-lg==3.7.0) (8.1.7)\n",
            "Requirement already satisfied: shellingham>=1.3.0 in /usr/local/lib/python3.10/dist-packages (from typer<1.0.0,>=0.3.0->spacy<3.8.0,>=3.7.0->es-core-news-lg==3.7.0) (1.5.4)\n",
            "Requirement already satisfied: rich>=10.11.0 in /usr/local/lib/python3.10/dist-packages (from typer<1.0.0,>=0.3.0->spacy<3.8.0,>=3.7.0->es-core-news-lg==3.7.0) (13.8.1)\n",
            "Requirement already satisfied: cloudpathlib<1.0.0,>=0.7.0 in /usr/local/lib/python3.10/dist-packages (from weasel<0.5.0,>=0.1.0->spacy<3.8.0,>=3.7.0->es-core-news-lg==3.7.0) (0.19.0)\n",
            "Requirement already satisfied: smart-open<8.0.0,>=5.2.1 in /usr/local/lib/python3.10/dist-packages (from weasel<0.5.0,>=0.1.0->spacy<3.8.0,>=3.7.0->es-core-news-lg==3.7.0) (7.0.4)\n",
            "Requirement already satisfied: MarkupSafe>=2.0 in /usr/local/lib/python3.10/dist-packages (from jinja2->spacy<3.8.0,>=3.7.0->es-core-news-lg==3.7.0) (2.1.5)\n",
            "Requirement already satisfied: marisa-trie>=0.7.7 in /usr/local/lib/python3.10/dist-packages (from language-data>=1.2->langcodes<4.0.0,>=3.2.0->spacy<3.8.0,>=3.7.0->es-core-news-lg==3.7.0) (1.2.0)\n",
            "Requirement already satisfied: markdown-it-py>=2.2.0 in /usr/local/lib/python3.10/dist-packages (from rich>=10.11.0->typer<1.0.0,>=0.3.0->spacy<3.8.0,>=3.7.0->es-core-news-lg==3.7.0) (3.0.0)\n",
            "Requirement already satisfied: pygments<3.0.0,>=2.13.0 in /usr/local/lib/python3.10/dist-packages (from rich>=10.11.0->typer<1.0.0,>=0.3.0->spacy<3.8.0,>=3.7.0->es-core-news-lg==3.7.0) (2.18.0)\n",
            "Requirement already satisfied: wrapt in /usr/local/lib/python3.10/dist-packages (from smart-open<8.0.0,>=5.2.1->weasel<0.5.0,>=0.1.0->spacy<3.8.0,>=3.7.0->es-core-news-lg==3.7.0) (1.16.0)\n",
            "Requirement already satisfied: mdurl~=0.1 in /usr/local/lib/python3.10/dist-packages (from markdown-it-py>=2.2.0->rich>=10.11.0->typer<1.0.0,>=0.3.0->spacy<3.8.0,>=3.7.0->es-core-news-lg==3.7.0) (0.1.2)\n",
            "Installing collected packages: es-core-news-lg\n",
            "Successfully installed es-core-news-lg-3.7.0\n",
            "\u001b[38;5;2m✔ Download and installation successful\u001b[0m\n",
            "You can now load the package via spacy.load('es_core_news_lg')\n",
            "\u001b[38;5;3m⚠ Restart to reload dependencies\u001b[0m\n",
            "If you are in a Jupyter or Colab notebook, you may need to restart Python in\n",
            "order to load all the package's dependencies. You can do this by selecting the\n",
            "'Restart kernel' or 'Restart runtime' option.\n"
          ]
        }
      ]
    },
    {
      "cell_type": "markdown",
      "metadata": {
        "id": "JosLTO_H7oVj"
      },
      "source": [
        "Importamos la librería y creamos un objeto de la clase Doc, pasando el texto del hilo bajo estudio:"
      ]
    },
    {
      "cell_type": "code",
      "metadata": {
        "colab": {
          "base_uri": "https://localhost:8080/"
        },
        "id": "xZRHQABU8Qu2",
        "outputId": "bb00ecd2-c718-4dff-a569-e3a6e1ec58fd"
      },
      "source": [
        "import spacy\n",
        "\n",
        "nlp = spacy.load('es_core_news_lg')\n",
        "\n",
        "doc = nlp(robin_hood)\n",
        "type(doc)"
      ],
      "execution_count": null,
      "outputs": [
        {
          "output_type": "execute_result",
          "data": {
            "text/plain": [
              "spacy.tokens.doc.Doc"
            ]
          },
          "metadata": {},
          "execution_count": 13
        }
      ]
    },
    {
      "cell_type": "markdown",
      "metadata": {
        "id": "diHkjfc380Pw"
      },
      "source": [
        "Como vemos, la variable *doc* es un objeto del tipo *spacy.tokens.doc.Doc*, que es la estructura principal de la librería *spaCy*.\n",
        "\n",
        "Dicho objeto contiene nuestro texto ya tokenizado y sobre el cuál podemos operar de múltiples formas, pero recordemos que en este ejercicio nos estamos encargando específicamente del **reconocimiento de entidades**, las cuales podemos obtener haciendo una iteración sobre la variable *doc*, filtrando los tokens que hayan sido identificados como entidades del tipo *'MISC'*:"
      ]
    },
    {
      "cell_type": "code",
      "metadata": {
        "colab": {
          "base_uri": "https://localhost:8080/"
        },
        "id": "_3oPNHLo-QcB",
        "outputId": "e2cf96c3-bb97-4b3c-e074-b23336a69994"
      },
      "source": [
        "robin_hood_entities = [(tok.text, tok.label_) for tok in doc.ents if tok.label_ != 'MISC']\n",
        "robin_hood_entities"
      ],
      "execution_count": null,
      "outputs": [
        {
          "output_type": "execute_result",
          "data": {
            "text/plain": [
              "[('Rihanna', 'PER'),\n",
              " ('DA REAL', 'ORG'),\n",
              " ('¿Yo', 'ORG'),\n",
              " ('Backstreet Boys', 'ORG'),\n",
              " ('Robin Hood', 'PER'),\n",
              " ('Disney', 'PER'),\n",
              " ('José Luis', 'PER'),\n",
              " ('HÁBITAT', 'LOC'),\n",
              " ('belen', 'LOC'),\n",
              " ('José Luis', 'PER'),\n",
              " ('Disney', 'PER'),\n",
              " ('Roman de Renart', 'PER'),\n",
              " ('Disney', 'PER'),\n",
              " ('Robin Hood', 'PER'),\n",
              " ('Inglaterra', 'LOC'),\n",
              " ('Pedro Pérez', 'PER'),\n",
              " ('Robin Hood', 'PER'),\n",
              " ('Robin Hood', 'PER'),\n",
              " ('PERO', 'ORG'),\n",
              " ('Howard Pyle', 'PER'),\n",
              " ('CAPERUZA', 'ORG'),\n",
              " ('España', 'LOC'),\n",
              " ('Nottingham', 'LOC'),\n",
              " ('Inglaterra', 'LOC'),\n",
              " ('chevere', 'LOC'),\n",
              " ('Robin Hood', 'PER'),\n",
              " ('Robin', 'PER'),\n",
              " ('Robin', 'PER'),\n",
              " ('Robin', 'PER'),\n",
              " ('Robin', 'PER'),\n",
              " ('FORRESTLIFE', 'ORG'),\n",
              " ('Robin Hood', 'PER'),\n",
              " ('Robin', 'PER'),\n",
              " ('rey Richard', 'PER'),\n",
              " ('Nottingham', 'LOC'),\n",
              " ('Robin Hood', 'PER'),\n",
              " ('Robin Hood', 'PER'),\n",
              " ('FORRESTLIFE', 'ORG'),\n",
              " ('Robin', 'PER'),\n",
              " ('Robin Hood', 'PER'),\n",
              " ('Robin Hood', 'PER')]"
            ]
          },
          "metadata": {},
          "execution_count": 14
        }
      ]
    },
    {
      "cell_type": "markdown",
      "metadata": {
        "id": "TIg1BKvsnhGQ"
      },
      "source": [
        " Como vemos, el algoritmo ha cometido algunos errores -ningún algoritmo es 100% efectivo-. Por ejemplo, ha identificado TESTOSTERONA como un lugar (LOC), al igual que Sino (en Inglés [sino](https://en.m.wikipedia.org/wiki/Sino) es un prefijo que indica procedencia de China).\n",
        "\n",
        "Llama la atención, sin embargo, que la palabra *'TESTOSTERONA'*, siendo que aparece dos veces -seguidas- en el texto del hilo, el algoritmo lo haya etiquetado como un lugar sólo en una de ellas, y le haya aplicado la etiqueta *MISC* en la otra oportunidad (sabemos que fue marcada como *misc* al no aparecer en el listado). Verifiquemos de igual modo:"
      ]
    },
    {
      "cell_type": "code",
      "metadata": {
        "id": "ru1eiw-lp04n"
      },
      "source": [
        "for tok in doc.ents:\n",
        "    if 'TESTOSTERONA' in tok.text:\n",
        "        print(tok.text, tok.label_)"
      ],
      "execution_count": null,
      "outputs": []
    },
    {
      "cell_type": "markdown",
      "metadata": {
        "id": "VcsFoP9vrHEd"
      },
      "source": [
        "Acá está la razón: el algoritmo ha identificado la expresión 'Esooo TESTOSTERONA' como una entidad y luego la repetición de la palabra 'TESTOSTERONA' como *otra* entidad.\n",
        "\n",
        "Sin embargo, el algoritmo ha hecho un buen trabajo identificando nombres de personas. Veamos:"
      ]
    },
    {
      "cell_type": "code",
      "metadata": {
        "colab": {
          "base_uri": "https://localhost:8080/"
        },
        "id": "5rncyhSCswpM",
        "outputId": "6cffeb0b-c819-480f-9499-c71b8a124414"
      },
      "source": [
        "for tok in doc.ents:\n",
        "    if tok.label_ == 'PER':\n",
        "        print(tok.text, tok.label_)"
      ],
      "execution_count": null,
      "outputs": [
        {
          "output_type": "stream",
          "name": "stdout",
          "text": [
            "Rihanna PER\n",
            "Robin Hood PER\n",
            "Disney PER\n",
            "José Luis PER\n",
            "José Luis PER\n",
            "Disney PER\n",
            "Roman de Renart PER\n",
            "Disney PER\n",
            "Robin Hood PER\n",
            "Pedro Pérez PER\n",
            "Robin Hood PER\n",
            "Robin Hood PER\n",
            "Howard Pyle PER\n",
            "Robin Hood PER\n",
            "Robin PER\n",
            "Robin PER\n",
            "Robin PER\n",
            "Robin PER\n",
            "Robin Hood PER\n",
            "Robin PER\n",
            "rey Richard PER\n",
            "Robin Hood PER\n",
            "Robin Hood PER\n",
            "Robin PER\n",
            "Robin Hood PER\n",
            "Robin Hood PER\n"
          ]
        }
      ]
    },
    {
      "cell_type": "markdown",
      "metadata": {
        "id": "Ks_GuvQGtNXr"
      },
      "source": [
        "De una simple lectura del resultado, podemos ver que *spaCy* *pareciera* haberse equivocado al identificar la palabra 'Ajá' como persona. Veamos si es efectivamente un error del algoritmo:\n",
        "\n",
        "Primero busquemos en qué oración de las que tenemos tokenizadas aparece la palabra en cuestión:"
      ]
    },
    {
      "cell_type": "code",
      "metadata": {
        "colab": {
          "base_uri": "https://localhost:8080/"
        },
        "id": "oN0VuaFtuu9b",
        "outputId": "d7f535e0-9bcf-4bf9-fb2f-186936aea024"
      },
      "source": [
        "for sent in robin_hood_tk_sent:\n",
        "    if 'Ajá' in sent:\n",
        "        print(sent)"
      ],
      "execution_count": null,
      "outputs": [
        {
          "output_type": "stream",
          "name": "stdout",
          "text": [
            "Ajá érase una vez en un lugar llamado Nottingham en Inglaterra, vivía un forajido/pran y su banda de forajidos con los que hacía vainas ilegales y de moral dudosa pero vainas ilegales y de moral dudosa que favorecían los intereses de la gente del bosque entonces, chevere pues.\n"
          ]
        }
      ]
    },
    {
      "cell_type": "markdown",
      "metadata": {
        "id": "unv88MnSu8gL"
      },
      "source": [
        " [Ajá](https://dle.rae.es/aj%C3%A1) es una interjección, y una regla del castellano es que las interjecciones que se incorporan a un enunciado deben ser separadas con comas. Sin embargo en este caso no está siendo incorporada a una oración, sino que la sola palabra es en si misma una unidad que ha debido ser escrita entre signos de exclamación.\n",
        "\n",
        "Veamos si arreglando el enunciado el algoritmo de *spaCy* cambia también la entidad:"
      ]
    },
    {
      "cell_type": "code",
      "metadata": {
        "id": "6Wal46yHwsAF"
      },
      "source": [
        "aja = '¡Ajá! Érase una vez en un lugar llamado Nottingham en Inglaterra, vivía un forajido/pran y su banda de forajidos con los que hacía vainas ilegales y de moral dudosa pero vainas ilegales y de moral dudosa que favorecían los intereses de la gente del bosque entonces, chevere pues.'\n",
        "aja_spacy = nlp(aja)\n",
        "for tok in aja_spacy.ents:\n",
        "    if 'Ajá' in tok.text:\n",
        "        print(tok.text, tok.label_)"
      ],
      "execution_count": null,
      "outputs": []
    },
    {
      "cell_type": "markdown",
      "metadata": {
        "id": "ldsoc53ozwZE"
      },
      "source": [
        "Al parecer no fue un error del algoritmo sino un error ortográfico. Recordemos que estos algoritmos siguen modelos prediseñados y a partir de ellos pueden arrojar conclusiones sobre la sintaxis y morfología de un texto, pero **no constituyen un repositorio del contenido total del lenguaje ni de las formas que éste puede adoptar** (lo cual sería un absurdo), y en consecuencia, un error en la sintaxis o en la morfología *puede llevar* a conclusiones erróneas.\n",
        "\n",
        "En cualquier caso, no estamos evaluando acá el correcto uso del lenguaje de  @Bamtheory, más aún teniendo en cuenta que estamos analizando mensajes transmitidos a través de una plataforma en la que en muchísimos casos la sintaxis pasa a ocupar un segundo plano."
      ]
    },
    {
      "cell_type": "markdown",
      "metadata": {
        "id": "65tY3YT-0eI0"
      },
      "source": [
        " De momento, retomemos el ejercicio y simplemente eliminemos '*Ajá*' de los resultados de personas en el reconocimiento de entidades:"
      ]
    },
    {
      "cell_type": "code",
      "metadata": {
        "colab": {
          "base_uri": "https://localhost:8080/"
        },
        "id": "VHQEoD8-1oNg",
        "outputId": "6f8eaafb-8414-4c85-c9a3-ed9685ce7880"
      },
      "source": [
        "robin_hood_pers = [tok for tok in doc.ents if tok.label_ == 'PER' and 'Ajá' not in tok.text]\n",
        "for tok in robin_hood_pers:\n",
        "    print(tok.text, tok.label_)"
      ],
      "execution_count": null,
      "outputs": [
        {
          "output_type": "stream",
          "name": "stdout",
          "text": [
            "Rihanna PER\n",
            "Robin Hood PER\n",
            "Disney PER\n",
            "José Luis PER\n",
            "José Luis PER\n",
            "Disney PER\n",
            "Roman de Renart PER\n",
            "Disney PER\n",
            "Robin Hood PER\n",
            "Pedro Pérez PER\n",
            "Robin Hood PER\n",
            "Robin Hood PER\n",
            "Howard Pyle PER\n",
            "Robin Hood PER\n",
            "Robin PER\n",
            "Robin PER\n",
            "Robin PER\n",
            "Robin PER\n",
            "Robin Hood PER\n",
            "Robin PER\n",
            "rey Richard PER\n",
            "Robin Hood PER\n",
            "Robin Hood PER\n",
            "Robin PER\n",
            "Robin Hood PER\n",
            "Robin Hood PER\n"
          ]
        }
      ]
    },
    {
      "cell_type": "markdown",
      "metadata": {
        "id": "daw_-sd9DWk1"
      },
      "source": [
        " Veamos cuántas veces aparece cada entidad identificada como 'PER' (persona):"
      ]
    },
    {
      "cell_type": "code",
      "metadata": {
        "colab": {
          "base_uri": "https://localhost:8080/"
        },
        "id": "6Dgy5AIiF3Nf",
        "outputId": "fb30aacf-f442-435d-bbb0-99e4db61505e"
      },
      "source": [
        "from collections import Counter\n",
        "\n",
        "robin_hood_names = [tok.text for tok in doc.ents if tok.label_ == 'PER' and 'Ajá' not in tok.text]\n",
        "pers_counter = Counter(robin_hood_names)\n",
        "pers_counter = list(reversed(pers_counter.most_common()))\n",
        "pers_counter"
      ],
      "execution_count": null,
      "outputs": [
        {
          "output_type": "execute_result",
          "data": {
            "text/plain": [
              "[('rey Richard', 1),\n",
              " ('Howard Pyle', 1),\n",
              " ('Pedro Pérez', 1),\n",
              " ('Roman de Renart', 1),\n",
              " ('Rihanna', 1),\n",
              " ('José Luis', 2),\n",
              " ('Disney', 3),\n",
              " ('Robin', 6),\n",
              " ('Robin Hood', 10)]"
            ]
          },
          "metadata": {},
          "execution_count": 20
        }
      ]
    },
    {
      "cell_type": "markdown",
      "metadata": {
        "id": "H-Ml4qRTImTn"
      },
      "source": [
        " Separemos en dos listas separadas los nombres de la cantidad de repeticiones de cada uno:"
      ]
    },
    {
      "cell_type": "code",
      "metadata": {
        "id": "p0CLSZvSH0gI"
      },
      "source": [
        "names = [name for name, count in pers_counter]\n",
        "count = [count for name, count in pers_counter]"
      ],
      "execution_count": null,
      "outputs": []
    },
    {
      "cell_type": "markdown",
      "metadata": {
        "id": "JVKnViKfIuzr"
      },
      "source": [
        " Finalmente, importemos *matplotlib.pyplot* a nuestro proyecto y grafiquemos el resultado:"
      ]
    },
    {
      "cell_type": "code",
      "metadata": {
        "id": "ouy8wWL5oEWF"
      },
      "source": [
        "import matplotlib.pyplot as plt"
      ],
      "execution_count": null,
      "outputs": []
    },
    {
      "cell_type": "code",
      "metadata": {
        "colab": {
          "base_uri": "https://localhost:8080/",
          "height": 341
        },
        "id": "OjW_BgFs5SAS",
        "outputId": "d3b940ac-af1b-4c38-b1c9-bf6dc0b27645"
      },
      "source": [
        "plt.figure(figsize=(10, 3))\n",
        "plt.subplot(121)\n",
        "barh = plt.barh(names, count)\n",
        "plt.title('Comparativa de entidades \\'PER\\'\\n(persona) en el hilo de Robin Hood')\n",
        "plt.subplot(122)\n",
        "pie = plt.pie(count, labels=names, wedgeprops={'edgecolor': 'black'},\n",
        "              radius=1.5, shadow=True)\n",
        "plt.style.use('fivethirtyeight')\n",
        "plt.show()"
      ],
      "execution_count": null,
      "outputs": [
        {
          "output_type": "display_data",
          "data": {
            "text/plain": [
              "<Figure size 1000x300 with 2 Axes>"
            ],
            "image/png": "[encoded data removed]"
          },
          "metadata": {}
        }
      ]
    },
    {
      "cell_type": "markdown",
      "metadata": {
        "id": "7c0zOg1j_9gw"
      },
      "source": [
        "Veamos un ejemplo de cómo podemos **representar gráficamente** la información contenida en la variable *doc* (recordemos que es un objeto de la clase Doc de spacy), mediante el método *displacy* de la librería:"
      ]
    },
    {
      "cell_type": "code",
      "metadata": {
        "colab": {
          "base_uri": "https://localhost:8080/",
          "height": 1000
        },
        "id": "4FN2u1ffG-kL",
        "outputId": "fe977cd5-537d-4a4a-e90b-f911f182df42"
      },
      "source": [
        "from spacy import displacy\n",
        "\n",
        "displacy.render(doc, style='ent', jupyter=True)"
      ],
      "execution_count": null,
      "outputs": [
        {
          "output_type": "display_data",
          "data": {
            "text/plain": [
              "<IPython.core.display.HTML object>"
            ],
            "text/html": [
              "<span class=\"tex2jax_ignore\"><div class=\"entities\" style=\"line-height: 2.5; direction: ltr\">Se me callan. Si, sé que ha pasado mucho tiempo pero díganme una cosa, si \n",
              "<mark class=\"entity\" style=\"background: #ddd; padding: 0.45em 0.6em; margin: 0 0.25em; line-height: 1; border-radius: 0.35em;\">\n",
              "    Rihanna\n",
              "    <span style=\"font-size: 0.8em; font-weight: bold; line-height: 1; border-radius: 0.35em; vertical-align: middle; margin-left: 0.5rem\">PER</span>\n",
              "</mark>\n",
              " se ha tomado 5 años de algo que le \n",
              "<mark class=\"entity\" style=\"background: #7aecec; padding: 0.45em 0.6em; margin: 0 0.25em; line-height: 1; border-radius: 0.35em;\">\n",
              "    DA REAL\n",
              "    <span style=\"font-size: 0.8em; font-weight: bold; line-height: 1; border-radius: 0.35em; vertical-align: middle; margin-left: 0.5rem\">ORG</span>\n",
              "</mark>\n",
              ", \n",
              "<mark class=\"entity\" style=\"background: #7aecec; padding: 0.45em 0.6em; margin: 0 0.25em; line-height: 1; border-radius: 0.35em;\">\n",
              "    ¿Yo\n",
              "    <span style=\"font-size: 0.8em; font-weight: bold; line-height: 1; border-radius: 0.35em; vertical-align: middle; margin-left: 0.5rem\">ORG</span>\n",
              "</mark>\n",
              " no puedo descansar dos meses de esto? Para reflexionar. En fin, como los \n",
              "<mark class=\"entity\" style=\"background: #7aecec; padding: 0.45em 0.6em; margin: 0 0.25em; line-height: 1; border-radius: 0.35em;\">\n",
              "    Backstreet Boys\n",
              "    <span style=\"font-size: 0.8em; font-weight: bold; line-height: 1; border-radius: 0.35em; vertical-align: middle; margin-left: 0.5rem\">ORG</span>\n",
              "</mark>\n",
              ": omg I’m back again, y con la historia de \n",
              "<mark class=\"entity\" style=\"background: #ddd; padding: 0.45em 0.6em; margin: 0 0.25em; line-height: 1; border-radius: 0.35em;\">\n",
              "    Robin Hood\n",
              "    <span style=\"font-size: 0.8em; font-weight: bold; line-height: 1; border-radius: 0.35em; vertical-align: middle; margin-left: 0.5rem\">PER</span>\n",
              "</mark>\n",
              ". \n",
              "<mark class=\"entity\" style=\"background: #ddd; padding: 0.45em 0.6em; margin: 0 0.25em; line-height: 1; border-radius: 0.35em;\">\n",
              "    A ver,\n",
              "    <span style=\"font-size: 0.8em; font-weight: bold; line-height: 1; border-radius: 0.35em; vertical-align: middle; margin-left: 0.5rem\">MISC</span>\n",
              "</mark>\n",
              " si hacen memoria, van a recordar que el “\n",
              "<mark class=\"entity\" style=\"background: #ddd; padding: 0.45em 0.6em; margin: 0 0.25em; line-height: 1; border-radius: 0.35em;\">\n",
              "    Robin Hood\n",
              "    <span style=\"font-size: 0.8em; font-weight: bold; line-height: 1; border-radius: 0.35em; vertical-align: middle; margin-left: 0.5rem\">MISC</span>\n",
              "</mark>\n",
              "” de \n",
              "<mark class=\"entity\" style=\"background: #ddd; padding: 0.45em 0.6em; margin: 0 0.25em; line-height: 1; border-radius: 0.35em;\">\n",
              "    Disney\n",
              "    <span style=\"font-size: 0.8em; font-weight: bold; line-height: 1; border-radius: 0.35em; vertical-align: middle; margin-left: 0.5rem\">PER</span>\n",
              "</mark>\n",
              " es un zorro, y todos los personajes son animalitos del bosque. \n",
              "<mark class=\"entity\" style=\"background: #ddd; padding: 0.45em 0.6em; margin: 0 0.25em; line-height: 1; border-radius: 0.35em;\">\n",
              "    José Luis\n",
              "    <span style=\"font-size: 0.8em; font-weight: bold; line-height: 1; border-radius: 0.35em; vertical-align: middle; margin-left: 0.5rem\">PER</span>\n",
              "</mark>\n",
              " dirá: “Los zorros y los leones no tienen el mismo \n",
              "<mark class=\"entity\" style=\"background: #ff9561; padding: 0.45em 0.6em; margin: 0 0.25em; line-height: 1; border-radius: 0.35em;\">\n",
              "    HÁBITAT\n",
              "    <span style=\"font-size: 0.8em; font-weight: bold; line-height: 1; border-radius: 0.35em; vertical-align: middle; margin-left: 0.5rem\">LOC</span>\n",
              "</mark>\n",
              ", \n",
              "<mark class=\"entity\" style=\"background: #ff9561; padding: 0.45em 0.6em; margin: 0 0.25em; line-height: 1; border-radius: 0.35em;\">\n",
              "    belen\n",
              "    <span style=\"font-size: 0.8em; font-weight: bold; line-height: 1; border-radius: 0.35em; vertical-align: middle; margin-left: 0.5rem\">LOC</span>\n",
              "</mark>\n",
              "”. Tienes razón \n",
              "<mark class=\"entity\" style=\"background: #ddd; padding: 0.45em 0.6em; margin: 0 0.25em; line-height: 1; border-radius: 0.35em;\">\n",
              "    José Luis\n",
              "    <span style=\"font-size: 0.8em; font-weight: bold; line-height: 1; border-radius: 0.35em; vertical-align: middle; margin-left: 0.5rem\">PER</span>\n",
              "</mark>\n",
              ", pero estos animales son arquetipos, cállate. Esta decisión no fue simplemente una picada de culo de \n",
              "<mark class=\"entity\" style=\"background: #ddd; padding: 0.45em 0.6em; margin: 0 0.25em; line-height: 1; border-radius: 0.35em;\">\n",
              "    Disney\n",
              "    <span style=\"font-size: 0.8em; font-weight: bold; line-height: 1; border-radius: 0.35em; vertical-align: middle; margin-left: 0.5rem\">PER</span>\n",
              "</mark>\n",
              ". \n",
              "<mark class=\"entity\" style=\"background: #ddd; padding: 0.45em 0.6em; margin: 0 0.25em; line-height: 1; border-radius: 0.35em;\">\n",
              "    Sino\n",
              "    <span style=\"font-size: 0.8em; font-weight: bold; line-height: 1; border-radius: 0.35em; vertical-align: middle; margin-left: 0.5rem\">MISC</span>\n",
              "</mark>\n",
              " que en verdad la película está basada en dos cosas: 1. \n",
              "<mark class=\"entity\" style=\"background: #ddd; padding: 0.45em 0.6em; margin: 0 0.25em; line-height: 1; border-radius: 0.35em;\">\n",
              "    Robin Hood\n",
              "    <span style=\"font-size: 0.8em; font-weight: bold; line-height: 1; border-radius: 0.35em; vertical-align: middle; margin-left: 0.5rem\">MISC</span>\n",
              "</mark>\n",
              " (yo también estoy en shock) y 2. \n",
              "<mark class=\"entity\" style=\"background: #ddd; padding: 0.45em 0.6em; margin: 0 0.25em; line-height: 1; border-radius: 0.35em;\">\n",
              "    Renart el Zorro\n",
              "    <span style=\"font-size: 0.8em; font-weight: bold; line-height: 1; border-radius: 0.35em; vertical-align: middle; margin-left: 0.5rem\">MISC</span>\n",
              "</mark>\n",
              ". \n",
              "<mark class=\"entity\" style=\"background: #ddd; padding: 0.45em 0.6em; margin: 0 0.25em; line-height: 1; border-radius: 0.35em;\">\n",
              "    Renart el zorro\n",
              "    <span style=\"font-size: 0.8em; font-weight: bold; line-height: 1; border-radius: 0.35em; vertical-align: middle; margin-left: 0.5rem\">MISC</span>\n",
              "</mark>\n",
              " o \n",
              "<mark class=\"entity\" style=\"background: #ddd; padding: 0.45em 0.6em; margin: 0 0.25em; line-height: 1; border-radius: 0.35em;\">\n",
              "    Roman de Renart\n",
              "    <span style=\"font-size: 0.8em; font-weight: bold; line-height: 1; border-radius: 0.35em; vertical-align: middle; margin-left: 0.5rem\">PER</span>\n",
              "</mark>\n",
              ", son todo un conjunto de \n",
              "<mark class=\"entity\" style=\"background: #ddd; padding: 0.45em 0.6em; margin: 0 0.25em; line-height: 1; border-radius: 0.35em;\">\n",
              "    Fábulas francesas\n",
              "    <span style=\"font-size: 0.8em; font-weight: bold; line-height: 1; border-radius: 0.35em; vertical-align: middle; margin-left: 0.5rem\">MISC</span>\n",
              "</mark>\n",
              " entre los siglos XII y XIII, que básicamente parodiaban las novelas épicas y generalmente tenían un tono bien sarcástico. O sea la gente antes de tener twitter, tenían las fábulas de \n",
              "<mark class=\"entity\" style=\"background: #ddd; padding: 0.45em 0.6em; margin: 0 0.25em; line-height: 1; border-radius: 0.35em;\">\n",
              "    Renart\n",
              "    <span style=\"font-size: 0.8em; font-weight: bold; line-height: 1; border-radius: 0.35em; vertical-align: middle; margin-left: 0.5rem\">MISC</span>\n",
              "</mark>\n",
              ", pues. Entonces, ¿qué hizo \n",
              "<mark class=\"entity\" style=\"background: #ddd; padding: 0.45em 0.6em; margin: 0 0.25em; line-height: 1; border-radius: 0.35em;\">\n",
              "    Disney\n",
              "    <span style=\"font-size: 0.8em; font-weight: bold; line-height: 1; border-radius: 0.35em; vertical-align: middle; margin-left: 0.5rem\">PER</span>\n",
              "</mark>\n",
              "? Pues agarro dos historias, y a todos los animalitos de \n",
              "<mark class=\"entity\" style=\"background: #ddd; padding: 0.45em 0.6em; margin: 0 0.25em; line-height: 1; border-radius: 0.35em;\">\n",
              "    Renart el zorro\n",
              "    <span style=\"font-size: 0.8em; font-weight: bold; line-height: 1; border-radius: 0.35em; vertical-align: middle; margin-left: 0.5rem\">MISC</span>\n",
              "</mark>\n",
              " les asignó un personaje de \n",
              "<mark class=\"entity\" style=\"background: #ddd; padding: 0.45em 0.6em; margin: 0 0.25em; line-height: 1; border-radius: 0.35em;\">\n",
              "    Robin Hood\n",
              "    <span style=\"font-size: 0.8em; font-weight: bold; line-height: 1; border-radius: 0.35em; vertical-align: middle; margin-left: 0.5rem\">PER</span>\n",
              "</mark>\n",
              " y nos dieron un 2x1 en vez de hacer dos películas; \n",
              "<mark class=\"entity\" style=\"background: #ddd; padding: 0.45em 0.6em; margin: 0 0.25em; line-height: 1; border-radius: 0.35em;\">\n",
              "    Yo particularmente me siento estafada\n",
              "    <span style=\"font-size: 0.8em; font-weight: bold; line-height: 1; border-radius: 0.35em; vertical-align: middle; margin-left: 0.5rem\">MISC</span>\n",
              "</mark>\n",
              ", pero... Les voy a hacer lo mismo. \n",
              "<mark class=\"entity\" style=\"background: #ddd; padding: 0.45em 0.6em; margin: 0 0.25em; line-height: 1; border-radius: 0.35em;\">\n",
              "    Primero.\n",
              "    <span style=\"font-size: 0.8em; font-weight: bold; line-height: 1; border-radius: 0.35em; vertical-align: middle; margin-left: 0.5rem\">MISC</span>\n",
              "</mark>\n",
              " Salgamos del elefante en la habitación: ¿\n",
              "<mark class=\"entity\" style=\"background: #ddd; padding: 0.45em 0.6em; margin: 0 0.25em; line-height: 1; border-radius: 0.35em;\">\n",
              "    Robin Hood\n",
              "    <span style=\"font-size: 0.8em; font-weight: bold; line-height: 1; border-radius: 0.35em; vertical-align: middle; margin-left: 0.5rem\">MISC</span>\n",
              "</mark>\n",
              " existió? Miren, no sé, \n",
              "<mark class=\"entity\" style=\"background: #ddd; padding: 0.45em 0.6em; margin: 0 0.25em; line-height: 1; border-radius: 0.35em;\">\n",
              "    Los historiadores tampoco.\n",
              "    <span style=\"font-size: 0.8em; font-weight: bold; line-height: 1; border-radius: 0.35em; vertical-align: middle; margin-left: 0.5rem\">MISC</span>\n",
              "</mark>\n",
              " \n",
              "<mark class=\"entity\" style=\"background: #ddd; padding: 0.45em 0.6em; margin: 0 0.25em; line-height: 1; border-radius: 0.35em;\">\n",
              "    Lo cierto\n",
              "    <span style=\"font-size: 0.8em; font-weight: bold; line-height: 1; border-radius: 0.35em; vertical-align: middle; margin-left: 0.5rem\">MISC</span>\n",
              "</mark>\n",
              " es que en la \n",
              "<mark class=\"entity\" style=\"background: #ff9561; padding: 0.45em 0.6em; margin: 0 0.25em; line-height: 1; border-radius: 0.35em;\">\n",
              "    Inglaterra\n",
              "    <span style=\"font-size: 0.8em; font-weight: bold; line-height: 1; border-radius: 0.35em; vertical-align: middle; margin-left: 0.5rem\">LOC</span>\n",
              "</mark>\n",
              " de la época,  \n",
              "<mark class=\"entity\" style=\"background: #ddd; padding: 0.45em 0.6em; margin: 0 0.25em; line-height: 1; border-radius: 0.35em;\">\n",
              "    Robin Hood\n",
              "    <span style=\"font-size: 0.8em; font-weight: bold; line-height: 1; border-radius: 0.35em; vertical-align: middle; margin-left: 0.5rem\">MISC</span>\n",
              "</mark>\n",
              " era como llamarte \n",
              "<mark class=\"entity\" style=\"background: #ddd; padding: 0.45em 0.6em; margin: 0 0.25em; line-height: 1; border-radius: 0.35em;\">\n",
              "    Pedro Pérez\n",
              "    <span style=\"font-size: 0.8em; font-weight: bold; line-height: 1; border-radius: 0.35em; vertical-align: middle; margin-left: 0.5rem\">PER</span>\n",
              "</mark>\n",
              ", así que quizás todas las historias se refieran a un ejercito de carajos. \n",
              "<mark class=\"entity\" style=\"background: #ddd; padding: 0.45em 0.6em; margin: 0 0.25em; line-height: 1; border-radius: 0.35em;\">\n",
              "    Bueno\n",
              "    <span style=\"font-size: 0.8em; font-weight: bold; line-height: 1; border-radius: 0.35em; vertical-align: middle; margin-left: 0.5rem\">MISC</span>\n",
              "</mark>\n",
              ". \n",
              "<mark class=\"entity\" style=\"background: #ddd; padding: 0.45em 0.6em; margin: 0 0.25em; line-height: 1; border-radius: 0.35em;\">\n",
              "    Robin Hood\n",
              "    <span style=\"font-size: 0.8em; font-weight: bold; line-height: 1; border-radius: 0.35em; vertical-align: middle; margin-left: 0.5rem\">MISC</span>\n",
              "</mark>\n",
              " es un hero legendario del folclore inglés del siglo XIII que básicamente es la pesadilla de cualquier \n",
              "<mark class=\"entity\" style=\"background: #ddd; padding: 0.45em 0.6em; margin: 0 0.25em; line-height: 1; border-radius: 0.35em;\">\n",
              "    MAGAzolano\n",
              "    <span style=\"font-size: 0.8em; font-weight: bold; line-height: 1; border-radius: 0.35em; vertical-align: middle; margin-left: 0.5rem\">MISC</span>\n",
              "</mark>\n",
              ". \n",
              "<mark class=\"entity\" style=\"background: #ddd; padding: 0.45em 0.6em; margin: 0 0.25em; line-height: 1; border-radius: 0.35em;\">\n",
              "    Robin Hood\n",
              "    <span style=\"font-size: 0.8em; font-weight: bold; line-height: 1; border-radius: 0.35em; vertical-align: middle; margin-left: 0.5rem\">PER</span>\n",
              "</mark>\n",
              " se caracterizaba por ser excelente con el arco y flecha, robaba a los ricos para darle a los pobres y usaba leggings verde pro-choice. Como ya dije, \n",
              "<mark class=\"entity\" style=\"background: #ddd; padding: 0.45em 0.6em; margin: 0 0.25em; line-height: 1; border-radius: 0.35em;\">\n",
              "    Robin Hood\n",
              "    <span style=\"font-size: 0.8em; font-weight: bold; line-height: 1; border-radius: 0.35em; vertical-align: middle; margin-left: 0.5rem\">PER</span>\n",
              "</mark>\n",
              " es parte del folclore inglés y son historias viejísimas. \n",
              "<mark class=\"entity\" style=\"background: #ddd; padding: 0.45em 0.6em; margin: 0 0.25em; line-height: 1; border-radius: 0.35em;\">\n",
              "    Entre los siglos XIII\n",
              "    <span style=\"font-size: 0.8em; font-weight: bold; line-height: 1; border-radius: 0.35em; vertical-align: middle; margin-left: 0.5rem\">MISC</span>\n",
              "</mark>\n",
              " y XIV hay demasiadas fábulas, cuentos, baladas, changas, tecnomerengues y salsas de camionetica de las aventuras de Robin Hood; y eso representa un problema para su servidora. Pero, \n",
              "<mark class=\"entity\" style=\"background: #7aecec; padding: 0.45em 0.6em; margin: 0 0.25em; line-height: 1; border-radius: 0.35em;\">\n",
              "    PERO\n",
              "    <span style=\"font-size: 0.8em; font-weight: bold; line-height: 1; border-radius: 0.35em; vertical-align: middle; margin-left: 0.5rem\">ORG</span>\n",
              "</mark>\n",
              ", en 1883 llegó a salvar mi vida \n",
              "<mark class=\"entity\" style=\"background: #ddd; padding: 0.45em 0.6em; margin: 0 0.25em; line-height: 1; border-radius: 0.35em;\">\n",
              "    Howard Pyle\n",
              "    <span style=\"font-size: 0.8em; font-weight: bold; line-height: 1; border-radius: 0.35em; vertical-align: middle; margin-left: 0.5rem\">PER</span>\n",
              "</mark>\n",
              ". \n",
              "<mark class=\"entity\" style=\"background: #ddd; padding: 0.45em 0.6em; margin: 0 0.25em; line-height: 1; border-radius: 0.35em;\">\n",
              "    Que agarró todas esas changas\n",
              "    <span style=\"font-size: 0.8em; font-weight: bold; line-height: 1; border-radius: 0.35em; vertical-align: middle; margin-left: 0.5rem\">MISC</span>\n",
              "</mark>\n",
              " y las recopiló en un solo libro que se llama “\n",
              "<mark class=\"entity\" style=\"background: #ddd; padding: 0.45em 0.6em; margin: 0 0.25em; line-height: 1; border-radius: 0.35em;\">\n",
              "    The merry adventures of Robin Hood\n",
              "    <span style=\"font-size: 0.8em; font-weight: bold; line-height: 1; border-radius: 0.35em; vertical-align: middle; margin-left: 0.5rem\">MISC</span>\n",
              "</mark>\n",
              "” o “LAS FLIPANTES \n",
              "<mark class=\"entity\" style=\"background: #ddd; padding: 0.45em 0.6em; margin: 0 0.25em; line-height: 1; border-radius: 0.35em;\">\n",
              "    AVENTURAS DEL\n",
              "    <span style=\"font-size: 0.8em; font-weight: bold; line-height: 1; border-radius: 0.35em; vertical-align: middle; margin-left: 0.5rem\">MISC</span>\n",
              "</mark>\n",
              " PILLO CON \n",
              "<mark class=\"entity\" style=\"background: #7aecec; padding: 0.45em 0.6em; margin: 0 0.25em; line-height: 1; border-radius: 0.35em;\">\n",
              "    CAPERUZA\n",
              "    <span style=\"font-size: 0.8em; font-weight: bold; line-height: 1; border-radius: 0.35em; vertical-align: middle; margin-left: 0.5rem\">ORG</span>\n",
              "</mark>\n",
              "” Como le dicen en \n",
              "<mark class=\"entity\" style=\"background: #ff9561; padding: 0.45em 0.6em; margin: 0 0.25em; line-height: 1; border-radius: 0.35em;\">\n",
              "    España\n",
              "    <span style=\"font-size: 0.8em; font-weight: bold; line-height: 1; border-radius: 0.35em; vertical-align: middle; margin-left: 0.5rem\">LOC</span>\n",
              "</mark>\n",
              ". \n",
              "<mark class=\"entity\" style=\"background: #ddd; padding: 0.45em 0.6em; margin: 0 0.25em; line-height: 1; border-radius: 0.35em;\">\n",
              "    Ajá\n",
              "    <span style=\"font-size: 0.8em; font-weight: bold; line-height: 1; border-radius: 0.35em; vertical-align: middle; margin-left: 0.5rem\">MISC</span>\n",
              "</mark>\n",
              " érase una vez en un lugar llamado \n",
              "<mark class=\"entity\" style=\"background: #ff9561; padding: 0.45em 0.6em; margin: 0 0.25em; line-height: 1; border-radius: 0.35em;\">\n",
              "    Nottingham\n",
              "    <span style=\"font-size: 0.8em; font-weight: bold; line-height: 1; border-radius: 0.35em; vertical-align: middle; margin-left: 0.5rem\">LOC</span>\n",
              "</mark>\n",
              " en \n",
              "<mark class=\"entity\" style=\"background: #ff9561; padding: 0.45em 0.6em; margin: 0 0.25em; line-height: 1; border-radius: 0.35em;\">\n",
              "    Inglaterra\n",
              "    <span style=\"font-size: 0.8em; font-weight: bold; line-height: 1; border-radius: 0.35em; vertical-align: middle; margin-left: 0.5rem\">LOC</span>\n",
              "</mark>\n",
              ", vivía un forajido/pran y su banda de forajidos con los que hacía vainas ilegales y de moral dudosa pero vainas ilegales y de moral dudosa que favorecían los intereses de la gente del bosque entonces, \n",
              "<mark class=\"entity\" style=\"background: #ff9561; padding: 0.45em 0.6em; margin: 0 0.25em; line-height: 1; border-radius: 0.35em;\">\n",
              "    chevere\n",
              "    <span style=\"font-size: 0.8em; font-weight: bold; line-height: 1; border-radius: 0.35em; vertical-align: middle; margin-left: 0.5rem\">LOC</span>\n",
              "</mark>\n",
              " pues. Pero la historia no empieza ahí. Cuando \n",
              "<mark class=\"entity\" style=\"background: #ddd; padding: 0.45em 0.6em; margin: 0 0.25em; line-height: 1; border-radius: 0.35em;\">\n",
              "    Robin Hood\n",
              "    <span style=\"font-size: 0.8em; font-weight: bold; line-height: 1; border-radius: 0.35em; vertical-align: middle; margin-left: 0.5rem\">PER</span>\n",
              "</mark>\n",
              " tenía 18 años, decidió participar en un torneo del rey de arquería, por el gran y generoso premio de, y no estoy inventando, \n",
              "<mark class=\"entity\" style=\"background: #ddd; padding: 0.45em 0.6em; margin: 0 0.25em; line-height: 1; border-radius: 0.35em;\">\n",
              "    UN BARRIL\n",
              "    <span style=\"font-size: 0.8em; font-weight: bold; line-height: 1; border-radius: 0.35em; vertical-align: middle; margin-left: 0.5rem\">MISC</span>\n",
              "</mark>\n",
              " (1) DE CERVEZA. \n",
              "<mark class=\"entity\" style=\"background: #ddd; padding: 0.45em 0.6em; margin: 0 0.25em; line-height: 1; border-radius: 0.35em;\">\n",
              "    Y nada, Robin\n",
              "    <span style=\"font-size: 0.8em; font-weight: bold; line-height: 1; border-radius: 0.35em; vertical-align: middle; margin-left: 0.5rem\">MISC</span>\n",
              "</mark>\n",
              " estaba en el torneo ahí como en su peo; Hasta que llegó un grupo de hombres blancos católicos y heterosexuales y empezaron a decirle: “ Qué vas a saber tú de arquería mariquito ahí con tus leggings” mientras le lanzaban flechas. \n",
              "<mark class=\"entity\" style=\"background: #ddd; padding: 0.45em 0.6em; margin: 0 0.25em; line-height: 1; border-radius: 0.35em;\">\n",
              "    Robin\n",
              "    <span style=\"font-size: 0.8em; font-weight: bold; line-height: 1; border-radius: 0.35em; vertical-align: middle; margin-left: 0.5rem\">PER</span>\n",
              "</mark>\n",
              ", en defensa propia, mató a uno de los carajos. Y nada, al ver lo que había hecho, se cagó y huyó al bosque donde decidió convertirse en un, ehem, delincuente para siempre \n",
              "<mark class=\"entity\" style=\"background: #ddd; padding: 0.45em 0.6em; margin: 0 0.25em; line-height: 1; border-radius: 0.35em;\">\n",
              "    Por esto\n",
              "    <span style=\"font-size: 0.8em; font-weight: bold; line-height: 1; border-radius: 0.35em; vertical-align: middle; margin-left: 0.5rem\">MISC</span>\n",
              "</mark>\n",
              ", pusieron una recompensa de 200 libras para la persona que lo atrapara. \n",
              "<mark class=\"entity\" style=\"background: #ddd; padding: 0.45em 0.6em; margin: 0 0.25em; line-height: 1; border-radius: 0.35em;\">\n",
              "    Y el Sheriff de Nottingham\n",
              "    <span style=\"font-size: 0.8em; font-weight: bold; line-height: 1; border-radius: 0.35em; vertical-align: middle; margin-left: 0.5rem\">MISC</span>\n",
              "</mark>\n",
              " se empeñó particularmente en esto porque... bueno, porque era su trabajo, supongo? PERO, resulta que además el carajo que mató \n",
              "<mark class=\"entity\" style=\"background: #ddd; padding: 0.45em 0.6em; margin: 0 0.25em; line-height: 1; border-radius: 0.35em;\">\n",
              "    Robin\n",
              "    <span style=\"font-size: 0.8em; font-weight: bold; line-height: 1; border-radius: 0.35em; vertical-align: middle; margin-left: 0.5rem\">PER</span>\n",
              "</mark>\n",
              " era su sobrino. #plottwist Y así empezó el juego de policías y ladrones de \n",
              "<mark class=\"entity\" style=\"background: #ddd; padding: 0.45em 0.6em; margin: 0 0.25em; line-height: 1; border-radius: 0.35em;\">\n",
              "    Robin con el Sheriff\n",
              "    <span style=\"font-size: 0.8em; font-weight: bold; line-height: 1; border-radius: 0.35em; vertical-align: middle; margin-left: 0.5rem\">MISC</span>\n",
              "</mark>\n",
              ". \n",
              "<mark class=\"entity\" style=\"background: #ddd; padding: 0.45em 0.6em; margin: 0 0.25em; line-height: 1; border-radius: 0.35em;\">\n",
              "    Muchos otros forajidos del bosque\n",
              "    <span style=\"font-size: 0.8em; font-weight: bold; line-height: 1; border-radius: 0.35em; vertical-align: middle; margin-left: 0.5rem\">MISC</span>\n",
              "</mark>\n",
              " se unieron a \n",
              "<mark class=\"entity\" style=\"background: #ddd; padding: 0.45em 0.6em; margin: 0 0.25em; line-height: 1; border-radius: 0.35em;\">\n",
              "    Robin\n",
              "    <span style=\"font-size: 0.8em; font-weight: bold; line-height: 1; border-radius: 0.35em; vertical-align: middle; margin-left: 0.5rem\">PER</span>\n",
              "</mark>\n",
              " y lo escogieron como su líder de los malandros, además decidieron que iban a robar en las carreteras solo a los ricos para darle a los pobres. \n",
              "<mark class=\"entity\" style=\"background: #ddd; padding: 0.45em 0.6em; margin: 0 0.25em; line-height: 1; border-radius: 0.35em;\">\n",
              "    Sin comentarios\n",
              "    <span style=\"font-size: 0.8em; font-weight: bold; line-height: 1; border-radius: 0.35em; vertical-align: middle; margin-left: 0.5rem\">MISC</span>\n",
              "</mark>\n",
              ". En fin,  un día \n",
              "<mark class=\"entity\" style=\"background: #ddd; padding: 0.45em 0.6em; margin: 0 0.25em; line-height: 1; border-radius: 0.35em;\">\n",
              "    Robin\n",
              "    <span style=\"font-size: 0.8em; font-weight: bold; line-height: 1; border-radius: 0.35em; vertical-align: middle; margin-left: 0.5rem\">PER</span>\n",
              "</mark>\n",
              " conoció a un hombre mientras estaban a punto de cruzar un puente; El único problema, era que el puente era muy estrecho y solo podía pasar una persona a la vez, que problemón vale, cómo solucionarlo... Pues decidieron que la única forma de resolverlo. \n",
              "<mark class=\"entity\" style=\"background: #ddd; padding: 0.45em 0.6em; margin: 0 0.25em; line-height: 1; border-radius: 0.35em;\">\n",
              "    UN DUELO A MUERTE NO JODA!!!!!\n",
              "    <span style=\"font-size: 0.8em; font-weight: bold; line-height: 1; border-radius: 0.35em; vertical-align: middle; margin-left: 0.5rem\">MISC</span>\n",
              "</mark>\n",
              " Esooo TESTOSTERONA TESTOSTERONA perdón pero es que- \n",
              "<mark class=\"entity\" style=\"background: #ddd; padding: 0.45em 0.6em; margin: 0 0.25em; line-height: 1; border-radius: 0.35em;\">\n",
              "    Ok\n",
              "    <span style=\"font-size: 0.8em; font-weight: bold; line-height: 1; border-radius: 0.35em; vertical-align: middle; margin-left: 0.5rem\">MISC</span>\n",
              "</mark>\n",
              " después de unos sólidos 20 min de “duelo a muerte” \n",
              "<mark class=\"entity\" style=\"background: #ddd; padding: 0.45em 0.6em; margin: 0 0.25em; line-height: 1; border-radius: 0.35em;\">\n",
              "    Robin Hood\n",
              "    <span style=\"font-size: 0.8em; font-weight: bold; line-height: 1; border-radius: 0.35em; vertical-align: middle; margin-left: 0.5rem\">MISC</span>\n",
              "</mark>\n",
              " se dio cuenta de que su contrincante era tan fuerte como él así que le dijo: “Oye, creo que tienes gran potencial para lograr grandes cosas, te gustaría unirte a \n",
              "<mark class=\"entity\" style=\"background: #7aecec; padding: 0.45em 0.6em; margin: 0 0.25em; line-height: 1; border-radius: 0.35em;\">\n",
              "    FORRESTLIFE\n",
              "    <span style=\"font-size: 0.8em; font-weight: bold; line-height: 1; border-radius: 0.35em; vertical-align: middle; margin-left: 0.5rem\">ORG</span>\n",
              "</mark>\n",
              " y ser tú propia ley?” Y se unió. En otra oportunidad el \n",
              "<mark class=\"entity\" style=\"background: #ddd; padding: 0.45em 0.6em; margin: 0 0.25em; line-height: 1; border-radius: 0.35em;\">\n",
              "    Sheriff\n",
              "    <span style=\"font-size: 0.8em; font-weight: bold; line-height: 1; border-radius: 0.35em; vertical-align: middle; margin-left: 0.5rem\">MISC</span>\n",
              "</mark>\n",
              " mandó a un mercenario a buscar información de \n",
              "<mark class=\"entity\" style=\"background: #ddd; padding: 0.45em 0.6em; margin: 0 0.25em; line-height: 1; border-radius: 0.35em;\">\n",
              "    Robin Hood\n",
              "    <span style=\"font-size: 0.8em; font-weight: bold; line-height: 1; border-radius: 0.35em; vertical-align: middle; margin-left: 0.5rem\">PER</span>\n",
              "</mark>\n",
              "; Pero quedó como una payasa porque cuando \n",
              "<mark class=\"entity\" style=\"background: #ddd; padding: 0.45em 0.6em; margin: 0 0.25em; line-height: 1; border-radius: 0.35em;\">\n",
              "    Robin\n",
              "    <span style=\"font-size: 0.8em; font-weight: bold; line-height: 1; border-radius: 0.35em; vertical-align: middle; margin-left: 0.5rem\">PER</span>\n",
              "</mark>\n",
              " conoció al mercenario, le dio el mismo discurso y también se unió a su esquema piramidal de robos. Y bueno para ponerle un poco de turbo a esto porque entiendo que ustedes tienen otras vainas que hacer, esa es más o menos la dinámica de todas las aventuras de Robin Hood, al que no podían roban, se les unía. \n",
              "<mark class=\"entity\" style=\"background: #ddd; padding: 0.45em 0.6em; margin: 0 0.25em; line-height: 1; border-radius: 0.35em;\">\n",
              "    Ya hacía el final de la historia\n",
              "    <span style=\"font-size: 0.8em; font-weight: bold; line-height: 1; border-radius: 0.35em; vertical-align: middle; margin-left: 0.5rem\">MISC</span>\n",
              "</mark>\n",
              ", al fin aparece el \n",
              "<mark class=\"entity\" style=\"background: #ddd; padding: 0.45em 0.6em; margin: 0 0.25em; line-height: 1; border-radius: 0.35em;\">\n",
              "    rey Richard\n",
              "    <span style=\"font-size: 0.8em; font-weight: bold; line-height: 1; border-radius: 0.35em; vertical-align: middle; margin-left: 0.5rem\">PER</span>\n",
              "</mark>\n",
              " que estaba de gira por el reino, porque venían unas parlamentarias o algo así. Y cuando llegó a \n",
              "<mark class=\"entity\" style=\"background: #ff9561; padding: 0.45em 0.6em; margin: 0 0.25em; line-height: 1; border-radius: 0.35em;\">\n",
              "    Nottingham\n",
              "    <span style=\"font-size: 0.8em; font-weight: bold; line-height: 1; border-radius: 0.35em; vertical-align: middle; margin-left: 0.5rem\">LOC</span>\n",
              "</mark>\n",
              " el rey quiso saber quién coño era \n",
              "<mark class=\"entity\" style=\"background: #ddd; padding: 0.45em 0.6em; margin: 0 0.25em; line-height: 1; border-radius: 0.35em;\">\n",
              "    Robin Hood\n",
              "    <span style=\"font-size: 0.8em; font-weight: bold; line-height: 1; border-radius: 0.35em; vertical-align: middle; margin-left: 0.5rem\">PER</span>\n",
              "</mark>\n",
              " y por qué carajo todo el mundo hablaba de él. Así que el rey decidió disfrazarse (en esta vaina todo el mundo se disfraza ok) e ir a encontrarse con \n",
              "<mark class=\"entity\" style=\"background: #ddd; padding: 0.45em 0.6em; margin: 0 0.25em; line-height: 1; border-radius: 0.35em;\">\n",
              "    Robin Hood\n",
              "    <span style=\"font-size: 0.8em; font-weight: bold; line-height: 1; border-radius: 0.35em; vertical-align: middle; margin-left: 0.5rem\">PER</span>\n",
              "</mark>\n",
              ". Cuando \n",
              "<mark class=\"entity\" style=\"background: #7aecec; padding: 0.45em 0.6em; margin: 0 0.25em; line-height: 1; border-radius: 0.35em;\">\n",
              "    FORRESTLIFE\n",
              "    <span style=\"font-size: 0.8em; font-weight: bold; line-height: 1; border-radius: 0.35em; vertical-align: middle; margin-left: 0.5rem\">ORG</span>\n",
              "</mark>\n",
              " lo interceptó para robarlo, el rey trató de sacarles información y descubrió que \n",
              "<mark class=\"entity\" style=\"background: #ddd; padding: 0.45em 0.6em; margin: 0 0.25em; line-height: 1; border-radius: 0.35em;\">\n",
              "    Robin\n",
              "    <span style=\"font-size: 0.8em; font-weight: bold; line-height: 1; border-radius: 0.35em; vertical-align: middle; margin-left: 0.5rem\">PER</span>\n",
              "</mark>\n",
              ", estaba rodilla en tierra con él. \n",
              "<mark class=\"entity\" style=\"background: #ddd; padding: 0.45em 0.6em; margin: 0 0.25em; line-height: 1; border-radius: 0.35em;\">\n",
              "    Por esto el rey\n",
              "    <span style=\"font-size: 0.8em; font-weight: bold; line-height: 1; border-radius: 0.35em; vertical-align: middle; margin-left: 0.5rem\">MISC</span>\n",
              "</mark>\n",
              " reveló su verdadera identidad y lo nombró a él, y a toda su banda, caballeros de la corte y los nuevos miembros de guardia real. Porque ya saben, ¿Qué importa uno que otro crimen? Lo que importa es que estén de tu lado jejejeje Después de muchos años, cuando \n",
              "<mark class=\"entity\" style=\"background: #ddd; padding: 0.45em 0.6em; margin: 0 0.25em; line-height: 1; border-radius: 0.35em;\">\n",
              "    Robin Hood\n",
              "    <span style=\"font-size: 0.8em; font-weight: bold; line-height: 1; border-radius: 0.35em; vertical-align: middle; margin-left: 0.5rem\">PER</span>\n",
              "</mark>\n",
              " ya estaba viejo, cayó enfermo y fue a la casa de una prima para que lo cuidara. \n",
              "<mark class=\"entity\" style=\"background: #ddd; padding: 0.45em 0.6em; margin: 0 0.25em; line-height: 1; border-radius: 0.35em;\">\n",
              "    Pero la jeva\n",
              "    <span style=\"font-size: 0.8em; font-weight: bold; line-height: 1; border-radius: 0.35em; vertical-align: middle; margin-left: 0.5rem\">MISC</span>\n",
              "</mark>\n",
              " le tenía miedo y lo dejo desangrarse hasta que, se murió pero no la juzguen o sea ¿alguna vez han cuidado a un hombre enfermo? Y ya, esa fue la historia de \n",
              "<mark class=\"entity\" style=\"background: #ddd; padding: 0.45em 0.6em; margin: 0 0.25em; line-height: 1; border-radius: 0.35em;\">\n",
              "    Robin Hood\n",
              "    <span style=\"font-size: 0.8em; font-weight: bold; line-height: 1; border-radius: 0.35em; vertical-align: middle; margin-left: 0.5rem\">PER</span>\n",
              "</mark>\n",
              ". \n",
              "<mark class=\"entity\" style=\"background: #ddd; padding: 0.45em 0.6em; margin: 0 0.25em; line-height: 1; border-radius: 0.35em;\">\n",
              "    Recuerden\n",
              "    <span style=\"font-size: 0.8em; font-weight: bold; line-height: 1; border-radius: 0.35em; vertical-align: middle; margin-left: 0.5rem\">MISC</span>\n",
              "</mark>\n",
              " niñitas y niñitos: NO ROBEN CARAJO FIN.</div></span>"
            ]
          },
          "metadata": {}
        }
      ]
    },
    {
      "cell_type": "code",
      "metadata": {
        "colab": {
          "base_uri": "https://localhost:8080/",
          "height": 770
        },
        "id": "a58kxM3JAmrU",
        "outputId": "0ebd7fb0-2213-4545-dd5d-fb77ca1ca848"
      },
      "source": [
        "robin_hood_sents = list(doc.sents)\n",
        "displacy.render(robin_hood_sents[3:5], style='dep', jupyter=True, options={'compact': True, 'color': 'white', 'bg': '#000000', 'distance': 100})"
      ],
      "execution_count": null,
      "outputs": [
        {
          "output_type": "display_data",
          "data": {
            "text/plain": [
              "<IPython.core.display.HTML object>"
            ],
            "text/html": [
              "<span class=\"tex2jax_ignore\"><svg xmlns=\"http://www.w3.org/2000/svg\" xmlns:xlink=\"http://www.w3.org/1999/xlink\" xml:lang=\"es\" id=\"9c21aa01ce774a6681f3d88d085df302-0\" class=\"displacy\" width=\"1750\" height=\"337.0\" direction=\"ltr\" style=\"max-width: none; height: 337.0px; color: white; background: #000000; font-family: Arial; direction: ltr\">\n",
              "<text class=\"displacy-token\" fill=\"currentColor\" text-anchor=\"middle\" y=\"247.0\">\n",
              "    <tspan class=\"displacy-word\" fill=\"currentColor\" x=\"50\">En</tspan>\n",
              "    <tspan class=\"displacy-tag\" dy=\"2em\" fill=\"currentColor\" x=\"50\">ADP</tspan>\n",
              "</text>\n",
              "\n",
              "<text class=\"displacy-token\" fill=\"currentColor\" text-anchor=\"middle\" y=\"247.0\">\n",
              "    <tspan class=\"displacy-word\" fill=\"currentColor\" x=\"150\">fin,</tspan>\n",
              "    <tspan class=\"displacy-tag\" dy=\"2em\" fill=\"currentColor\" x=\"150\">NOUN</tspan>\n",
              "</text>\n",
              "\n",
              "<text class=\"displacy-token\" fill=\"currentColor\" text-anchor=\"middle\" y=\"247.0\">\n",
              "    <tspan class=\"displacy-word\" fill=\"currentColor\" x=\"250\">como</tspan>\n",
              "    <tspan class=\"displacy-tag\" dy=\"2em\" fill=\"currentColor\" x=\"250\">SCONJ</tspan>\n",
              "</text>\n",
              "\n",
              "<text class=\"displacy-token\" fill=\"currentColor\" text-anchor=\"middle\" y=\"247.0\">\n",
              "    <tspan class=\"displacy-word\" fill=\"currentColor\" x=\"350\">los</tspan>\n",
              "    <tspan class=\"displacy-tag\" dy=\"2em\" fill=\"currentColor\" x=\"350\">DET</tspan>\n",
              "</text>\n",
              "\n",
              "<text class=\"displacy-token\" fill=\"currentColor\" text-anchor=\"middle\" y=\"247.0\">\n",
              "    <tspan class=\"displacy-word\" fill=\"currentColor\" x=\"450\">Backstreet</tspan>\n",
              "    <tspan class=\"displacy-tag\" dy=\"2em\" fill=\"currentColor\" x=\"450\">PROPN</tspan>\n",
              "</text>\n",
              "\n",
              "<text class=\"displacy-token\" fill=\"currentColor\" text-anchor=\"middle\" y=\"247.0\">\n",
              "    <tspan class=\"displacy-word\" fill=\"currentColor\" x=\"550\">Boys:</tspan>\n",
              "    <tspan class=\"displacy-tag\" dy=\"2em\" fill=\"currentColor\" x=\"550\">PROPN</tspan>\n",
              "</text>\n",
              "\n",
              "<text class=\"displacy-token\" fill=\"currentColor\" text-anchor=\"middle\" y=\"247.0\">\n",
              "    <tspan class=\"displacy-word\" fill=\"currentColor\" x=\"650\">omg</tspan>\n",
              "    <tspan class=\"displacy-tag\" dy=\"2em\" fill=\"currentColor\" x=\"650\">PROPN</tspan>\n",
              "</text>\n",
              "\n",
              "<text class=\"displacy-token\" fill=\"currentColor\" text-anchor=\"middle\" y=\"247.0\">\n",
              "    <tspan class=\"displacy-word\" fill=\"currentColor\" x=\"750\">I’m</tspan>\n",
              "    <tspan class=\"displacy-tag\" dy=\"2em\" fill=\"currentColor\" x=\"750\">PROPN</tspan>\n",
              "</text>\n",
              "\n",
              "<text class=\"displacy-token\" fill=\"currentColor\" text-anchor=\"middle\" y=\"247.0\">\n",
              "    <tspan class=\"displacy-word\" fill=\"currentColor\" x=\"850\">back</tspan>\n",
              "    <tspan class=\"displacy-tag\" dy=\"2em\" fill=\"currentColor\" x=\"850\">PROPN</tspan>\n",
              "</text>\n",
              "\n",
              "<text class=\"displacy-token\" fill=\"currentColor\" text-anchor=\"middle\" y=\"247.0\">\n",
              "    <tspan class=\"displacy-word\" fill=\"currentColor\" x=\"950\">again,</tspan>\n",
              "    <tspan class=\"displacy-tag\" dy=\"2em\" fill=\"currentColor\" x=\"950\">PROPN</tspan>\n",
              "</text>\n",
              "\n",
              "<text class=\"displacy-token\" fill=\"currentColor\" text-anchor=\"middle\" y=\"247.0\">\n",
              "    <tspan class=\"displacy-word\" fill=\"currentColor\" x=\"1050\">y</tspan>\n",
              "    <tspan class=\"displacy-tag\" dy=\"2em\" fill=\"currentColor\" x=\"1050\">CCONJ</tspan>\n",
              "</text>\n",
              "\n",
              "<text class=\"displacy-token\" fill=\"currentColor\" text-anchor=\"middle\" y=\"247.0\">\n",
              "    <tspan class=\"displacy-word\" fill=\"currentColor\" x=\"1150\">con</tspan>\n",
              "    <tspan class=\"displacy-tag\" dy=\"2em\" fill=\"currentColor\" x=\"1150\">ADP</tspan>\n",
              "</text>\n",
              "\n",
              "<text class=\"displacy-token\" fill=\"currentColor\" text-anchor=\"middle\" y=\"247.0\">\n",
              "    <tspan class=\"displacy-word\" fill=\"currentColor\" x=\"1250\">la</tspan>\n",
              "    <tspan class=\"displacy-tag\" dy=\"2em\" fill=\"currentColor\" x=\"1250\">DET</tspan>\n",
              "</text>\n",
              "\n",
              "<text class=\"displacy-token\" fill=\"currentColor\" text-anchor=\"middle\" y=\"247.0\">\n",
              "    <tspan class=\"displacy-word\" fill=\"currentColor\" x=\"1350\">historia</tspan>\n",
              "    <tspan class=\"displacy-tag\" dy=\"2em\" fill=\"currentColor\" x=\"1350\">NOUN</tspan>\n",
              "</text>\n",
              "\n",
              "<text class=\"displacy-token\" fill=\"currentColor\" text-anchor=\"middle\" y=\"247.0\">\n",
              "    <tspan class=\"displacy-word\" fill=\"currentColor\" x=\"1450\">de</tspan>\n",
              "    <tspan class=\"displacy-tag\" dy=\"2em\" fill=\"currentColor\" x=\"1450\">ADP</tspan>\n",
              "</text>\n",
              "\n",
              "<text class=\"displacy-token\" fill=\"currentColor\" text-anchor=\"middle\" y=\"247.0\">\n",
              "    <tspan class=\"displacy-word\" fill=\"currentColor\" x=\"1550\">Robin</tspan>\n",
              "    <tspan class=\"displacy-tag\" dy=\"2em\" fill=\"currentColor\" x=\"1550\">PROPN</tspan>\n",
              "</text>\n",
              "\n",
              "<text class=\"displacy-token\" fill=\"currentColor\" text-anchor=\"middle\" y=\"247.0\">\n",
              "    <tspan class=\"displacy-word\" fill=\"currentColor\" x=\"1650\">Hood.</tspan>\n",
              "    <tspan class=\"displacy-tag\" dy=\"2em\" fill=\"currentColor\" x=\"1650\">PROPN</tspan>\n",
              "</text>\n",
              "\n",
              "<g class=\"displacy-arrow\">\n",
              "    <path class=\"displacy-arc\" id=\"arrow-9c21aa01ce774a6681f3d88d085df302-0-0\" stroke-width=\"2px\" d=\"M62,202.0 62,185.33333333333334 141.0,185.33333333333334 141.0,202.0\" fill=\"none\" stroke=\"currentColor\"/>\n",
              "    <text dy=\"1.25em\" style=\"font-size: 0.8em; letter-spacing: 1px\">\n",
              "        <textPath xlink:href=\"#arrow-9c21aa01ce774a6681f3d88d085df302-0-0\" class=\"displacy-label\" startOffset=\"50%\" side=\"left\" fill=\"currentColor\" text-anchor=\"middle\">fixed</textPath>\n",
              "    </text>\n",
              "    <path class=\"displacy-arrowhead\" d=\"M141.0,204.0 L145.0,196.0 137.0,196.0\" fill=\"currentColor\"/>\n",
              "</g>\n",
              "\n",
              "<g class=\"displacy-arrow\">\n",
              "    <path class=\"displacy-arc\" id=\"arrow-9c21aa01ce774a6681f3d88d085df302-0-1\" stroke-width=\"2px\" d=\"M262,202.0 262,168.66666666666666 444.0,168.66666666666666 444.0,202.0\" fill=\"none\" stroke=\"currentColor\"/>\n",
              "    <text dy=\"1.25em\" style=\"font-size: 0.8em; letter-spacing: 1px\">\n",
              "        <textPath xlink:href=\"#arrow-9c21aa01ce774a6681f3d88d085df302-0-1\" class=\"displacy-label\" startOffset=\"50%\" side=\"left\" fill=\"currentColor\" text-anchor=\"middle\">mark</textPath>\n",
              "    </text>\n",
              "    <path class=\"displacy-arrowhead\" d=\"M262,204.0 L258,196.0 266,196.0\" fill=\"currentColor\"/>\n",
              "</g>\n",
              "\n",
              "<g class=\"displacy-arrow\">\n",
              "    <path class=\"displacy-arc\" id=\"arrow-9c21aa01ce774a6681f3d88d085df302-0-2\" stroke-width=\"2px\" d=\"M362,202.0 362,185.33333333333334 441.0,185.33333333333334 441.0,202.0\" fill=\"none\" stroke=\"currentColor\"/>\n",
              "    <text dy=\"1.25em\" style=\"font-size: 0.8em; letter-spacing: 1px\">\n",
              "        <textPath xlink:href=\"#arrow-9c21aa01ce774a6681f3d88d085df302-0-2\" class=\"displacy-label\" startOffset=\"50%\" side=\"left\" fill=\"currentColor\" text-anchor=\"middle\">det</textPath>\n",
              "    </text>\n",
              "    <path class=\"displacy-arrowhead\" d=\"M362,204.0 L358,196.0 366,196.0\" fill=\"currentColor\"/>\n",
              "</g>\n",
              "\n",
              "<g class=\"displacy-arrow\">\n",
              "    <path class=\"displacy-arc\" id=\"arrow-9c21aa01ce774a6681f3d88d085df302-0-3\" stroke-width=\"2px\" d=\"M62,202.0 62,152.0 447.0,152.0 447.0,202.0\" fill=\"none\" stroke=\"currentColor\"/>\n",
              "    <text dy=\"1.25em\" style=\"font-size: 0.8em; letter-spacing: 1px\">\n",
              "        <textPath xlink:href=\"#arrow-9c21aa01ce774a6681f3d88d085df302-0-3\" class=\"displacy-label\" startOffset=\"50%\" side=\"left\" fill=\"currentColor\" text-anchor=\"middle\">obl</textPath>\n",
              "    </text>\n",
              "    <path class=\"displacy-arrowhead\" d=\"M447.0,204.0 L451.0,196.0 443.0,196.0\" fill=\"currentColor\"/>\n",
              "</g>\n",
              "\n",
              "<g class=\"displacy-arrow\">\n",
              "    <path class=\"displacy-arc\" id=\"arrow-9c21aa01ce774a6681f3d88d085df302-0-4\" stroke-width=\"2px\" d=\"M462,202.0 462,185.33333333333334 541.0,185.33333333333334 541.0,202.0\" fill=\"none\" stroke=\"currentColor\"/>\n",
              "    <text dy=\"1.25em\" style=\"font-size: 0.8em; letter-spacing: 1px\">\n",
              "        <textPath xlink:href=\"#arrow-9c21aa01ce774a6681f3d88d085df302-0-4\" class=\"displacy-label\" startOffset=\"50%\" side=\"left\" fill=\"currentColor\" text-anchor=\"middle\">flat</textPath>\n",
              "    </text>\n",
              "    <path class=\"displacy-arrowhead\" d=\"M541.0,204.0 L545.0,196.0 537.0,196.0\" fill=\"currentColor\"/>\n",
              "</g>\n",
              "\n",
              "<g class=\"displacy-arrow\">\n",
              "    <path class=\"displacy-arc\" id=\"arrow-9c21aa01ce774a6681f3d88d085df302-0-5\" stroke-width=\"2px\" d=\"M462,202.0 462,168.66666666666666 644.0,168.66666666666666 644.0,202.0\" fill=\"none\" stroke=\"currentColor\"/>\n",
              "    <text dy=\"1.25em\" style=\"font-size: 0.8em; letter-spacing: 1px\">\n",
              "        <textPath xlink:href=\"#arrow-9c21aa01ce774a6681f3d88d085df302-0-5\" class=\"displacy-label\" startOffset=\"50%\" side=\"left\" fill=\"currentColor\" text-anchor=\"middle\">appos</textPath>\n",
              "    </text>\n",
              "    <path class=\"displacy-arrowhead\" d=\"M644.0,204.0 L648.0,196.0 640.0,196.0\" fill=\"currentColor\"/>\n",
              "</g>\n",
              "\n",
              "<g class=\"displacy-arrow\">\n",
              "    <path class=\"displacy-arc\" id=\"arrow-9c21aa01ce774a6681f3d88d085df302-0-6\" stroke-width=\"2px\" d=\"M662,202.0 662,185.33333333333334 741.0,185.33333333333334 741.0,202.0\" fill=\"none\" stroke=\"currentColor\"/>\n",
              "    <text dy=\"1.25em\" style=\"font-size: 0.8em; letter-spacing: 1px\">\n",
              "        <textPath xlink:href=\"#arrow-9c21aa01ce774a6681f3d88d085df302-0-6\" class=\"displacy-label\" startOffset=\"50%\" side=\"left\" fill=\"currentColor\" text-anchor=\"middle\">flat</textPath>\n",
              "    </text>\n",
              "    <path class=\"displacy-arrowhead\" d=\"M741.0,204.0 L745.0,196.0 737.0,196.0\" fill=\"currentColor\"/>\n",
              "</g>\n",
              "\n",
              "<g class=\"displacy-arrow\">\n",
              "    <path class=\"displacy-arc\" id=\"arrow-9c21aa01ce774a6681f3d88d085df302-0-7\" stroke-width=\"2px\" d=\"M662,202.0 662,168.66666666666666 844.0,168.66666666666666 844.0,202.0\" fill=\"none\" stroke=\"currentColor\"/>\n",
              "    <text dy=\"1.25em\" style=\"font-size: 0.8em; letter-spacing: 1px\">\n",
              "        <textPath xlink:href=\"#arrow-9c21aa01ce774a6681f3d88d085df302-0-7\" class=\"displacy-label\" startOffset=\"50%\" side=\"left\" fill=\"currentColor\" text-anchor=\"middle\">flat</textPath>\n",
              "    </text>\n",
              "    <path class=\"displacy-arrowhead\" d=\"M844.0,204.0 L848.0,196.0 840.0,196.0\" fill=\"currentColor\"/>\n",
              "</g>\n",
              "\n",
              "<g class=\"displacy-arrow\">\n",
              "    <path class=\"displacy-arc\" id=\"arrow-9c21aa01ce774a6681f3d88d085df302-0-8\" stroke-width=\"2px\" d=\"M662,202.0 662,152.0 947.0,152.0 947.0,202.0\" fill=\"none\" stroke=\"currentColor\"/>\n",
              "    <text dy=\"1.25em\" style=\"font-size: 0.8em; letter-spacing: 1px\">\n",
              "        <textPath xlink:href=\"#arrow-9c21aa01ce774a6681f3d88d085df302-0-8\" class=\"displacy-label\" startOffset=\"50%\" side=\"left\" fill=\"currentColor\" text-anchor=\"middle\">flat</textPath>\n",
              "    </text>\n",
              "    <path class=\"displacy-arrowhead\" d=\"M947.0,204.0 L951.0,196.0 943.0,196.0\" fill=\"currentColor\"/>\n",
              "</g>\n",
              "\n",
              "<g class=\"displacy-arrow\">\n",
              "    <path class=\"displacy-arc\" id=\"arrow-9c21aa01ce774a6681f3d88d085df302-0-9\" stroke-width=\"2px\" d=\"M1062,202.0 1062,152.0 1347.0,152.0 1347.0,202.0\" fill=\"none\" stroke=\"currentColor\"/>\n",
              "    <text dy=\"1.25em\" style=\"font-size: 0.8em; letter-spacing: 1px\">\n",
              "        <textPath xlink:href=\"#arrow-9c21aa01ce774a6681f3d88d085df302-0-9\" class=\"displacy-label\" startOffset=\"50%\" side=\"left\" fill=\"currentColor\" text-anchor=\"middle\">cc</textPath>\n",
              "    </text>\n",
              "    <path class=\"displacy-arrowhead\" d=\"M1062,204.0 L1058,196.0 1066,196.0\" fill=\"currentColor\"/>\n",
              "</g>\n",
              "\n",
              "<g class=\"displacy-arrow\">\n",
              "    <path class=\"displacy-arc\" id=\"arrow-9c21aa01ce774a6681f3d88d085df302-0-10\" stroke-width=\"2px\" d=\"M1162,202.0 1162,168.66666666666666 1344.0,168.66666666666666 1344.0,202.0\" fill=\"none\" stroke=\"currentColor\"/>\n",
              "    <text dy=\"1.25em\" style=\"font-size: 0.8em; letter-spacing: 1px\">\n",
              "        <textPath xlink:href=\"#arrow-9c21aa01ce774a6681f3d88d085df302-0-10\" class=\"displacy-label\" startOffset=\"50%\" side=\"left\" fill=\"currentColor\" text-anchor=\"middle\">case</textPath>\n",
              "    </text>\n",
              "    <path class=\"displacy-arrowhead\" d=\"M1162,204.0 L1158,196.0 1166,196.0\" fill=\"currentColor\"/>\n",
              "</g>\n",
              "\n",
              "<g class=\"displacy-arrow\">\n",
              "    <path class=\"displacy-arc\" id=\"arrow-9c21aa01ce774a6681f3d88d085df302-0-11\" stroke-width=\"2px\" d=\"M1262,202.0 1262,185.33333333333334 1341.0,185.33333333333334 1341.0,202.0\" fill=\"none\" stroke=\"currentColor\"/>\n",
              "    <text dy=\"1.25em\" style=\"font-size: 0.8em; letter-spacing: 1px\">\n",
              "        <textPath xlink:href=\"#arrow-9c21aa01ce774a6681f3d88d085df302-0-11\" class=\"displacy-label\" startOffset=\"50%\" side=\"left\" fill=\"currentColor\" text-anchor=\"middle\">det</textPath>\n",
              "    </text>\n",
              "    <path class=\"displacy-arrowhead\" d=\"M1262,204.0 L1258,196.0 1266,196.0\" fill=\"currentColor\"/>\n",
              "</g>\n",
              "\n",
              "<g class=\"displacy-arrow\">\n",
              "    <path class=\"displacy-arc\" id=\"arrow-9c21aa01ce774a6681f3d88d085df302-0-12\" stroke-width=\"2px\" d=\"M662,202.0 662,135.33333333333331 1350.0,135.33333333333331 1350.0,202.0\" fill=\"none\" stroke=\"currentColor\"/>\n",
              "    <text dy=\"1.25em\" style=\"font-size: 0.8em; letter-spacing: 1px\">\n",
              "        <textPath xlink:href=\"#arrow-9c21aa01ce774a6681f3d88d085df302-0-12\" class=\"displacy-label\" startOffset=\"50%\" side=\"left\" fill=\"currentColor\" text-anchor=\"middle\">conj</textPath>\n",
              "    </text>\n",
              "    <path class=\"displacy-arrowhead\" d=\"M1350.0,204.0 L1354.0,196.0 1346.0,196.0\" fill=\"currentColor\"/>\n",
              "</g>\n",
              "\n",
              "<g class=\"displacy-arrow\">\n",
              "    <path class=\"displacy-arc\" id=\"arrow-9c21aa01ce774a6681f3d88d085df302-0-13\" stroke-width=\"2px\" d=\"M1462,202.0 1462,185.33333333333334 1541.0,185.33333333333334 1541.0,202.0\" fill=\"none\" stroke=\"currentColor\"/>\n",
              "    <text dy=\"1.25em\" style=\"font-size: 0.8em; letter-spacing: 1px\">\n",
              "        <textPath xlink:href=\"#arrow-9c21aa01ce774a6681f3d88d085df302-0-13\" class=\"displacy-label\" startOffset=\"50%\" side=\"left\" fill=\"currentColor\" text-anchor=\"middle\">case</textPath>\n",
              "    </text>\n",
              "    <path class=\"displacy-arrowhead\" d=\"M1462,204.0 L1458,196.0 1466,196.0\" fill=\"currentColor\"/>\n",
              "</g>\n",
              "\n",
              "<g class=\"displacy-arrow\">\n",
              "    <path class=\"displacy-arc\" id=\"arrow-9c21aa01ce774a6681f3d88d085df302-0-14\" stroke-width=\"2px\" d=\"M1362,202.0 1362,168.66666666666666 1544.0,168.66666666666666 1544.0,202.0\" fill=\"none\" stroke=\"currentColor\"/>\n",
              "    <text dy=\"1.25em\" style=\"font-size: 0.8em; letter-spacing: 1px\">\n",
              "        <textPath xlink:href=\"#arrow-9c21aa01ce774a6681f3d88d085df302-0-14\" class=\"displacy-label\" startOffset=\"50%\" side=\"left\" fill=\"currentColor\" text-anchor=\"middle\">nmod</textPath>\n",
              "    </text>\n",
              "    <path class=\"displacy-arrowhead\" d=\"M1544.0,204.0 L1548.0,196.0 1540.0,196.0\" fill=\"currentColor\"/>\n",
              "</g>\n",
              "\n",
              "<g class=\"displacy-arrow\">\n",
              "    <path class=\"displacy-arc\" id=\"arrow-9c21aa01ce774a6681f3d88d085df302-0-15\" stroke-width=\"2px\" d=\"M1562,202.0 1562,185.33333333333334 1641.0,185.33333333333334 1641.0,202.0\" fill=\"none\" stroke=\"currentColor\"/>\n",
              "    <text dy=\"1.25em\" style=\"font-size: 0.8em; letter-spacing: 1px\">\n",
              "        <textPath xlink:href=\"#arrow-9c21aa01ce774a6681f3d88d085df302-0-15\" class=\"displacy-label\" startOffset=\"50%\" side=\"left\" fill=\"currentColor\" text-anchor=\"middle\">flat</textPath>\n",
              "    </text>\n",
              "    <path class=\"displacy-arrowhead\" d=\"M1641.0,204.0 L1645.0,196.0 1637.0,196.0\" fill=\"currentColor\"/>\n",
              "</g>\n",
              "</svg>\n",
              "\n",
              "<svg xmlns=\"http://www.w3.org/2000/svg\" xmlns:xlink=\"http://www.w3.org/1999/xlink\" xml:lang=\"es\" id=\"9c21aa01ce774a6681f3d88d085df302-1\" class=\"displacy\" width=\"2550\" height=\"387.0\" direction=\"ltr\" style=\"max-width: none; height: 387.0px; color: white; background: #000000; font-family: Arial; direction: ltr\">\n",
              "<text class=\"displacy-token\" fill=\"currentColor\" text-anchor=\"middle\" y=\"297.0\">\n",
              "    <tspan class=\"displacy-word\" fill=\"currentColor\" x=\"50\">A</tspan>\n",
              "    <tspan class=\"displacy-tag\" dy=\"2em\" fill=\"currentColor\" x=\"50\">ADP</tspan>\n",
              "</text>\n",
              "\n",
              "<text class=\"displacy-token\" fill=\"currentColor\" text-anchor=\"middle\" y=\"297.0\">\n",
              "    <tspan class=\"displacy-word\" fill=\"currentColor\" x=\"150\">ver,</tspan>\n",
              "    <tspan class=\"displacy-tag\" dy=\"2em\" fill=\"currentColor\" x=\"150\">VERB</tspan>\n",
              "</text>\n",
              "\n",
              "<text class=\"displacy-token\" fill=\"currentColor\" text-anchor=\"middle\" y=\"297.0\">\n",
              "    <tspan class=\"displacy-word\" fill=\"currentColor\" x=\"250\">si</tspan>\n",
              "    <tspan class=\"displacy-tag\" dy=\"2em\" fill=\"currentColor\" x=\"250\">SCONJ</tspan>\n",
              "</text>\n",
              "\n",
              "<text class=\"displacy-token\" fill=\"currentColor\" text-anchor=\"middle\" y=\"297.0\">\n",
              "    <tspan class=\"displacy-word\" fill=\"currentColor\" x=\"350\">hacen</tspan>\n",
              "    <tspan class=\"displacy-tag\" dy=\"2em\" fill=\"currentColor\" x=\"350\">VERB</tspan>\n",
              "</text>\n",
              "\n",
              "<text class=\"displacy-token\" fill=\"currentColor\" text-anchor=\"middle\" y=\"297.0\">\n",
              "    <tspan class=\"displacy-word\" fill=\"currentColor\" x=\"450\">memoria,</tspan>\n",
              "    <tspan class=\"displacy-tag\" dy=\"2em\" fill=\"currentColor\" x=\"450\">NOUN</tspan>\n",
              "</text>\n",
              "\n",
              "<text class=\"displacy-token\" fill=\"currentColor\" text-anchor=\"middle\" y=\"297.0\">\n",
              "    <tspan class=\"displacy-word\" fill=\"currentColor\" x=\"550\">van</tspan>\n",
              "    <tspan class=\"displacy-tag\" dy=\"2em\" fill=\"currentColor\" x=\"550\">AUX</tspan>\n",
              "</text>\n",
              "\n",
              "<text class=\"displacy-token\" fill=\"currentColor\" text-anchor=\"middle\" y=\"297.0\">\n",
              "    <tspan class=\"displacy-word\" fill=\"currentColor\" x=\"650\">a</tspan>\n",
              "    <tspan class=\"displacy-tag\" dy=\"2em\" fill=\"currentColor\" x=\"650\">ADP</tspan>\n",
              "</text>\n",
              "\n",
              "<text class=\"displacy-token\" fill=\"currentColor\" text-anchor=\"middle\" y=\"297.0\">\n",
              "    <tspan class=\"displacy-word\" fill=\"currentColor\" x=\"750\">recordar</tspan>\n",
              "    <tspan class=\"displacy-tag\" dy=\"2em\" fill=\"currentColor\" x=\"750\">VERB</tspan>\n",
              "</text>\n",
              "\n",
              "<text class=\"displacy-token\" fill=\"currentColor\" text-anchor=\"middle\" y=\"297.0\">\n",
              "    <tspan class=\"displacy-word\" fill=\"currentColor\" x=\"850\">que</tspan>\n",
              "    <tspan class=\"displacy-tag\" dy=\"2em\" fill=\"currentColor\" x=\"850\">SCONJ</tspan>\n",
              "</text>\n",
              "\n",
              "<text class=\"displacy-token\" fill=\"currentColor\" text-anchor=\"middle\" y=\"297.0\">\n",
              "    <tspan class=\"displacy-word\" fill=\"currentColor\" x=\"950\">el “</tspan>\n",
              "    <tspan class=\"displacy-tag\" dy=\"2em\" fill=\"currentColor\" x=\"950\">DET</tspan>\n",
              "</text>\n",
              "\n",
              "<text class=\"displacy-token\" fill=\"currentColor\" text-anchor=\"middle\" y=\"297.0\">\n",
              "    <tspan class=\"displacy-word\" fill=\"currentColor\" x=\"1050\">Robin</tspan>\n",
              "    <tspan class=\"displacy-tag\" dy=\"2em\" fill=\"currentColor\" x=\"1050\">PROPN</tspan>\n",
              "</text>\n",
              "\n",
              "<text class=\"displacy-token\" fill=\"currentColor\" text-anchor=\"middle\" y=\"297.0\">\n",
              "    <tspan class=\"displacy-word\" fill=\"currentColor\" x=\"1150\">Hood”</tspan>\n",
              "    <tspan class=\"displacy-tag\" dy=\"2em\" fill=\"currentColor\" x=\"1150\">PROPN</tspan>\n",
              "</text>\n",
              "\n",
              "<text class=\"displacy-token\" fill=\"currentColor\" text-anchor=\"middle\" y=\"297.0\">\n",
              "    <tspan class=\"displacy-word\" fill=\"currentColor\" x=\"1250\">de</tspan>\n",
              "    <tspan class=\"displacy-tag\" dy=\"2em\" fill=\"currentColor\" x=\"1250\">ADP</tspan>\n",
              "</text>\n",
              "\n",
              "<text class=\"displacy-token\" fill=\"currentColor\" text-anchor=\"middle\" y=\"297.0\">\n",
              "    <tspan class=\"displacy-word\" fill=\"currentColor\" x=\"1350\">Disney</tspan>\n",
              "    <tspan class=\"displacy-tag\" dy=\"2em\" fill=\"currentColor\" x=\"1350\">PROPN</tspan>\n",
              "</text>\n",
              "\n",
              "<text class=\"displacy-token\" fill=\"currentColor\" text-anchor=\"middle\" y=\"297.0\">\n",
              "    <tspan class=\"displacy-word\" fill=\"currentColor\" x=\"1450\">es</tspan>\n",
              "    <tspan class=\"displacy-tag\" dy=\"2em\" fill=\"currentColor\" x=\"1450\">AUX</tspan>\n",
              "</text>\n",
              "\n",
              "<text class=\"displacy-token\" fill=\"currentColor\" text-anchor=\"middle\" y=\"297.0\">\n",
              "    <tspan class=\"displacy-word\" fill=\"currentColor\" x=\"1550\">un</tspan>\n",
              "    <tspan class=\"displacy-tag\" dy=\"2em\" fill=\"currentColor\" x=\"1550\">DET</tspan>\n",
              "</text>\n",
              "\n",
              "<text class=\"displacy-token\" fill=\"currentColor\" text-anchor=\"middle\" y=\"297.0\">\n",
              "    <tspan class=\"displacy-word\" fill=\"currentColor\" x=\"1650\">zorro,</tspan>\n",
              "    <tspan class=\"displacy-tag\" dy=\"2em\" fill=\"currentColor\" x=\"1650\">NOUN</tspan>\n",
              "</text>\n",
              "\n",
              "<text class=\"displacy-token\" fill=\"currentColor\" text-anchor=\"middle\" y=\"297.0\">\n",
              "    <tspan class=\"displacy-word\" fill=\"currentColor\" x=\"1750\">y</tspan>\n",
              "    <tspan class=\"displacy-tag\" dy=\"2em\" fill=\"currentColor\" x=\"1750\">CCONJ</tspan>\n",
              "</text>\n",
              "\n",
              "<text class=\"displacy-token\" fill=\"currentColor\" text-anchor=\"middle\" y=\"297.0\">\n",
              "    <tspan class=\"displacy-word\" fill=\"currentColor\" x=\"1850\">todos</tspan>\n",
              "    <tspan class=\"displacy-tag\" dy=\"2em\" fill=\"currentColor\" x=\"1850\">DET</tspan>\n",
              "</text>\n",
              "\n",
              "<text class=\"displacy-token\" fill=\"currentColor\" text-anchor=\"middle\" y=\"297.0\">\n",
              "    <tspan class=\"displacy-word\" fill=\"currentColor\" x=\"1950\">los</tspan>\n",
              "    <tspan class=\"displacy-tag\" dy=\"2em\" fill=\"currentColor\" x=\"1950\">DET</tspan>\n",
              "</text>\n",
              "\n",
              "<text class=\"displacy-token\" fill=\"currentColor\" text-anchor=\"middle\" y=\"297.0\">\n",
              "    <tspan class=\"displacy-word\" fill=\"currentColor\" x=\"2050\">personajes</tspan>\n",
              "    <tspan class=\"displacy-tag\" dy=\"2em\" fill=\"currentColor\" x=\"2050\">NOUN</tspan>\n",
              "</text>\n",
              "\n",
              "<text class=\"displacy-token\" fill=\"currentColor\" text-anchor=\"middle\" y=\"297.0\">\n",
              "    <tspan class=\"displacy-word\" fill=\"currentColor\" x=\"2150\">son</tspan>\n",
              "    <tspan class=\"displacy-tag\" dy=\"2em\" fill=\"currentColor\" x=\"2150\">AUX</tspan>\n",
              "</text>\n",
              "\n",
              "<text class=\"displacy-token\" fill=\"currentColor\" text-anchor=\"middle\" y=\"297.0\">\n",
              "    <tspan class=\"displacy-word\" fill=\"currentColor\" x=\"2250\">animalitos</tspan>\n",
              "    <tspan class=\"displacy-tag\" dy=\"2em\" fill=\"currentColor\" x=\"2250\">NOUN</tspan>\n",
              "</text>\n",
              "\n",
              "<text class=\"displacy-token\" fill=\"currentColor\" text-anchor=\"middle\" y=\"297.0\">\n",
              "    <tspan class=\"displacy-word\" fill=\"currentColor\" x=\"2350\">del</tspan>\n",
              "    <tspan class=\"displacy-tag\" dy=\"2em\" fill=\"currentColor\" x=\"2350\">ADP</tspan>\n",
              "</text>\n",
              "\n",
              "<text class=\"displacy-token\" fill=\"currentColor\" text-anchor=\"middle\" y=\"297.0\">\n",
              "    <tspan class=\"displacy-word\" fill=\"currentColor\" x=\"2450\">bosque.</tspan>\n",
              "    <tspan class=\"displacy-tag\" dy=\"2em\" fill=\"currentColor\" x=\"2450\">NOUN</tspan>\n",
              "</text>\n",
              "\n",
              "<g class=\"displacy-arrow\">\n",
              "    <path class=\"displacy-arc\" id=\"arrow-9c21aa01ce774a6681f3d88d085df302-1-0\" stroke-width=\"2px\" d=\"M62,252.0 62,235.33333333333334 138.0,235.33333333333334 138.0,252.0\" fill=\"none\" stroke=\"currentColor\"/>\n",
              "    <text dy=\"1.25em\" style=\"font-size: 0.8em; letter-spacing: 1px\">\n",
              "        <textPath xlink:href=\"#arrow-9c21aa01ce774a6681f3d88d085df302-1-0\" class=\"displacy-label\" startOffset=\"50%\" side=\"left\" fill=\"currentColor\" text-anchor=\"middle\">mark</textPath>\n",
              "    </text>\n",
              "    <path class=\"displacy-arrowhead\" d=\"M62,254.0 L58,246.0 66,246.0\" fill=\"currentColor\"/>\n",
              "</g>\n",
              "\n",
              "<g class=\"displacy-arrow\">\n",
              "    <path class=\"displacy-arc\" id=\"arrow-9c21aa01ce774a6681f3d88d085df302-1-1\" stroke-width=\"2px\" d=\"M162,252.0 162,202.0 744.0,202.0 744.0,252.0\" fill=\"none\" stroke=\"currentColor\"/>\n",
              "    <text dy=\"1.25em\" style=\"font-size: 0.8em; letter-spacing: 1px\">\n",
              "        <textPath xlink:href=\"#arrow-9c21aa01ce774a6681f3d88d085df302-1-1\" class=\"displacy-label\" startOffset=\"50%\" side=\"left\" fill=\"currentColor\" text-anchor=\"middle\">advcl</textPath>\n",
              "    </text>\n",
              "    <path class=\"displacy-arrowhead\" d=\"M162,254.0 L158,246.0 166,246.0\" fill=\"currentColor\"/>\n",
              "</g>\n",
              "\n",
              "<g class=\"displacy-arrow\">\n",
              "    <path class=\"displacy-arc\" id=\"arrow-9c21aa01ce774a6681f3d88d085df302-1-2\" stroke-width=\"2px\" d=\"M262,252.0 262,235.33333333333334 338.0,235.33333333333334 338.0,252.0\" fill=\"none\" stroke=\"currentColor\"/>\n",
              "    <text dy=\"1.25em\" style=\"font-size: 0.8em; letter-spacing: 1px\">\n",
              "        <textPath xlink:href=\"#arrow-9c21aa01ce774a6681f3d88d085df302-1-2\" class=\"displacy-label\" startOffset=\"50%\" side=\"left\" fill=\"currentColor\" text-anchor=\"middle\">mark</textPath>\n",
              "    </text>\n",
              "    <path class=\"displacy-arrowhead\" d=\"M262,254.0 L258,246.0 266,246.0\" fill=\"currentColor\"/>\n",
              "</g>\n",
              "\n",
              "<g class=\"displacy-arrow\">\n",
              "    <path class=\"displacy-arc\" id=\"arrow-9c21aa01ce774a6681f3d88d085df302-1-3\" stroke-width=\"2px\" d=\"M162,252.0 162,218.66666666666666 341.0,218.66666666666666 341.0,252.0\" fill=\"none\" stroke=\"currentColor\"/>\n",
              "    <text dy=\"1.25em\" style=\"font-size: 0.8em; letter-spacing: 1px\">\n",
              "        <textPath xlink:href=\"#arrow-9c21aa01ce774a6681f3d88d085df302-1-3\" class=\"displacy-label\" startOffset=\"50%\" side=\"left\" fill=\"currentColor\" text-anchor=\"middle\">advcl</textPath>\n",
              "    </text>\n",
              "    <path class=\"displacy-arrowhead\" d=\"M341.0,254.0 L345.0,246.0 337.0,246.0\" fill=\"currentColor\"/>\n",
              "</g>\n",
              "\n",
              "<g class=\"displacy-arrow\">\n",
              "    <path class=\"displacy-arc\" id=\"arrow-9c21aa01ce774a6681f3d88d085df302-1-4\" stroke-width=\"2px\" d=\"M362,252.0 362,235.33333333333334 438.0,235.33333333333334 438.0,252.0\" fill=\"none\" stroke=\"currentColor\"/>\n",
              "    <text dy=\"1.25em\" style=\"font-size: 0.8em; letter-spacing: 1px\">\n",
              "        <textPath xlink:href=\"#arrow-9c21aa01ce774a6681f3d88d085df302-1-4\" class=\"displacy-label\" startOffset=\"50%\" side=\"left\" fill=\"currentColor\" text-anchor=\"middle\">obj</textPath>\n",
              "    </text>\n",
              "    <path class=\"displacy-arrowhead\" d=\"M438.0,254.0 L442.0,246.0 434.0,246.0\" fill=\"currentColor\"/>\n",
              "</g>\n",
              "\n",
              "<g class=\"displacy-arrow\">\n",
              "    <path class=\"displacy-arc\" id=\"arrow-9c21aa01ce774a6681f3d88d085df302-1-5\" stroke-width=\"2px\" d=\"M562,252.0 562,218.66666666666666 741.0,218.66666666666666 741.0,252.0\" fill=\"none\" stroke=\"currentColor\"/>\n",
              "    <text dy=\"1.25em\" style=\"font-size: 0.8em; letter-spacing: 1px\">\n",
              "        <textPath xlink:href=\"#arrow-9c21aa01ce774a6681f3d88d085df302-1-5\" class=\"displacy-label\" startOffset=\"50%\" side=\"left\" fill=\"currentColor\" text-anchor=\"middle\">aux</textPath>\n",
              "    </text>\n",
              "    <path class=\"displacy-arrowhead\" d=\"M562,254.0 L558,246.0 566,246.0\" fill=\"currentColor\"/>\n",
              "</g>\n",
              "\n",
              "<g class=\"displacy-arrow\">\n",
              "    <path class=\"displacy-arc\" id=\"arrow-9c21aa01ce774a6681f3d88d085df302-1-6\" stroke-width=\"2px\" d=\"M662,252.0 662,235.33333333333334 738.0,235.33333333333334 738.0,252.0\" fill=\"none\" stroke=\"currentColor\"/>\n",
              "    <text dy=\"1.25em\" style=\"font-size: 0.8em; letter-spacing: 1px\">\n",
              "        <textPath xlink:href=\"#arrow-9c21aa01ce774a6681f3d88d085df302-1-6\" class=\"displacy-label\" startOffset=\"50%\" side=\"left\" fill=\"currentColor\" text-anchor=\"middle\">mark</textPath>\n",
              "    </text>\n",
              "    <path class=\"displacy-arrowhead\" d=\"M662,254.0 L658,246.0 666,246.0\" fill=\"currentColor\"/>\n",
              "</g>\n",
              "\n",
              "<g class=\"displacy-arrow\">\n",
              "    <path class=\"displacy-arc\" id=\"arrow-9c21aa01ce774a6681f3d88d085df302-1-7\" stroke-width=\"2px\" d=\"M862,252.0 862,185.33333333333331 1647.0,185.33333333333331 1647.0,252.0\" fill=\"none\" stroke=\"currentColor\"/>\n",
              "    <text dy=\"1.25em\" style=\"font-size: 0.8em; letter-spacing: 1px\">\n",
              "        <textPath xlink:href=\"#arrow-9c21aa01ce774a6681f3d88d085df302-1-7\" class=\"displacy-label\" startOffset=\"50%\" side=\"left\" fill=\"currentColor\" text-anchor=\"middle\">mark</textPath>\n",
              "    </text>\n",
              "    <path class=\"displacy-arrowhead\" d=\"M862,254.0 L858,246.0 866,246.0\" fill=\"currentColor\"/>\n",
              "</g>\n",
              "\n",
              "<g class=\"displacy-arrow\">\n",
              "    <path class=\"displacy-arc\" id=\"arrow-9c21aa01ce774a6681f3d88d085df302-1-8\" stroke-width=\"2px\" d=\"M962,252.0 962,235.33333333333334 1038.0,235.33333333333334 1038.0,252.0\" fill=\"none\" stroke=\"currentColor\"/>\n",
              "    <text dy=\"1.25em\" style=\"font-size: 0.8em; letter-spacing: 1px\">\n",
              "        <textPath xlink:href=\"#arrow-9c21aa01ce774a6681f3d88d085df302-1-8\" class=\"displacy-label\" startOffset=\"50%\" side=\"left\" fill=\"currentColor\" text-anchor=\"middle\">det</textPath>\n",
              "    </text>\n",
              "    <path class=\"displacy-arrowhead\" d=\"M962,254.0 L958,246.0 966,246.0\" fill=\"currentColor\"/>\n",
              "</g>\n",
              "\n",
              "<g class=\"displacy-arrow\">\n",
              "    <path class=\"displacy-arc\" id=\"arrow-9c21aa01ce774a6681f3d88d085df302-1-9\" stroke-width=\"2px\" d=\"M1062,252.0 1062,202.0 1644.0,202.0 1644.0,252.0\" fill=\"none\" stroke=\"currentColor\"/>\n",
              "    <text dy=\"1.25em\" style=\"font-size: 0.8em; letter-spacing: 1px\">\n",
              "        <textPath xlink:href=\"#arrow-9c21aa01ce774a6681f3d88d085df302-1-9\" class=\"displacy-label\" startOffset=\"50%\" side=\"left\" fill=\"currentColor\" text-anchor=\"middle\">nsubj</textPath>\n",
              "    </text>\n",
              "    <path class=\"displacy-arrowhead\" d=\"M1062,254.0 L1058,246.0 1066,246.0\" fill=\"currentColor\"/>\n",
              "</g>\n",
              "\n",
              "<g class=\"displacy-arrow\">\n",
              "    <path class=\"displacy-arc\" id=\"arrow-9c21aa01ce774a6681f3d88d085df302-1-10\" stroke-width=\"2px\" d=\"M1062,252.0 1062,235.33333333333334 1138.0,235.33333333333334 1138.0,252.0\" fill=\"none\" stroke=\"currentColor\"/>\n",
              "    <text dy=\"1.25em\" style=\"font-size: 0.8em; letter-spacing: 1px\">\n",
              "        <textPath xlink:href=\"#arrow-9c21aa01ce774a6681f3d88d085df302-1-10\" class=\"displacy-label\" startOffset=\"50%\" side=\"left\" fill=\"currentColor\" text-anchor=\"middle\">flat</textPath>\n",
              "    </text>\n",
              "    <path class=\"displacy-arrowhead\" d=\"M1138.0,254.0 L1142.0,246.0 1134.0,246.0\" fill=\"currentColor\"/>\n",
              "</g>\n",
              "\n",
              "<g class=\"displacy-arrow\">\n",
              "    <path class=\"displacy-arc\" id=\"arrow-9c21aa01ce774a6681f3d88d085df302-1-11\" stroke-width=\"2px\" d=\"M1262,252.0 1262,235.33333333333334 1338.0,235.33333333333334 1338.0,252.0\" fill=\"none\" stroke=\"currentColor\"/>\n",
              "    <text dy=\"1.25em\" style=\"font-size: 0.8em; letter-spacing: 1px\">\n",
              "        <textPath xlink:href=\"#arrow-9c21aa01ce774a6681f3d88d085df302-1-11\" class=\"displacy-label\" startOffset=\"50%\" side=\"left\" fill=\"currentColor\" text-anchor=\"middle\">case</textPath>\n",
              "    </text>\n",
              "    <path class=\"displacy-arrowhead\" d=\"M1262,254.0 L1258,246.0 1266,246.0\" fill=\"currentColor\"/>\n",
              "</g>\n",
              "\n",
              "<g class=\"displacy-arrow\">\n",
              "    <path class=\"displacy-arc\" id=\"arrow-9c21aa01ce774a6681f3d88d085df302-1-12\" stroke-width=\"2px\" d=\"M1062,252.0 1062,218.66666666666666 1341.0,218.66666666666666 1341.0,252.0\" fill=\"none\" stroke=\"currentColor\"/>\n",
              "    <text dy=\"1.25em\" style=\"font-size: 0.8em; letter-spacing: 1px\">\n",
              "        <textPath xlink:href=\"#arrow-9c21aa01ce774a6681f3d88d085df302-1-12\" class=\"displacy-label\" startOffset=\"50%\" side=\"left\" fill=\"currentColor\" text-anchor=\"middle\">nmod</textPath>\n",
              "    </text>\n",
              "    <path class=\"displacy-arrowhead\" d=\"M1341.0,254.0 L1345.0,246.0 1337.0,246.0\" fill=\"currentColor\"/>\n",
              "</g>\n",
              "\n",
              "<g class=\"displacy-arrow\">\n",
              "    <path class=\"displacy-arc\" id=\"arrow-9c21aa01ce774a6681f3d88d085df302-1-13\" stroke-width=\"2px\" d=\"M1462,252.0 1462,218.66666666666666 1641.0,218.66666666666666 1641.0,252.0\" fill=\"none\" stroke=\"currentColor\"/>\n",
              "    <text dy=\"1.25em\" style=\"font-size: 0.8em; letter-spacing: 1px\">\n",
              "        <textPath xlink:href=\"#arrow-9c21aa01ce774a6681f3d88d085df302-1-13\" class=\"displacy-label\" startOffset=\"50%\" side=\"left\" fill=\"currentColor\" text-anchor=\"middle\">cop</textPath>\n",
              "    </text>\n",
              "    <path class=\"displacy-arrowhead\" d=\"M1462,254.0 L1458,246.0 1466,246.0\" fill=\"currentColor\"/>\n",
              "</g>\n",
              "\n",
              "<g class=\"displacy-arrow\">\n",
              "    <path class=\"displacy-arc\" id=\"arrow-9c21aa01ce774a6681f3d88d085df302-1-14\" stroke-width=\"2px\" d=\"M1562,252.0 1562,235.33333333333334 1638.0,235.33333333333334 1638.0,252.0\" fill=\"none\" stroke=\"currentColor\"/>\n",
              "    <text dy=\"1.25em\" style=\"font-size: 0.8em; letter-spacing: 1px\">\n",
              "        <textPath xlink:href=\"#arrow-9c21aa01ce774a6681f3d88d085df302-1-14\" class=\"displacy-label\" startOffset=\"50%\" side=\"left\" fill=\"currentColor\" text-anchor=\"middle\">det</textPath>\n",
              "    </text>\n",
              "    <path class=\"displacy-arrowhead\" d=\"M1562,254.0 L1558,246.0 1566,246.0\" fill=\"currentColor\"/>\n",
              "</g>\n",
              "\n",
              "<g class=\"displacy-arrow\">\n",
              "    <path class=\"displacy-arc\" id=\"arrow-9c21aa01ce774a6681f3d88d085df302-1-15\" stroke-width=\"2px\" d=\"M762,252.0 762,168.66666666666669 1650.0,168.66666666666669 1650.0,252.0\" fill=\"none\" stroke=\"currentColor\"/>\n",
              "    <text dy=\"1.25em\" style=\"font-size: 0.8em; letter-spacing: 1px\">\n",
              "        <textPath xlink:href=\"#arrow-9c21aa01ce774a6681f3d88d085df302-1-15\" class=\"displacy-label\" startOffset=\"50%\" side=\"left\" fill=\"currentColor\" text-anchor=\"middle\">ccomp</textPath>\n",
              "    </text>\n",
              "    <path class=\"displacy-arrowhead\" d=\"M1650.0,254.0 L1654.0,246.0 1646.0,246.0\" fill=\"currentColor\"/>\n",
              "</g>\n",
              "\n",
              "<g class=\"displacy-arrow\">\n",
              "    <path class=\"displacy-arc\" id=\"arrow-9c21aa01ce774a6681f3d88d085df302-1-16\" stroke-width=\"2px\" d=\"M1762,252.0 1762,202.0 2244.0,202.0 2244.0,252.0\" fill=\"none\" stroke=\"currentColor\"/>\n",
              "    <text dy=\"1.25em\" style=\"font-size: 0.8em; letter-spacing: 1px\">\n",
              "        <textPath xlink:href=\"#arrow-9c21aa01ce774a6681f3d88d085df302-1-16\" class=\"displacy-label\" startOffset=\"50%\" side=\"left\" fill=\"currentColor\" text-anchor=\"middle\">cc</textPath>\n",
              "    </text>\n",
              "    <path class=\"displacy-arrowhead\" d=\"M1762,254.0 L1758,246.0 1766,246.0\" fill=\"currentColor\"/>\n",
              "</g>\n",
              "\n",
              "<g class=\"displacy-arrow\">\n",
              "    <path class=\"displacy-arc\" id=\"arrow-9c21aa01ce774a6681f3d88d085df302-1-17\" stroke-width=\"2px\" d=\"M1862,252.0 1862,235.33333333333334 1938.0,235.33333333333334 1938.0,252.0\" fill=\"none\" stroke=\"currentColor\"/>\n",
              "    <text dy=\"1.25em\" style=\"font-size: 0.8em; letter-spacing: 1px\">\n",
              "        <textPath xlink:href=\"#arrow-9c21aa01ce774a6681f3d88d085df302-1-17\" class=\"displacy-label\" startOffset=\"50%\" side=\"left\" fill=\"currentColor\" text-anchor=\"middle\">det</textPath>\n",
              "    </text>\n",
              "    <path class=\"displacy-arrowhead\" d=\"M1862,254.0 L1858,246.0 1866,246.0\" fill=\"currentColor\"/>\n",
              "</g>\n",
              "\n",
              "<g class=\"displacy-arrow\">\n",
              "    <path class=\"displacy-arc\" id=\"arrow-9c21aa01ce774a6681f3d88d085df302-1-18\" stroke-width=\"2px\" d=\"M1962,252.0 1962,235.33333333333334 2038.0,235.33333333333334 2038.0,252.0\" fill=\"none\" stroke=\"currentColor\"/>\n",
              "    <text dy=\"1.25em\" style=\"font-size: 0.8em; letter-spacing: 1px\">\n",
              "        <textPath xlink:href=\"#arrow-9c21aa01ce774a6681f3d88d085df302-1-18\" class=\"displacy-label\" startOffset=\"50%\" side=\"left\" fill=\"currentColor\" text-anchor=\"middle\">det</textPath>\n",
              "    </text>\n",
              "    <path class=\"displacy-arrowhead\" d=\"M1962,254.0 L1958,246.0 1966,246.0\" fill=\"currentColor\"/>\n",
              "</g>\n",
              "\n",
              "<g class=\"displacy-arrow\">\n",
              "    <path class=\"displacy-arc\" id=\"arrow-9c21aa01ce774a6681f3d88d085df302-1-19\" stroke-width=\"2px\" d=\"M2062,252.0 2062,218.66666666666666 2241.0,218.66666666666666 2241.0,252.0\" fill=\"none\" stroke=\"currentColor\"/>\n",
              "    <text dy=\"1.25em\" style=\"font-size: 0.8em; letter-spacing: 1px\">\n",
              "        <textPath xlink:href=\"#arrow-9c21aa01ce774a6681f3d88d085df302-1-19\" class=\"displacy-label\" startOffset=\"50%\" side=\"left\" fill=\"currentColor\" text-anchor=\"middle\">nsubj</textPath>\n",
              "    </text>\n",
              "    <path class=\"displacy-arrowhead\" d=\"M2062,254.0 L2058,246.0 2066,246.0\" fill=\"currentColor\"/>\n",
              "</g>\n",
              "\n",
              "<g class=\"displacy-arrow\">\n",
              "    <path class=\"displacy-arc\" id=\"arrow-9c21aa01ce774a6681f3d88d085df302-1-20\" stroke-width=\"2px\" d=\"M2162,252.0 2162,235.33333333333334 2238.0,235.33333333333334 2238.0,252.0\" fill=\"none\" stroke=\"currentColor\"/>\n",
              "    <text dy=\"1.25em\" style=\"font-size: 0.8em; letter-spacing: 1px\">\n",
              "        <textPath xlink:href=\"#arrow-9c21aa01ce774a6681f3d88d085df302-1-20\" class=\"displacy-label\" startOffset=\"50%\" side=\"left\" fill=\"currentColor\" text-anchor=\"middle\">cop</textPath>\n",
              "    </text>\n",
              "    <path class=\"displacy-arrowhead\" d=\"M2162,254.0 L2158,246.0 2166,246.0\" fill=\"currentColor\"/>\n",
              "</g>\n",
              "\n",
              "<g class=\"displacy-arrow\">\n",
              "    <path class=\"displacy-arc\" id=\"arrow-9c21aa01ce774a6681f3d88d085df302-1-21\" stroke-width=\"2px\" d=\"M1662,252.0 1662,185.33333333333331 2247.0,185.33333333333331 2247.0,252.0\" fill=\"none\" stroke=\"currentColor\"/>\n",
              "    <text dy=\"1.25em\" style=\"font-size: 0.8em; letter-spacing: 1px\">\n",
              "        <textPath xlink:href=\"#arrow-9c21aa01ce774a6681f3d88d085df302-1-21\" class=\"displacy-label\" startOffset=\"50%\" side=\"left\" fill=\"currentColor\" text-anchor=\"middle\">conj</textPath>\n",
              "    </text>\n",
              "    <path class=\"displacy-arrowhead\" d=\"M2247.0,254.0 L2251.0,246.0 2243.0,246.0\" fill=\"currentColor\"/>\n",
              "</g>\n",
              "\n",
              "<g class=\"displacy-arrow\">\n",
              "    <path class=\"displacy-arc\" id=\"arrow-9c21aa01ce774a6681f3d88d085df302-1-22\" stroke-width=\"2px\" d=\"M2362,252.0 2362,235.33333333333334 2438.0,235.33333333333334 2438.0,252.0\" fill=\"none\" stroke=\"currentColor\"/>\n",
              "    <text dy=\"1.25em\" style=\"font-size: 0.8em; letter-spacing: 1px\">\n",
              "        <textPath xlink:href=\"#arrow-9c21aa01ce774a6681f3d88d085df302-1-22\" class=\"displacy-label\" startOffset=\"50%\" side=\"left\" fill=\"currentColor\" text-anchor=\"middle\">case</textPath>\n",
              "    </text>\n",
              "    <path class=\"displacy-arrowhead\" d=\"M2362,254.0 L2358,246.0 2366,246.0\" fill=\"currentColor\"/>\n",
              "</g>\n",
              "\n",
              "<g class=\"displacy-arrow\">\n",
              "    <path class=\"displacy-arc\" id=\"arrow-9c21aa01ce774a6681f3d88d085df302-1-23\" stroke-width=\"2px\" d=\"M2262,252.0 2262,218.66666666666666 2441.0,218.66666666666666 2441.0,252.0\" fill=\"none\" stroke=\"currentColor\"/>\n",
              "    <text dy=\"1.25em\" style=\"font-size: 0.8em; letter-spacing: 1px\">\n",
              "        <textPath xlink:href=\"#arrow-9c21aa01ce774a6681f3d88d085df302-1-23\" class=\"displacy-label\" startOffset=\"50%\" side=\"left\" fill=\"currentColor\" text-anchor=\"middle\">nmod</textPath>\n",
              "    </text>\n",
              "    <path class=\"displacy-arrowhead\" d=\"M2441.0,254.0 L2445.0,246.0 2437.0,246.0\" fill=\"currentColor\"/>\n",
              "</g>\n",
              "</svg></span>"
            ]
          },
          "metadata": {}
        }
      ]
    },
    {
      "cell_type": "code",
      "metadata": {
        "colab": {
          "base_uri": "https://localhost:8080/",
          "height": 349
        },
        "id": "tnU5T6aN54UQ",
        "outputId": "10d12819-061d-47d1-e579-0b334bc74b38"
      },
      "source": [
        " displacy.render(robin_hood_sents[16], style='dep', jupyter=True, options={'color': 'white', 'bg': '#7d227b', 'distance': 95})"
      ],
      "execution_count": null,
      "outputs": [
        {
          "output_type": "display_data",
          "data": {
            "text/plain": [
              "<IPython.core.display.HTML object>"
            ],
            "text/html": [
              "<span class=\"tex2jax_ignore\"><svg xmlns=\"http://www.w3.org/2000/svg\" xmlns:xlink=\"http://www.w3.org/1999/xlink\" xml:lang=\"es\" id=\"75f7ed2853194ce49506a719618004c1-0\" class=\"displacy\" width=\"905\" height=\"327.0\" direction=\"ltr\" style=\"max-width: none; height: 327.0px; color: white; background: #7d227b; font-family: Arial; direction: ltr\">\n",
              "<text class=\"displacy-token\" fill=\"currentColor\" text-anchor=\"middle\" y=\"237.0\">\n",
              "    <tspan class=\"displacy-word\" fill=\"currentColor\" x=\"50\">Salgamos</tspan>\n",
              "    <tspan class=\"displacy-tag\" dy=\"2em\" fill=\"currentColor\" x=\"50\">VERB</tspan>\n",
              "</text>\n",
              "\n",
              "<text class=\"displacy-token\" fill=\"currentColor\" text-anchor=\"middle\" y=\"237.0\">\n",
              "    <tspan class=\"displacy-word\" fill=\"currentColor\" x=\"145\">del</tspan>\n",
              "    <tspan class=\"displacy-tag\" dy=\"2em\" fill=\"currentColor\" x=\"145\">ADP</tspan>\n",
              "</text>\n",
              "\n",
              "<text class=\"displacy-token\" fill=\"currentColor\" text-anchor=\"middle\" y=\"237.0\">\n",
              "    <tspan class=\"displacy-word\" fill=\"currentColor\" x=\"240\">elefante</tspan>\n",
              "    <tspan class=\"displacy-tag\" dy=\"2em\" fill=\"currentColor\" x=\"240\">PROPN</tspan>\n",
              "</text>\n",
              "\n",
              "<text class=\"displacy-token\" fill=\"currentColor\" text-anchor=\"middle\" y=\"237.0\">\n",
              "    <tspan class=\"displacy-word\" fill=\"currentColor\" x=\"335\">en</tspan>\n",
              "    <tspan class=\"displacy-tag\" dy=\"2em\" fill=\"currentColor\" x=\"335\">ADP</tspan>\n",
              "</text>\n",
              "\n",
              "<text class=\"displacy-token\" fill=\"currentColor\" text-anchor=\"middle\" y=\"237.0\">\n",
              "    <tspan class=\"displacy-word\" fill=\"currentColor\" x=\"430\">la</tspan>\n",
              "    <tspan class=\"displacy-tag\" dy=\"2em\" fill=\"currentColor\" x=\"430\">DET</tspan>\n",
              "</text>\n",
              "\n",
              "<text class=\"displacy-token\" fill=\"currentColor\" text-anchor=\"middle\" y=\"237.0\">\n",
              "    <tspan class=\"displacy-word\" fill=\"currentColor\" x=\"525\">habitación: ¿</tspan>\n",
              "    <tspan class=\"displacy-tag\" dy=\"2em\" fill=\"currentColor\" x=\"525\">NOUN</tspan>\n",
              "</text>\n",
              "\n",
              "<text class=\"displacy-token\" fill=\"currentColor\" text-anchor=\"middle\" y=\"237.0\">\n",
              "    <tspan class=\"displacy-word\" fill=\"currentColor\" x=\"620\">Robin</tspan>\n",
              "    <tspan class=\"displacy-tag\" dy=\"2em\" fill=\"currentColor\" x=\"620\">PROPN</tspan>\n",
              "</text>\n",
              "\n",
              "<text class=\"displacy-token\" fill=\"currentColor\" text-anchor=\"middle\" y=\"237.0\">\n",
              "    <tspan class=\"displacy-word\" fill=\"currentColor\" x=\"715\">Hood</tspan>\n",
              "    <tspan class=\"displacy-tag\" dy=\"2em\" fill=\"currentColor\" x=\"715\">PROPN</tspan>\n",
              "</text>\n",
              "\n",
              "<text class=\"displacy-token\" fill=\"currentColor\" text-anchor=\"middle\" y=\"237.0\">\n",
              "    <tspan class=\"displacy-word\" fill=\"currentColor\" x=\"810\">existió?</tspan>\n",
              "    <tspan class=\"displacy-tag\" dy=\"2em\" fill=\"currentColor\" x=\"810\">VERB</tspan>\n",
              "</text>\n",
              "\n",
              "<g class=\"displacy-arrow\">\n",
              "    <path class=\"displacy-arc\" id=\"arrow-75f7ed2853194ce49506a719618004c1-0-0\" stroke-width=\"2px\" d=\"M165,192.0 C165,144.5 225.0,144.5 225.0,192.0\" fill=\"none\" stroke=\"currentColor\"/>\n",
              "    <text dy=\"1.25em\" style=\"font-size: 0.8em; letter-spacing: 1px\">\n",
              "        <textPath xlink:href=\"#arrow-75f7ed2853194ce49506a719618004c1-0-0\" class=\"displacy-label\" startOffset=\"50%\" side=\"left\" fill=\"currentColor\" text-anchor=\"middle\">case</textPath>\n",
              "    </text>\n",
              "    <path class=\"displacy-arrowhead\" d=\"M165,194.0 L157,182.0 173,182.0\" fill=\"currentColor\"/>\n",
              "</g>\n",
              "\n",
              "<g class=\"displacy-arrow\">\n",
              "    <path class=\"displacy-arc\" id=\"arrow-75f7ed2853194ce49506a719618004c1-0-1\" stroke-width=\"2px\" d=\"M70,192.0 C70,97.0 230.0,97.0 230.0,192.0\" fill=\"none\" stroke=\"currentColor\"/>\n",
              "    <text dy=\"1.25em\" style=\"font-size: 0.8em; letter-spacing: 1px\">\n",
              "        <textPath xlink:href=\"#arrow-75f7ed2853194ce49506a719618004c1-0-1\" class=\"displacy-label\" startOffset=\"50%\" side=\"left\" fill=\"currentColor\" text-anchor=\"middle\">obj</textPath>\n",
              "    </text>\n",
              "    <path class=\"displacy-arrowhead\" d=\"M230.0,194.0 L238.0,182.0 222.0,182.0\" fill=\"currentColor\"/>\n",
              "</g>\n",
              "\n",
              "<g class=\"displacy-arrow\">\n",
              "    <path class=\"displacy-arc\" id=\"arrow-75f7ed2853194ce49506a719618004c1-0-2\" stroke-width=\"2px\" d=\"M355,192.0 C355,97.0 515.0,97.0 515.0,192.0\" fill=\"none\" stroke=\"currentColor\"/>\n",
              "    <text dy=\"1.25em\" style=\"font-size: 0.8em; letter-spacing: 1px\">\n",
              "        <textPath xlink:href=\"#arrow-75f7ed2853194ce49506a719618004c1-0-2\" class=\"displacy-label\" startOffset=\"50%\" side=\"left\" fill=\"currentColor\" text-anchor=\"middle\">case</textPath>\n",
              "    </text>\n",
              "    <path class=\"displacy-arrowhead\" d=\"M355,194.0 L347,182.0 363,182.0\" fill=\"currentColor\"/>\n",
              "</g>\n",
              "\n",
              "<g class=\"displacy-arrow\">\n",
              "    <path class=\"displacy-arc\" id=\"arrow-75f7ed2853194ce49506a719618004c1-0-3\" stroke-width=\"2px\" d=\"M450,192.0 C450,144.5 510.0,144.5 510.0,192.0\" fill=\"none\" stroke=\"currentColor\"/>\n",
              "    <text dy=\"1.25em\" style=\"font-size: 0.8em; letter-spacing: 1px\">\n",
              "        <textPath xlink:href=\"#arrow-75f7ed2853194ce49506a719618004c1-0-3\" class=\"displacy-label\" startOffset=\"50%\" side=\"left\" fill=\"currentColor\" text-anchor=\"middle\">det</textPath>\n",
              "    </text>\n",
              "    <path class=\"displacy-arrowhead\" d=\"M450,194.0 L442,182.0 458,182.0\" fill=\"currentColor\"/>\n",
              "</g>\n",
              "\n",
              "<g class=\"displacy-arrow\">\n",
              "    <path class=\"displacy-arc\" id=\"arrow-75f7ed2853194ce49506a719618004c1-0-4\" stroke-width=\"2px\" d=\"M70,192.0 C70,49.5 520.0,49.5 520.0,192.0\" fill=\"none\" stroke=\"currentColor\"/>\n",
              "    <text dy=\"1.25em\" style=\"font-size: 0.8em; letter-spacing: 1px\">\n",
              "        <textPath xlink:href=\"#arrow-75f7ed2853194ce49506a719618004c1-0-4\" class=\"displacy-label\" startOffset=\"50%\" side=\"left\" fill=\"currentColor\" text-anchor=\"middle\">obl</textPath>\n",
              "    </text>\n",
              "    <path class=\"displacy-arrowhead\" d=\"M520.0,194.0 L528.0,182.0 512.0,182.0\" fill=\"currentColor\"/>\n",
              "</g>\n",
              "\n",
              "<g class=\"displacy-arrow\">\n",
              "    <path class=\"displacy-arc\" id=\"arrow-75f7ed2853194ce49506a719618004c1-0-5\" stroke-width=\"2px\" d=\"M640,192.0 C640,97.0 800.0,97.0 800.0,192.0\" fill=\"none\" stroke=\"currentColor\"/>\n",
              "    <text dy=\"1.25em\" style=\"font-size: 0.8em; letter-spacing: 1px\">\n",
              "        <textPath xlink:href=\"#arrow-75f7ed2853194ce49506a719618004c1-0-5\" class=\"displacy-label\" startOffset=\"50%\" side=\"left\" fill=\"currentColor\" text-anchor=\"middle\">nsubj</textPath>\n",
              "    </text>\n",
              "    <path class=\"displacy-arrowhead\" d=\"M640,194.0 L632,182.0 648,182.0\" fill=\"currentColor\"/>\n",
              "</g>\n",
              "\n",
              "<g class=\"displacy-arrow\">\n",
              "    <path class=\"displacy-arc\" id=\"arrow-75f7ed2853194ce49506a719618004c1-0-6\" stroke-width=\"2px\" d=\"M640,192.0 C640,144.5 700.0,144.5 700.0,192.0\" fill=\"none\" stroke=\"currentColor\"/>\n",
              "    <text dy=\"1.25em\" style=\"font-size: 0.8em; letter-spacing: 1px\">\n",
              "        <textPath xlink:href=\"#arrow-75f7ed2853194ce49506a719618004c1-0-6\" class=\"displacy-label\" startOffset=\"50%\" side=\"left\" fill=\"currentColor\" text-anchor=\"middle\">flat</textPath>\n",
              "    </text>\n",
              "    <path class=\"displacy-arrowhead\" d=\"M700.0,194.0 L708.0,182.0 692.0,182.0\" fill=\"currentColor\"/>\n",
              "</g>\n",
              "\n",
              "<g class=\"displacy-arrow\">\n",
              "    <path class=\"displacy-arc\" id=\"arrow-75f7ed2853194ce49506a719618004c1-0-7\" stroke-width=\"2px\" d=\"M70,192.0 C70,2.0 810.0,2.0 810.0,192.0\" fill=\"none\" stroke=\"currentColor\"/>\n",
              "    <text dy=\"1.25em\" style=\"font-size: 0.8em; letter-spacing: 1px\">\n",
              "        <textPath xlink:href=\"#arrow-75f7ed2853194ce49506a719618004c1-0-7\" class=\"displacy-label\" startOffset=\"50%\" side=\"left\" fill=\"currentColor\" text-anchor=\"middle\">ccomp</textPath>\n",
              "    </text>\n",
              "    <path class=\"displacy-arrowhead\" d=\"M810.0,194.0 L818.0,182.0 802.0,182.0\" fill=\"currentColor\"/>\n",
              "</g>\n",
              "</svg></span>"
            ]
          },
          "metadata": {}
        }
      ]
    },
    {
      "cell_type": "markdown",
      "metadata": {
        "id": "uSHXqBRVgPY8"
      },
      "source": [
        "## Part of Speech Tagging:\n",
        "\n",
        "El siguiente paso será asignarle a cada palabra de la lista *robin_hood_tk_words* su función gramatical.\n",
        "\n",
        "Para realizar este proceso -conocido como *Part of Speech Tagging (POS Tagging)*- utilizaré la librería *Polyglot*, por dos razones:\n",
        "1. El soporte multilingual de *Polyglot* es muy robusto, y en nuestro caso estamos analizando no sólo un texto en español, sino que además cuenta con modismos propios del locutor.\n",
        "2. *Polyglot* cuenta con un algoritmo de POS Tagging sumamente eficaz ya listo para utilizar, sin necesidad de ser entrenado por el usuario."
      ]
    },
    {
      "cell_type": "markdown",
      "metadata": {
        "id": "SqNlqkoQsWT9"
      },
      "source": [
        " ### Instalemos Polyglot (y sus dependencias) e importémoslo en nuestro proyecto:"
      ]
    },
    {
      "cell_type": "code",
      "metadata": {
        "colab": {
          "base_uri": "https://localhost:8080/"
        },
        "id": "94QD00sDniB7",
        "outputId": "b4eeed81-a085-4975-9613-0991a5684b38"
      },
      "source": [
        "!pip install polyglot\n",
        "!pip install pyicu\n",
        "!pip install pycld2\n",
        "!pip install Morfessor"
      ],
      "execution_count": null,
      "outputs": [
        {
          "output_type": "stream",
          "name": "stdout",
          "text": [
            "Collecting polyglot\n",
            "  Downloading polyglot-16.7.4.tar.gz (126 kB)\n",
            "\u001b[?25l     \u001b[90m━━━━━━━━━━━━━━━━━━━━━━━━━━━━━━━━━━━━━━━━\u001b[0m \u001b[32m0.0/126.3 kB\u001b[0m \u001b[31m?\u001b[0m eta \u001b[36m-:--:--\u001b[0m\r\u001b[2K     \u001b[91m━━━━━━━━━━━━━━━━━━━━━━━━━━━━━━━━━━━\u001b[0m\u001b[91m╸\u001b[0m\u001b[90m━━━━\u001b[0m \u001b[32m112.6/126.3 kB\u001b[0m \u001b[31m3.9 MB/s\u001b[0m eta \u001b[36m0:00:01\u001b[0m\r\u001b[2K     \u001b[90m━━━━━━━━━━━━━━━━━━━━━━━━━━━━━━━━━━━━━━━━\u001b[0m \u001b[32m126.3/126.3 kB\u001b[0m \u001b[31m2.0 MB/s\u001b[0m eta \u001b[36m0:00:00\u001b[0m\n",
            "\u001b[?25h  Preparing metadata (setup.py) ... \u001b[?25l\u001b[?25hdone\n",
            "Building wheels for collected packages: polyglot\n",
            "  Building wheel for polyglot (setup.py) ... \u001b[?25l\u001b[?25hdone\n",
            "  Created wheel for polyglot: filename=polyglot-16.7.4-py2.py3-none-any.whl size=52561 sha256=52b3936e7f96cd50f54f9afdd0b53243b1205be4abc2bb0cb7ec9fa1733b4e6a\n",
            "  Stored in directory: /root/.cache/pip/wheels/aa/92/4a/b172589446ba537db3bdb9a1f2204f27fe71217981c14ac368\n",
            "Successfully built polyglot\n",
            "Installing collected packages: polyglot\n",
            "Successfully installed polyglot-16.7.4\n",
            "Collecting pyicu\n",
            "  Downloading PyICU-2.13.1.tar.gz (262 kB)\n",
            "\u001b[2K     \u001b[90m━━━━━━━━━━━━━━━━━━━━━━━━━━━━━━━━━━━━━━━━\u001b[0m \u001b[32m262.4/262.4 kB\u001b[0m \u001b[31m4.6 MB/s\u001b[0m eta \u001b[36m0:00:00\u001b[0m\n",
            "\u001b[?25h  Installing build dependencies ... \u001b[?25l\u001b[?25hdone\n",
            "  Getting requirements to build wheel ... \u001b[?25l\u001b[?25hdone\n",
            "  Preparing metadata (pyproject.toml) ... \u001b[?25l\u001b[?25hdone\n",
            "Building wheels for collected packages: pyicu\n",
            "  Building wheel for pyicu (pyproject.toml) ... \u001b[?25l\u001b[?25hdone\n",
            "  Created wheel for pyicu: filename=PyICU-2.13.1-cp310-cp310-linux_x86_64.whl size=1801403 sha256=c3a6d029f24429e2f16546970cd830efec5df3952140c3fda1d81495f8944c8b\n",
            "  Stored in directory: /root/.cache/pip/wheels/8e/45/08/f4bc505e31eb7bb779d493226921abf18cf55ed30142e70eae\n",
            "Successfully built pyicu\n",
            "Installing collected packages: pyicu\n",
            "Successfully installed pyicu-2.13.1\n",
            "Collecting pycld2\n",
            "  Downloading pycld2-0.41.tar.gz (41.4 MB)\n",
            "\u001b[2K     \u001b[90m━━━━━━━━━━━━━━━━━━━━━━━━━━━━━━━━━━━━━━━━\u001b[0m \u001b[32m41.4/41.4 MB\u001b[0m \u001b[31m25.0 MB/s\u001b[0m eta \u001b[36m0:00:00\u001b[0m\n",
            "\u001b[?25h  Preparing metadata (setup.py) ... \u001b[?25l\u001b[?25hdone\n",
            "Building wheels for collected packages: pycld2\n",
            "  Building wheel for pycld2 (setup.py) ... \u001b[?25l\u001b[?25hdone\n",
            "  Created wheel for pycld2: filename=pycld2-0.41-cp310-cp310-linux_x86_64.whl size=9904035 sha256=a8eb0da1d20198ea0e59c52eefdfce1392cf2a82229f739e8c53062128cbe126\n",
            "  Stored in directory: /root/.cache/pip/wheels/be/81/31/240c89c845e008a93d98542325270007de595bfd356eb0b06c\n",
            "Successfully built pycld2\n",
            "Installing collected packages: pycld2\n",
            "Successfully installed pycld2-0.41\n",
            "Collecting Morfessor\n",
            "  Downloading Morfessor-2.0.6-py3-none-any.whl.metadata (628 bytes)\n",
            "Downloading Morfessor-2.0.6-py3-none-any.whl (35 kB)\n",
            "Installing collected packages: Morfessor\n",
            "Successfully installed Morfessor-2.0.6\n"
          ]
        }
      ]
    },
    {
      "cell_type": "code",
      "metadata": {
        "id": "Fw3AMwFCejad"
      },
      "source": [
        "import polyglot\n",
        "from polyglot.downloader import downloader\n",
        "from polyglot.text import Text"
      ],
      "execution_count": null,
      "outputs": []
    },
    {
      "cell_type": "markdown",
      "metadata": {
        "id": "J25uuQJGs5bP"
      },
      "source": [
        "Descarguemos también los archivos necesarios para esta tarea en particular:"
      ]
    },
    {
      "cell_type": "code",
      "metadata": {
        "colab": {
          "base_uri": "https://localhost:8080/"
        },
        "id": "F-RmBXaDiSLg",
        "outputId": "9398353a-d8ca-4015-c5b7-841275bd4d40"
      },
      "source": [
        "%%bash\n",
        "polyglot download embeddings2.es pos2.es ner2.es"
      ],
      "execution_count": null,
      "outputs": [
        {
          "output_type": "stream",
          "name": "stdout",
          "text": [
            "[polyglot_data] Downloading package embeddings2.es to\n",
            "[polyglot_data]     /root/polyglot_data...\n",
            "[polyglot_data] Downloading package pos2.es to /root/polyglot_data...\n",
            "[polyglot_data] Downloading package ner2.es to /root/polyglot_data...\n"
          ]
        }
      ]
    },
    {
      "cell_type": "markdown",
      "metadata": {
        "id": "fO7Jhqg9l0PD"
      },
      "source": [
        "Ya instalado *Polyglot* y todas sus dependencias pasemos, ahora sí, a realizar el *POS Tagging* del texto bajo estudio.\n",
        "\n",
        "Al igual que *spaCy* tiene un tipo de objeto (Doc) en el que se realizan todas las operaciones de Procesamiento de Lenguaje Natural, *Polyglot* opera a través de objetos de tipo *Text*:"
      ]
    },
    {
      "cell_type": "code",
      "metadata": {
        "colab": {
          "base_uri": "https://localhost:8080/",
          "height": 138
        },
        "id": "29_BDlJTPJ7b",
        "outputId": "1acd2ce2-a455-4dcc-b096-ea64f666e093"
      },
      "source": [
        "text = Text(robin_hood)\n",
        "type(text)"
      ],
      "execution_count": null,
      "outputs": [
        {
          "output_type": "execute_result",
          "data": {
            "text/plain": [
              "polyglot.text.Text"
            ],
            "text/html": [
              "<div style=\"max-width:800px; border: 1px solid var(--colab-border-color);\"><style>\n",
              "      pre.function-repr-contents {\n",
              "        overflow-x: auto;\n",
              "        padding: 8px 12px;\n",
              "        max-height: 500px;\n",
              "      }\n",
              "\n",
              "      pre.function-repr-contents.function-repr-contents-collapsed {\n",
              "        cursor: pointer;\n",
              "        max-height: 100px;\n",
              "      }\n",
              "    </style>\n",
              "    <pre style=\"white-space: initial; background:\n",
              "         var(--colab-secondary-surface-color); padding: 8px 12px;\n",
              "         border-bottom: 1px solid var(--colab-border-color);\"><b>polyglot.text.Text</b><br/>def __init__(text, hint_language_code=None)</pre><pre class=\"function-repr-contents function-repr-contents-collapsed\" style=\"\"><a class=\"filepath\" style=\"display:none\" href=\"#\">/usr/local/lib/python3.10/dist-packages/polyglot/text.py</a>.\n",
              "  </pre>\n",
              "      <script>\n",
              "      if (google.colab.kernel.accessAllowed && google.colab.files && google.colab.files.view) {\n",
              "        for (const element of document.querySelectorAll('.filepath')) {\n",
              "          element.style.display = 'block'\n",
              "          element.onclick = (event) => {\n",
              "            event.preventDefault();\n",
              "            event.stopPropagation();\n",
              "            google.colab.files.view(element.textContent, 496);\n",
              "          };\n",
              "        }\n",
              "      }\n",
              "      for (const element of document.querySelectorAll('.function-repr-contents')) {\n",
              "        element.onclick = (event) => {\n",
              "          event.preventDefault();\n",
              "          event.stopPropagation();\n",
              "          element.classList.toggle('function-repr-contents-collapsed');\n",
              "        };\n",
              "      }\n",
              "      </script>\n",
              "      </div>"
            ]
          },
          "metadata": {},
          "execution_count": 30
        }
      ]
    },
    {
      "cell_type": "markdown",
      "metadata": {
        "id": "QfQywyImP24H"
      },
      "source": [
        " Y, al igual que en *spaCy*, a partir de dicho objeto podemos ver todas las características del texto (tokenizado, entidades, POS Tags, etc.). En nuestro caso, recordemos que queremos acceder a las etiquetas POS:"
      ]
    },
    {
      "cell_type": "code",
      "metadata": {
        "colab": {
          "base_uri": "https://localhost:8080/"
        },
        "id": "HDgzLP-xQPEu",
        "outputId": "81f2b41f-db04-48bb-ee8e-85bbabea8a1a"
      },
      "source": [
        "text.pos_tags[:20] #se muestran los primeros veinte items"
      ],
      "execution_count": null,
      "outputs": [
        {
          "output_type": "execute_result",
          "data": {
            "text/plain": [
              "[('Se', 'PRON'),\n",
              " ('me', 'PRON'),\n",
              " ('callan', 'VERB'),\n",
              " ('.', 'X'),\n",
              " ('Si', 'PROPN'),\n",
              " (',', 'PUNCT'),\n",
              " ('sé', 'VERB'),\n",
              " ('que', 'SCONJ'),\n",
              " ('ha', 'AUX'),\n",
              " ('pasado', 'VERB'),\n",
              " ('mucho', 'DET'),\n",
              " ('tiempo', 'NOUN'),\n",
              " ('pero', 'CONJ'),\n",
              " ('díganme', 'PUNCT'),\n",
              " ('una', 'DET'),\n",
              " ('cosa', 'NOUN'),\n",
              " (',', 'PUNCT'),\n",
              " ('si', 'SCONJ'),\n",
              " ('Rihanna', 'PROPN'),\n",
              " ('se', 'PRON')]"
            ]
          },
          "metadata": {},
          "execution_count": 31
        }
      ]
    },
    {
      "cell_type": "markdown",
      "metadata": {
        "id": "xNul_aYk4GPd"
      },
      "source": [
        " Vemos, que ahora cada palabra cuenta con una etiqueta. En el caso particular de *Polytlog* las etiquetas corresponden al [Universal POS Tag](https://universaldependencies.org/docs/u/pos/index.html), que se reducen a las siguientes:\n",
        "<ul>• ADJ: adjetivo.\n",
        "• ADP: preposición.\n",
        "• ADV: adverbio.\n",
        "• AUX: verbo auxiliar.</ul>\n",
        "<ul>• CONJ: conjunción.\n",
        "• DET: artículo determinado.\n",
        "• INTJ: interjección.\n",
        "• NOUN: sustantivo.</ul>\n",
        "<ul>• NUM: numeral.\n",
        "• PART: partícula.\n",
        "• PRON: pronombre.\n",
        "• PROPN: pronombre personal.</ul>\n",
        "<ul>• PUNCT: signos de puntuación.\n",
        "• SCONJ: conjunción subordinada.\n",
        "• SYM: símbolo.\n",
        "<ul>• VERB: verbos.\n",
        "• X: otros.</ul>\n",
        "\n",
        "Existen otros sistemas, como las complejas [etiquetas EAGLE](https://www.cs.upc.edu/~nlp/tools/parole-sp.html), específicamente creadas para el castellano.\n",
        "\n",
        "La idea de este ejercicio es **graficar las proporciones de cada etiqueta en el hilo de Robin Hood** y, si repitiésemos el ejercicio en cada uno de los hilos publicados por @Bamtheory, podríamos encontrar patrones de lenguaje y -en su caso- cómo dichos patrones inciden en la efectividad de los hilos (esto no es un ejercicio que vayamos a realizar, al menos de momento, pero no quería dejar de pasar la oportunidad para exponer uno de los usos que podemos darle al Procesamiento de Lenguaje Natural)."
      ]
    },
    {
      "cell_type": "markdown",
      "metadata": {
        "id": "L5yHJdiEt7i5"
      },
      "source": [
        "Lo siguiente que haré será eliminar del listado aquellos etiquetados como signos de puntuación, y -del resto- contar cuántas veces aparece cada pareja de (palabra, etiqueta) y agrupar ese resultado en una lista que incluya el total de dichas apariciones.\n",
        "\n",
        "El resultado será una lista  que contendrá un tupple con tres valores: (palabra, etiqueta, cantidad de repeticiones) y dicho tupple aparecerá una sola vez en la lista.\n",
        "\n",
        "Así, si al aplicar el *POS Tagging* una misma palabra fue etiquetada de manera distinta en diversas oportunidades, podremos verlo más fácilmente."
      ]
    },
    {
      "cell_type": "code",
      "metadata": {
        "colab": {
          "base_uri": "https://localhost:8080/"
        },
        "id": "pZAxtlMLkhON",
        "outputId": "5dd5d76a-c548-4bac-a9b2-4c297cd43fc7"
      },
      "source": [
        "robin_hood_tags = [(word, tag) for (word, tag) in text.pos_tags if tag !='PUNCT']\n",
        "robin_hood_tags_count = list(Counter(robin_hood_tags).most_common())\n",
        "robin_hood_tags_count[:10] #se muestran los diez primeros ítems"
      ],
      "execution_count": null,
      "outputs": [
        {
          "output_type": "execute_result",
          "data": {
            "text/plain": [
              "[(('de', 'ADP'), 53),\n",
              " (('y', 'CONJ'), 36),\n",
              " (('que', 'SCONJ'), 29),\n",
              " (('a', 'ADP'), 29),\n",
              " (('.', 'X'), 28),\n",
              " (('Robin', 'PROPN'), 27),\n",
              " (('el', 'DET'), 24),\n",
              " (('un', 'DET'), 20),\n",
              " (('en', 'ADP'), 20),\n",
              " (('la', 'DET'), 19)]"
            ]
          },
          "metadata": {},
          "execution_count": 32
        }
      ]
    },
    {
      "cell_type": "markdown",
      "metadata": {
        "id": "V89il9sXm8yw"
      },
      "source": [
        "El resultado anterior no debería sorprendernos. Evidentemente en cualquier texto las palabras que maś repeticiones tendrán serán los artículos, conectivos, y todo el resto de conjunto de palabras no añaden contenido sino estructura al mensaje.\n",
        "\n",
        "Este cúmulo de palabras, conocidas como *stopwords* o *palabras vacías*, suelen ser separadas del texto al hacer ejercicios de Procesamiento de Lenguaje Natural.\n",
        "\n",
        "De las tres herramientas mencionadas a lo largo de este trabajo, NLTK es la que cuenta con un robusto glosario de *stopwords* en varios idiomas, incluido el español.\n",
        "\n",
        "Descarguemos el listado e incorporémoslo a nuestro ejercicio:"
      ]
    },
    {
      "cell_type": "code",
      "metadata": {
        "colab": {
          "base_uri": "https://localhost:8080/"
        },
        "id": "WjSku8n26Coy",
        "outputId": "950c1b3f-9973-45e6-ff7f-5ea4dd77c0ff"
      },
      "source": [
        " nltk.download('stopwords')"
      ],
      "execution_count": null,
      "outputs": [
        {
          "output_type": "stream",
          "name": "stderr",
          "text": [
            "[nltk_data] Downloading package stopwords to /root/nltk_data...\n",
            "[nltk_data]   Unzipping corpora/stopwords.zip.\n"
          ]
        },
        {
          "output_type": "execute_result",
          "data": {
            "text/plain": [
              "True"
            ]
          },
          "metadata": {},
          "execution_count": 33
        }
      ]
    },
    {
      "cell_type": "code",
      "metadata": {
        "colab": {
          "base_uri": "https://localhost:8080/"
        },
        "id": "MFeYMlAap_7R",
        "outputId": "ca736770-d0a6-4e9d-d9a4-64a4d8b49df8"
      },
      "source": [
        "from nltk.corpus import stopwords\n",
        "stopwords.words('spanish')[:10] #se muestran los primeros diez items"
      ],
      "execution_count": null,
      "outputs": [
        {
          "output_type": "execute_result",
          "data": {
            "text/plain": [
              "['de', 'la', 'que', 'el', 'en', 'y', 'a', 'los', 'del', 'se']"
            ]
          },
          "metadata": {},
          "execution_count": 34
        }
      ]
    },
    {
      "cell_type": "markdown",
      "metadata": {
        "id": "o-kXXRKirbAY"
      },
      "source": [
        "Como medida de precaución, agreguemos a la lista de *stopwords* los signos de puntuación:"
      ]
    },
    {
      "cell_type": "code",
      "metadata": {
        "id": "Tjbk-ocY6igI",
        "colab": {
          "base_uri": "https://localhost:8080/"
        },
        "outputId": "d9566f74-4889-47f2-d7e7-e5dfafaf6fc4"
      },
      "source": [
        "stop_words = set(stopwords.words('spanish'))\n",
        "punctuation = ['.', ',', ';', ':', '¿', '?', '¡', '!']\n",
        "for sign in punctuation:\n",
        "    stop_words.add(sign)\n",
        "'!' and '¿' in stop_words"
      ],
      "execution_count": null,
      "outputs": [
        {
          "output_type": "execute_result",
          "data": {
            "text/plain": [
              "True"
            ]
          },
          "metadata": {},
          "execution_count": 35
        }
      ]
    },
    {
      "cell_type": "markdown",
      "metadata": {
        "id": "RYkFhD9ZtWIm"
      },
      "source": [
        "Bien, hemos comprobado que '!' y '¿' fueron agregadas al set de *stop_words* con lo cual queda claro que todo el listado de signos de puntuación fue añadido correctamente.\n",
        "\n",
        "Pasemos entonces a eliminar del texto del hilo todas aquellas palabras que formen parte del set de *stop_words* y volvamos a enumerar las POS Tags así como la cantidad de veces que aparece cada una, simplemente sobreescribiendo la variable *robin_hood_tags* elimando los *stop_words*"
      ]
    },
    {
      "cell_type": "code",
      "metadata": {
        "colab": {
          "base_uri": "https://localhost:8080/"
        },
        "id": "FfXMat0Mtu_q",
        "outputId": "d9aff60b-58eb-48e5-ca2e-ff4bc2c51016"
      },
      "source": [
        "robin_hood_tags = [(word, tag) for (word, tag) in text.pos_tags if tag !='PUNCT']\n",
        "robin_hood_tags = [(word, tag) for (word, tag) in robin_hood_tags if word not in stop_words]\n",
        "robin_hood_tags_count = list(Counter(robin_hood_tags).most_common())\n",
        "robin_hood_tags_count[:10] #se muestran los diez primeros ítems"
      ],
      "execution_count": null,
      "outputs": [
        {
          "output_type": "execute_result",
          "data": {
            "text/plain": [
              "[(('Robin', 'PROPN'), 27),\n",
              " (('Hood', 'PROPN'), 19),\n",
              " (('Y', 'CONJ'), 8),\n",
              " (('rey', 'NOUN'), 6),\n",
              " (('dos', 'NUM'), 4),\n",
              " (('historia', 'NOUN'), 4),\n",
              " (('bosque', 'NOUN'), 4),\n",
              " (('vez', 'NOUN'), 4),\n",
              " (('así', 'ADV'), 4),\n",
              " (('años', 'NOUN'), 3)]"
            ]
          },
          "metadata": {},
          "execution_count": 36
        }
      ]
    },
    {
      "cell_type": "markdown",
      "metadata": {
        "id": "AeNqaAqY7wOo"
      },
      "source": [
        "Con los datos obtenidos podemos hacer nuestros propios gráficos, sin limitarnos a las visualizaciones ofrecidas por cada módulo en particular.\n",
        "\n",
        "Lógicamente, tendremos que enumerar las equiquetas obtenidas y cuántas veces se obtuvo cada una, al igual que hicimos anteriormente con las entidades identificadas como personas por *spaCy*:"
      ]
    },
    {
      "cell_type": "code",
      "metadata": {
        "colab": {
          "base_uri": "https://localhost:8080/"
        },
        "id": "p9dumxIoX7UF",
        "outputId": "96a05157-44ed-4036-cdea-e62fd76f53c8"
      },
      "source": [
        "tags = []\n",
        "for (word, tag) in robin_hood_tags:\n",
        "    tags.append(tag)\n",
        "\n",
        "tags_count = Counter(tags)\n",
        "tags_count = list(reversed(tags_count.most_common()))\n",
        "tags_count"
      ],
      "execution_count": null,
      "outputs": [
        {
          "output_type": "execute_result",
          "data": {
            "text/plain": [
              "[('SYM', 2),\n",
              " ('SCONJ', 6),\n",
              " ('PRON', 9),\n",
              " ('AUX', 10),\n",
              " ('CONJ', 12),\n",
              " ('ADP', 12),\n",
              " ('DET', 13),\n",
              " ('ADV', 30),\n",
              " ('NUM', 35),\n",
              " ('X', 37),\n",
              " ('ADJ', 38),\n",
              " ('PROPN', 107),\n",
              " ('VERB', 116),\n",
              " ('NOUN', 177)]"
            ]
          },
          "metadata": {},
          "execution_count": 37
        }
      ]
    },
    {
      "cell_type": "code",
      "metadata": {
        "colab": {
          "base_uri": "https://localhost:8080/",
          "height": 416
        },
        "id": "B0026XKWjq2X",
        "outputId": "a43edf95-1559-409d-b210-31a98a0ed10d"
      },
      "source": [
        "labels = [tag for tag, value in tags_count]\n",
        "values = [value for tag, value in tags_count]\n",
        "explode = [value/value*0.35 for value in values]\n",
        "plt.figure(figsize=(12, 4))\n",
        "plt.subplot(121)\n",
        "barh = plt.barh(labels, values)\n",
        "plt.title('Figuras gramaticales\\nen el hilo de Robin Hood')\n",
        "plt.subplot(122)\n",
        "pie = plt.pie(values, autopct='%1.1f%%',  pctdistance=1.2, wedgeprops={'edgecolor': 'black'},\n",
        "              radius=1.5, explode=explode)\n",
        "plt.legend(labels, loc='center right', bbox_to_anchor=(1.1,0.5), fontsize=10,\n",
        "          bbox_transform=plt.gcf().transFigure)\n",
        "plt.style.use('dark_background')\n",
        "plt.show()"
      ],
      "execution_count": null,
      "outputs": [
        {
          "output_type": "display_data",
          "data": {
            "text/plain": [
              "<Figure size 1200x400 with 2 Axes>"
            ],
            "image/png": "[encoded data removed]"
          },
          "metadata": {}
        }
      ]
    },
    {
      "cell_type": "markdown",
      "metadata": {
        "id": "G-k7rigSNsnz"
      },
      "source": [
        " ¿Recuerdan que en la aclaratoria les dije que el ejercicio se iba a tornar un poco redundante al utilizar varias librerías?\n",
        "\n",
        "Bien, en este punto tenemos tres tokenizaciones (NLTK, *spaCy*, *Polyglot*), dos *NERs* y dos *POS Taggings* (*spaCy*, *Polyglot*). No está de más aclarar nuevamente que la intención de hacerlo así era mostrar un abanico de herramientas para que cada quien elija de entre ellas la que mejor le parezca según su propio proyecto.\n",
        "\n",
        "Ya que las tenemos, aprovechemos de ver si existe alguna diferencia significativa entre el resultado de ambas librerías, en cuanto a *POS Tagging* se refiere:"
      ]
    },
    {
      "cell_type": "code",
      "metadata": {
        "colab": {
          "base_uri": "https://localhost:8080/"
        },
        "id": "mQpHRlzSPVwm",
        "outputId": "7b75aaef-25e7-4705-b448-da6f901b4d5e"
      },
      "source": [
        "poly_tags = text.pos_tags\n",
        "spacy_tags = [(token.text, token.pos_) for token in doc]\n",
        "\n",
        "poly_tags == spacy_tags"
      ],
      "execution_count": null,
      "outputs": [
        {
          "output_type": "execute_result",
          "data": {
            "text/plain": [
              "False"
            ]
          },
          "metadata": {},
          "execution_count": 39
        }
      ]
    },
    {
      "cell_type": "markdown",
      "metadata": {
        "id": "HUl8wUI_RX0c"
      },
      "source": [
        "De entrada vemos que ambas listas no son iguales, y por ello al compararlas (==) nos arroja como resultado *False*.\n",
        "\n",
        "Veamos las diferencias entre los primeros cien ítems de cada lista:"
      ]
    },
    {
      "cell_type": "code",
      "metadata": {
        "colab": {
          "base_uri": "https://localhost:8080/"
        },
        "id": "Av-SgzKGRnXI",
        "outputId": "5db79358-e317-4105-9180-06e83eac3142"
      },
      "source": [
        "print('Polyglot tags:')\n",
        "for tag in poly_tags[:100]:\n",
        "    if tag not in spacy_tags[:100]:\n",
        "        print(tag)\n",
        "print(f'\\nspaCy tags:')\n",
        "for tag in spacy_tags[:100]:\n",
        "    if tag not in poly_tags[:100]:\n",
        "        print(tag)"
      ],
      "execution_count": null,
      "outputs": [
        {
          "output_type": "stream",
          "name": "stdout",
          "text": [
            "Polyglot tags:\n",
            "('.', 'X')\n",
            "('Si', 'PROPN')\n",
            "('pero', 'CONJ')\n",
            "('díganme', 'PUNCT')\n",
            "('DA', 'VERB')\n",
            "('.', 'X')\n",
            "('como', 'ADP')\n",
            "('omg', 'X')\n",
            "('back', 'X')\n",
            "('y', 'CONJ')\n",
            "('.', 'X')\n",
            "('es', 'VERB')\n",
            "('y', 'CONJ')\n",
            "('son', 'VERB')\n",
            "('animalitos', 'X')\n",
            "('del', 'X')\n",
            "('.', 'PROPN')\n",
            "('dirá', 'PROPN')\n",
            "\n",
            "spaCy tags:\n",
            "('.', 'PUNCT')\n",
            "('Si', 'SCONJ')\n",
            "('pero', 'CCONJ')\n",
            "('díganme', 'VERB')\n",
            "('que', 'PRON')\n",
            "('DA', 'PROPN')\n",
            "('.', 'PUNCT')\n",
            "('como', 'SCONJ')\n",
            "('omg', 'PROPN')\n",
            "('back', 'PROPN')\n",
            "('y', 'CCONJ')\n",
            "('.', 'PUNCT')\n",
            "('es', 'AUX')\n",
            "('y', 'CCONJ')\n",
            "('son', 'AUX')\n",
            "('animalitos', 'NOUN')\n",
            "('del', 'ADP')\n",
            "('.', 'PUNCT')\n",
            "('dirá', 'VERB')\n"
          ]
        }
      ]
    },
    {
      "cell_type": "markdown",
      "metadata": {
        "id": "DA0sxfS5VRTn"
      },
      "source": [
        " Vemos que existe cierto grado de diferencia entre uno y otro resultado y de una vista rápida no podemos aseverar que una librería haya tenido mejor desempeño que la otra, ya que en algunos casos yerra *Polyglot* y en otros el error es de *spaCy*. Le corresponde al usuario en este caso determinar qué tipo de fallos o aciertos son más determinantes para la tarea que está realizando y -nuevamente- elejir de entre al abanico de opciones disponibles. Y recuerden que siempre está también la opción de elejir alguna de las librerías no mencionadas en este trabajo, o entrenar su propio modelo de *Machine Learning* para realizar la tarea.\n",
        "\n",
        "En este particular y para este ejercicio, mi voto va para *spaCy*, ya que *Polyglot* ha hecho asignaciones erróneas en algunos verbos y sustantivos, que son una parte fundamental del lenguaje."
      ]
    },
    {
      "cell_type": "markdown",
      "metadata": {
        "id": "juKgwSxZYHDW"
      },
      "source": [
        " ## Análisis de sentimiento:\n",
        "Pasemos al último apartado de este ejercicio: el **análisis de sentimiento**. En resumen, el análisis de sentimiento consiste en asignar valores (típicamente positivo/negativo o positivo/neutro/negativo) a cada palabra de una oración, para posteriormente evaluar el resultado total de la misma.\n",
        "\n",
        "El resultado será un número entre 0 y 1, el cual tendrá a positivo en la medida que se acerque a 1 y a negativo en caso contrario.\n",
        "\n",
        "*Polyglot* cuenta con un algoritmo prediseñado para el análisis de sentimiento en español, no así *spaCy* ni NLTK, que tendría que ser creado por el usuario cargando previamente una data (un *corpus* de palabras previamente calibradas).\n",
        "\n",
        "Además, vamos a traer acá una nueva librería nueva tanto para este ejercicio como en general, ya que fue creada en febrero de este año- dedicada exclusivamente al análisis de sentimiento de textos en español: ***sentiment-analysis-spanish***.\n",
        "\n",
        "Comencemos por instalar esa librería y luego hagamos el ejercicio con las dos (*Polyglot*, y *sentiment-analysis-spanish*)."
      ]
    },
    {
      "cell_type": "code",
      "metadata": {
        "colab": {
          "base_uri": "https://localhost:8080/"
        },
        "id": "COEGs1QAjcWx",
        "outputId": "1c3b4661-2cf3-4ee0-d322-2d877151da7d"
      },
      "source": [
        "!pip install sentiment-analysis-spanish"
      ],
      "execution_count": null,
      "outputs": [
        {
          "output_type": "stream",
          "name": "stdout",
          "text": [
            "Collecting sentiment-analysis-spanish\n",
            "  Downloading sentiment_analysis_spanish-0.0.25-py3-none-any.whl.metadata (2.7 kB)\n",
            "Downloading sentiment_analysis_spanish-0.0.25-py3-none-any.whl (30.0 MB)\n",
            "\u001b[2K   \u001b[90m━━━━━━━━━━━━━━━━━━━━━━━━━━━━━━━━━━━━━━━━\u001b[0m \u001b[32m30.0/30.0 MB\u001b[0m \u001b[31m10.2 MB/s\u001b[0m eta \u001b[36m0:00:00\u001b[0m\n",
            "\u001b[?25hInstalling collected packages: sentiment-analysis-spanish\n",
            "Successfully installed sentiment-analysis-spanish-0.0.25\n"
          ]
        }
      ]
    },
    {
      "cell_type": "markdown",
      "metadata": {
        "id": "G2-LgPwQdhI2"
      },
      "source": [
        " ### Comencemos con *Polyglot*:\n",
        "\n",
        "*Polyglot* trabaja con un algoritmo de doble polaridad: positivo/negativo para cada **entidad**, al cual se accede mediante los métodos *positive_sentiment* y *negative_sentiment*.\n",
        "\n",
        "Descarguemos los recursos necesarios y veamos los valores asignados a cada entidad reconocida como persona ('*I-PER*') por *Polyglot*:"
      ]
    },
    {
      "cell_type": "code",
      "metadata": {
        "colab": {
          "base_uri": "https://localhost:8080/"
        },
        "id": "3pil8gtne75W",
        "outputId": "439a8be8-60b8-420c-dd60-c02dde1b0a89"
      },
      "source": [
        "%%bash\n",
        "polyglot download sentiment2.es"
      ],
      "execution_count": null,
      "outputs": [
        {
          "output_type": "stream",
          "name": "stdout",
          "text": [
            "[polyglot_data] Downloading package sentiment2.es to\n",
            "[polyglot_data]     /root/polyglot_data...\n"
          ]
        }
      ]
    },
    {
      "cell_type": "code",
      "metadata": {
        "colab": {
          "base_uri": "https://localhost:8080/"
        },
        "id": "X6pI5jDnds04",
        "outputId": "863d6e38-1844-4d54-ba48-82b84dd85c8f"
      },
      "source": [
        "robin_hood_poly_sentiment = []\n",
        "for sentence in text.sentences:\n",
        "    for ent in sentence.entities:\n",
        "        if ent.tag == 'I-PER':\n",
        "            try:\n",
        "                positive = ent.positive_sentiment\n",
        "                negative = ent.negative_sentiment\n",
        "                entity_dict = {'entity': ent[0], 'positive': positive, 'negative': negative}\n",
        "                robin_hood_poly_sentiment.append(entity_dict)\n",
        "                #print(f'{ent} positive sentiment: {ent.positive_sentiment}, negative sentiment: {ent.negative_sentiment}')\n",
        "            except:\n",
        "                pass\n",
        "robin_hood_poly_sentiment[:5] #se muestran los primeros cinco ítems"
      ],
      "execution_count": null,
      "outputs": [
        {
          "output_type": "execute_result",
          "data": {
            "text/plain": [
              "[{'entity': 'Rihanna', 'positive': 0, 'negative': 0.8918918918918919},\n",
              " {'entity': 'Robin', 'positive': 0.6666666666666667, 'negative': 0},\n",
              " {'entity': 'Robin', 'positive': 0.8548387096774194, 'negative': 0},\n",
              " {'entity': 'Robin', 'positive': 0, 'negative': 0.875},\n",
              " {'entity': 'Renart', 'positive': 0.6527777777777778, 'negative': 0}]"
            ]
          },
          "metadata": {},
          "execution_count": 43
        }
      ]
    },
    {
      "cell_type": "markdown",
      "metadata": {
        "id": "WtDneW4K_pxu"
      },
      "source": [
        "Como se ve, hemos creado la variable *robin_hood_poly_sentiment* que contiene una lista de diccionarios, cada uno con el nombre de la entidad, su polaridad positiva y negativa. Cada entidad aparece tantas veces como ha sido encontrada por *Polyglot*, ya que la polaridad específica de cada aparición depende de la polaridad de las palabras de la oración en la que se encuentra.\n",
        "\n",
        "Convirtamos esa lista de diccionarios en un *dataframe* de *Pandas*:"
      ]
    },
    {
      "cell_type": "code",
      "metadata": {
        "colab": {
          "base_uri": "https://localhost:8080/",
          "height": 206
        },
        "id": "vc2Y2_1qAebX",
        "outputId": "aff293f7-f1d1-436c-8984-db453e9a588b"
      },
      "source": [
        "import pandas as pd\n",
        "\n",
        "df_poly_sentiment = pd.DataFrame(robin_hood_poly_sentiment)\n",
        "df_poly_sentiment.head()"
      ],
      "execution_count": null,
      "outputs": [
        {
          "output_type": "execute_result",
          "data": {
            "text/plain": [
              "    entity  positive  negative\n",
              "0  Rihanna  0.000000  0.891892\n",
              "1    Robin  0.666667  0.000000\n",
              "2    Robin  0.854839  0.000000\n",
              "3    Robin  0.000000  0.875000\n",
              "4   Renart  0.652778  0.000000"
            ],
            "text/html": [
              "\n",
              "  <div id=\"df-a7138d8d-6f48-456d-ad64-724274b092cf\" class=\"colab-df-container\">\n",
              "    <div>\n",
              "<style scoped>\n",
              "    .dataframe tbody tr th:only-of-type {\n",
              "        vertical-align: middle;\n",
              "    }\n",
              "\n",
              "    .dataframe tbody tr th {\n",
              "        vertical-align: top;\n",
              "    }\n",
              "\n",
              "    .dataframe thead th {\n",
              "        text-align: right;\n",
              "    }\n",
              "</style>\n",
              "<table border=\"1\" class=\"dataframe\">\n",
              "  <thead>\n",
              "    <tr style=\"text-align: right;\">\n",
              "      <th></th>\n",
              "      <th>entity</th>\n",
              "      <th>positive</th>\n",
              "      <th>negative</th>\n",
              "    </tr>\n",
              "  </thead>\n",
              "  <tbody>\n",
              "    <tr>\n",
              "      <th>0</th>\n",
              "      <td>Rihanna</td>\n",
              "      <td>0.000000</td>\n",
              "      <td>0.891892</td>\n",
              "    </tr>\n",
              "    <tr>\n",
              "      <th>1</th>\n",
              "      <td>Robin</td>\n",
              "      <td>0.666667</td>\n",
              "      <td>0.000000</td>\n",
              "    </tr>\n",
              "    <tr>\n",
              "      <th>2</th>\n",
              "      <td>Robin</td>\n",
              "      <td>0.854839</td>\n",
              "      <td>0.000000</td>\n",
              "    </tr>\n",
              "    <tr>\n",
              "      <th>3</th>\n",
              "      <td>Robin</td>\n",
              "      <td>0.000000</td>\n",
              "      <td>0.875000</td>\n",
              "    </tr>\n",
              "    <tr>\n",
              "      <th>4</th>\n",
              "      <td>Renart</td>\n",
              "      <td>0.652778</td>\n",
              "      <td>0.000000</td>\n",
              "    </tr>\n",
              "  </tbody>\n",
              "</table>\n",
              "</div>\n",
              "    <div class=\"colab-df-buttons\">\n",
              "\n",
              "  <div class=\"colab-df-container\">\n",
              "    <button class=\"colab-df-convert\" onclick=\"convertToInteractive('df-a7138d8d-6f48-456d-ad64-724274b092cf')\"\n",
              "            title=\"Convert this dataframe to an interactive table.\"\n",
              "            style=\"display:none;\">\n",
              "\n",
              "  <svg xmlns=\"http://www.w3.org/2000/svg\" height=\"24px\" viewBox=\"0 -960 960 960\">\n",
              "    <path d=\"M120-120v-720h720v720H120Zm60-500h600v-160H180v160Zm220 220h160v-160H400v160Zm0 220h160v-160H400v160ZM180-400h160v-160H180v160Zm440 0h160v-160H620v160ZM180-180h160v-160H180v160Zm440 0h160v-160H620v160Z\"/>\n",
              "  </svg>\n",
              "    </button>\n",
              "\n",
              "  <style>\n",
              "    .colab-df-container {\n",
              "      display:flex;\n",
              "      gap: 12px;\n",
              "    }\n",
              "\n",
              "    .colab-df-convert {\n",
              "      background-color: #E8F0FE;\n",
              "      border: none;\n",
              "      border-radius: 50%;\n",
              "      cursor: pointer;\n",
              "      display: none;\n",
              "      fill: #1967D2;\n",
              "      height: 32px;\n",
              "      padding: 0 0 0 0;\n",
              "      width: 32px;\n",
              "    }\n",
              "\n",
              "    .colab-df-convert:hover {\n",
              "      background-color: #E2EBFA;\n",
              "      box-shadow: 0px 1px 2px rgba(60, 64, 67, 0.3), 0px 1px 3px 1px rgba(60, 64, 67, 0.15);\n",
              "      fill: #174EA6;\n",
              "    }\n",
              "\n",
              "    .colab-df-buttons div {\n",
              "      margin-bottom: 4px;\n",
              "    }\n",
              "\n",
              "    [theme=dark] .colab-df-convert {\n",
              "      background-color: #3B4455;\n",
              "      fill: #D2E3FC;\n",
              "    }\n",
              "\n",
              "    [theme=dark] .colab-df-convert:hover {\n",
              "      background-color: #434B5C;\n",
              "      box-shadow: 0px 1px 3px 1px rgba(0, 0, 0, 0.15);\n",
              "      filter: drop-shadow(0px 1px 2px rgba(0, 0, 0, 0.3));\n",
              "      fill: #FFFFFF;\n",
              "    }\n",
              "  </style>\n",
              "\n",
              "    <script>\n",
              "      const buttonEl =\n",
              "        document.querySelector('#df-a7138d8d-6f48-456d-ad64-724274b092cf button.colab-df-convert');\n",
              "      buttonEl.style.display =\n",
              "        google.colab.kernel.accessAllowed ? 'block' : 'none';\n",
              "\n",
              "      async function convertToInteractive(key) {\n",
              "        const element = document.querySelector('#df-a7138d8d-6f48-456d-ad64-724274b092cf');\n",
              "        const dataTable =\n",
              "          await google.colab.kernel.invokeFunction('convertToInteractive',\n",
              "                                                    [key], {});\n",
              "        if (!dataTable) return;\n",
              "\n",
              "        const docLinkHtml = 'Like what you see? Visit the ' +\n",
              "          '<a target=\"_blank\" href=https://colab.research.google.com/notebooks/data_table.ipynb>data table notebook</a>'\n",
              "          + ' to learn more about interactive tables.';\n",
              "        element.innerHTML = '';\n",
              "        dataTable['output_type'] = 'display_data';\n",
              "        await google.colab.output.renderOutput(dataTable, element);\n",
              "        const docLink = document.createElement('div');\n",
              "        docLink.innerHTML = docLinkHtml;\n",
              "        element.appendChild(docLink);\n",
              "      }\n",
              "    </script>\n",
              "  </div>\n",
              "\n",
              "\n",
              "<div id=\"df-dadb8abf-04b5-4ff3-9a94-0de6108405da\">\n",
              "  <button class=\"colab-df-quickchart\" onclick=\"quickchart('df-dadb8abf-04b5-4ff3-9a94-0de6108405da')\"\n",
              "            title=\"Suggest charts\"\n",
              "            style=\"display:none;\">\n",
              "\n",
              "<svg xmlns=\"http://www.w3.org/2000/svg\" height=\"24px\"viewBox=\"0 0 24 24\"\n",
              "     width=\"24px\">\n",
              "    <g>\n",
              "        <path d=\"M19 3H5c-1.1 0-2 .9-2 2v14c0 1.1.9 2 2 2h14c1.1 0 2-.9 2-2V5c0-1.1-.9-2-2-2zM9 17H7v-7h2v7zm4 0h-2V7h2v10zm4 0h-2v-4h2v4z\"/>\n",
              "    </g>\n",
              "</svg>\n",
              "  </button>\n",
              "\n",
              "<style>\n",
              "  .colab-df-quickchart {\n",
              "      --bg-color: #E8F0FE;\n",
              "      --fill-color: #1967D2;\n",
              "      --hover-bg-color: #E2EBFA;\n",
              "      --hover-fill-color: #174EA6;\n",
              "      --disabled-fill-color: #AAA;\n",
              "      --disabled-bg-color: #DDD;\n",
              "  }\n",
              "\n",
              "  [theme=dark] .colab-df-quickchart {\n",
              "      --bg-color: #3B4455;\n",
              "      --fill-color: #D2E3FC;\n",
              "      --hover-bg-color: #434B5C;\n",
              "      --hover-fill-color: #FFFFFF;\n",
              "      --disabled-bg-color: #3B4455;\n",
              "      --disabled-fill-color: #666;\n",
              "  }\n",
              "\n",
              "  .colab-df-quickchart {\n",
              "    background-color: var(--bg-color);\n",
              "    border: none;\n",
              "    border-radius: 50%;\n",
              "    cursor: pointer;\n",
              "    display: none;\n",
              "    fill: var(--fill-color);\n",
              "    height: 32px;\n",
              "    padding: 0;\n",
              "    width: 32px;\n",
              "  }\n",
              "\n",
              "  .colab-df-quickchart:hover {\n",
              "    background-color: var(--hover-bg-color);\n",
              "    box-shadow: 0 1px 2px rgba(60, 64, 67, 0.3), 0 1px 3px 1px rgba(60, 64, 67, 0.15);\n",
              "    fill: var(--button-hover-fill-color);\n",
              "  }\n",
              "\n",
              "  .colab-df-quickchart-complete:disabled,\n",
              "  .colab-df-quickchart-complete:disabled:hover {\n",
              "    background-color: var(--disabled-bg-color);\n",
              "    fill: var(--disabled-fill-color);\n",
              "    box-shadow: none;\n",
              "  }\n",
              "\n",
              "  .colab-df-spinner {\n",
              "    border: 2px solid var(--fill-color);\n",
              "    border-color: transparent;\n",
              "    border-bottom-color: var(--fill-color);\n",
              "    animation:\n",
              "      spin 1s steps(1) infinite;\n",
              "  }\n",
              "\n",
              "  @keyframes spin {\n",
              "    0% {\n",
              "      border-color: transparent;\n",
              "      border-bottom-color: var(--fill-color);\n",
              "      border-left-color: var(--fill-color);\n",
              "    }\n",
              "    20% {\n",
              "      border-color: transparent;\n",
              "      border-left-color: var(--fill-color);\n",
              "      border-top-color: var(--fill-color);\n",
              "    }\n",
              "    30% {\n",
              "      border-color: transparent;\n",
              "      border-left-color: var(--fill-color);\n",
              "      border-top-color: var(--fill-color);\n",
              "      border-right-color: var(--fill-color);\n",
              "    }\n",
              "    40% {\n",
              "      border-color: transparent;\n",
              "      border-right-color: var(--fill-color);\n",
              "      border-top-color: var(--fill-color);\n",
              "    }\n",
              "    60% {\n",
              "      border-color: transparent;\n",
              "      border-right-color: var(--fill-color);\n",
              "    }\n",
              "    80% {\n",
              "      border-color: transparent;\n",
              "      border-right-color: var(--fill-color);\n",
              "      border-bottom-color: var(--fill-color);\n",
              "    }\n",
              "    90% {\n",
              "      border-color: transparent;\n",
              "      border-bottom-color: var(--fill-color);\n",
              "    }\n",
              "  }\n",
              "</style>\n",
              "\n",
              "  <script>\n",
              "    async function quickchart(key) {\n",
              "      const quickchartButtonEl =\n",
              "        document.querySelector('#' + key + ' button');\n",
              "      quickchartButtonEl.disabled = true;  // To prevent multiple clicks.\n",
              "      quickchartButtonEl.classList.add('colab-df-spinner');\n",
              "      try {\n",
              "        const charts = await google.colab.kernel.invokeFunction(\n",
              "            'suggestCharts', [key], {});\n",
              "      } catch (error) {\n",
              "        console.error('Error during call to suggestCharts:', error);\n",
              "      }\n",
              "      quickchartButtonEl.classList.remove('colab-df-spinner');\n",
              "      quickchartButtonEl.classList.add('colab-df-quickchart-complete');\n",
              "    }\n",
              "    (() => {\n",
              "      let quickchartButtonEl =\n",
              "        document.querySelector('#df-dadb8abf-04b5-4ff3-9a94-0de6108405da button');\n",
              "      quickchartButtonEl.style.display =\n",
              "        google.colab.kernel.accessAllowed ? 'block' : 'none';\n",
              "    })();\n",
              "  </script>\n",
              "</div>\n",
              "\n",
              "    </div>\n",
              "  </div>\n"
            ],
            "application/vnd.google.colaboratory.intrinsic+json": {
              "type": "dataframe",
              "variable_name": "df_poly_sentiment",
              "summary": "{\n  \"name\": \"df_poly_sentiment\",\n  \"rows\": 34,\n  \"fields\": [\n    {\n      \"column\": \"entity\",\n      \"properties\": {\n        \"dtype\": \"category\",\n        \"num_unique_values\": 10,\n        \"samples\": [\n          \"carajo\",\n          \"Robin\",\n          \"Howard\"\n        ],\n        \"semantic_type\": \"\",\n        \"description\": \"\"\n      }\n    },\n    {\n      \"column\": \"positive\",\n      \"properties\": {\n        \"dtype\": \"number\",\n        \"std\": 0.4279964385109297,\n        \"min\": 0.0,\n        \"max\": 1.0,\n        \"num_unique_values\": 12,\n        \"samples\": [\n          0.9736842105263158,\n          0.9897959183673469,\n          0.0\n        ],\n        \"semantic_type\": \"\",\n        \"description\": \"\"\n      }\n    },\n    {\n      \"column\": \"negative\",\n      \"properties\": {\n        \"dtype\": \"number\",\n        \"std\": 0.4304588485137359,\n        \"min\": 0.0,\n        \"max\": 1.0,\n        \"num_unique_values\": 22,\n        \"samples\": [\n          0.8918918918918919,\n          0.7419354838709677,\n          0.858974358974359\n        ],\n        \"semantic_type\": \"\",\n        \"description\": \"\"\n      }\n    }\n  ]\n}"
            }
          },
          "metadata": {},
          "execution_count": 44
        }
      ]
    },
    {
      "cell_type": "markdown",
      "metadata": {
        "id": "bv7QCApFA23C"
      },
      "source": [
        "Habiendo convertido la lista de diccionarios en un *dataframe* nos simplifica muchísimo la tarea de graficar el análisis de sentimiento de cada (*aparición de cada*) ente.\n",
        "\n",
        "Hagamos un *scatter plot* con la data obtenida:"
      ]
    },
    {
      "cell_type": "code",
      "metadata": {
        "colab": {
          "base_uri": "https://localhost:8080/",
          "height": 657
        },
        "id": "dP2XMEkYBk86",
        "outputId": "ebe950bb-0166-4d80-c40f-eb0eb8ff4c9b"
      },
      "source": [
        "plt.scatter(df_poly_sentiment['entity'], df_poly_sentiment['positive'], c='blue', s=(df_poly_sentiment['positive']+2)*50, alpha=0.6, label='Positive')\n",
        "plt.scatter(df_poly_sentiment['entity'], df_poly_sentiment['negative'], c='red', s=(df_poly_sentiment['negative']+2)*30, alpha=0.4, label='Negative')\n",
        "plt.legend(loc='center right')\n",
        "plt.xticks(rotation=90)\n",
        "plt.style.use('seaborn')\n",
        "plt.ylabel('Polaridad')\n",
        "plt.title('Carga positiva/negativa de cada entidad\\nen cada una de sus apariciones')\n",
        "plt.show()"
      ],
      "execution_count": null,
      "outputs": [
        {
          "output_type": "stream",
          "name": "stderr",
          "text": [
            "<ipython-input-45-5373eee34204>:5: MatplotlibDeprecationWarning: The seaborn styles shipped by Matplotlib are deprecated since 3.6, as they no longer correspond to the styles shipped by seaborn. However, they will remain available as 'seaborn-v0_8-<style>'. Alternatively, directly use the seaborn API instead.\n",
            "  plt.style.use('seaborn')\n"
          ]
        },
        {
          "output_type": "display_data",
          "data": {
            "text/plain": [
              "<Figure size 640x480 with 1 Axes>"
            ],
            "image/png": "[encoded data removed]"
          },
          "metadata": {}
        }
      ]
    },
    {
      "cell_type": "markdown",
      "metadata": {
        "id": "oO__oBslBYcJ"
      },
      "source": [
        " Unifiquemos las escalas restando al valor positivo el valor negativo obtenido en cada una, y guardemos ese resultado en otra columna del dataframe a la que llamaremos 'total'.\n",
        "\n",
        "Mediante esta operación obtendremos un único resultado que irá de -1 a 1, el cual utilizaremos para hacer un nuevo gráfico de puntos."
      ]
    },
    {
      "cell_type": "code",
      "metadata": {
        "colab": {
          "base_uri": "https://localhost:8080/",
          "height": 206
        },
        "id": "HFYZ-c9q2tvw",
        "outputId": "56c7cc28-894f-414f-8ccf-ea8704de7b9e"
      },
      "source": [
        "df_poly_sentiment['total'] = df_poly_sentiment['positive'] - df_poly_sentiment['negative']\n",
        "df_poly_sentiment.head()"
      ],
      "execution_count": null,
      "outputs": [
        {
          "output_type": "execute_result",
          "data": {
            "text/plain": [
              "    entity  positive  negative     total\n",
              "0  Rihanna  0.000000  0.891892 -0.891892\n",
              "1    Robin  0.666667  0.000000  0.666667\n",
              "2    Robin  0.854839  0.000000  0.854839\n",
              "3    Robin  0.000000  0.875000 -0.875000\n",
              "4   Renart  0.652778  0.000000  0.652778"
            ],
            "text/html": [
              "\n",
              "  <div id=\"df-74a2e3e4-18d6-400f-82b8-c08f0d09718a\" class=\"colab-df-container\">\n",
              "    <div>\n",
              "<style scoped>\n",
              "    .dataframe tbody tr th:only-of-type {\n",
              "        vertical-align: middle;\n",
              "    }\n",
              "\n",
              "    .dataframe tbody tr th {\n",
              "        vertical-align: top;\n",
              "    }\n",
              "\n",
              "    .dataframe thead th {\n",
              "        text-align: right;\n",
              "    }\n",
              "</style>\n",
              "<table border=\"1\" class=\"dataframe\">\n",
              "  <thead>\n",
              "    <tr style=\"text-align: right;\">\n",
              "      <th></th>\n",
              "      <th>entity</th>\n",
              "      <th>positive</th>\n",
              "      <th>negative</th>\n",
              "      <th>total</th>\n",
              "    </tr>\n",
              "  </thead>\n",
              "  <tbody>\n",
              "    <tr>\n",
              "      <th>0</th>\n",
              "      <td>Rihanna</td>\n",
              "      <td>0.000000</td>\n",
              "      <td>0.891892</td>\n",
              "      <td>-0.891892</td>\n",
              "    </tr>\n",
              "    <tr>\n",
              "      <th>1</th>\n",
              "      <td>Robin</td>\n",
              "      <td>0.666667</td>\n",
              "      <td>0.000000</td>\n",
              "      <td>0.666667</td>\n",
              "    </tr>\n",
              "    <tr>\n",
              "      <th>2</th>\n",
              "      <td>Robin</td>\n",
              "      <td>0.854839</td>\n",
              "      <td>0.000000</td>\n",
              "      <td>0.854839</td>\n",
              "    </tr>\n",
              "    <tr>\n",
              "      <th>3</th>\n",
              "      <td>Robin</td>\n",
              "      <td>0.000000</td>\n",
              "      <td>0.875000</td>\n",
              "      <td>-0.875000</td>\n",
              "    </tr>\n",
              "    <tr>\n",
              "      <th>4</th>\n",
              "      <td>Renart</td>\n",
              "      <td>0.652778</td>\n",
              "      <td>0.000000</td>\n",
              "      <td>0.652778</td>\n",
              "    </tr>\n",
              "  </tbody>\n",
              "</table>\n",
              "</div>\n",
              "    <div class=\"colab-df-buttons\">\n",
              "\n",
              "  <div class=\"colab-df-container\">\n",
              "    <button class=\"colab-df-convert\" onclick=\"convertToInteractive('df-74a2e3e4-18d6-400f-82b8-c08f0d09718a')\"\n",
              "            title=\"Convert this dataframe to an interactive table.\"\n",
              "            style=\"display:none;\">\n",
              "\n",
              "  <svg xmlns=\"http://www.w3.org/2000/svg\" height=\"24px\" viewBox=\"0 -960 960 960\">\n",
              "    <path d=\"M120-120v-720h720v720H120Zm60-500h600v-160H180v160Zm220 220h160v-160H400v160Zm0 220h160v-160H400v160ZM180-400h160v-160H180v160Zm440 0h160v-160H620v160ZM180-180h160v-160H180v160Zm440 0h160v-160H620v160Z\"/>\n",
              "  </svg>\n",
              "    </button>\n",
              "\n",
              "  <style>\n",
              "    .colab-df-container {\n",
              "      display:flex;\n",
              "      gap: 12px;\n",
              "    }\n",
              "\n",
              "    .colab-df-convert {\n",
              "      background-color: #E8F0FE;\n",
              "      border: none;\n",
              "      border-radius: 50%;\n",
              "      cursor: pointer;\n",
              "      display: none;\n",
              "      fill: #1967D2;\n",
              "      height: 32px;\n",
              "      padding: 0 0 0 0;\n",
              "      width: 32px;\n",
              "    }\n",
              "\n",
              "    .colab-df-convert:hover {\n",
              "      background-color: #E2EBFA;\n",
              "      box-shadow: 0px 1px 2px rgba(60, 64, 67, 0.3), 0px 1px 3px 1px rgba(60, 64, 67, 0.15);\n",
              "      fill: #174EA6;\n",
              "    }\n",
              "\n",
              "    .colab-df-buttons div {\n",
              "      margin-bottom: 4px;\n",
              "    }\n",
              "\n",
              "    [theme=dark] .colab-df-convert {\n",
              "      background-color: #3B4455;\n",
              "      fill: #D2E3FC;\n",
              "    }\n",
              "\n",
              "    [theme=dark] .colab-df-convert:hover {\n",
              "      background-color: #434B5C;\n",
              "      box-shadow: 0px 1px 3px 1px rgba(0, 0, 0, 0.15);\n",
              "      filter: drop-shadow(0px 1px 2px rgba(0, 0, 0, 0.3));\n",
              "      fill: #FFFFFF;\n",
              "    }\n",
              "  </style>\n",
              "\n",
              "    <script>\n",
              "      const buttonEl =\n",
              "        document.querySelector('#df-74a2e3e4-18d6-400f-82b8-c08f0d09718a button.colab-df-convert');\n",
              "      buttonEl.style.display =\n",
              "        google.colab.kernel.accessAllowed ? 'block' : 'none';\n",
              "\n",
              "      async function convertToInteractive(key) {\n",
              "        const element = document.querySelector('#df-74a2e3e4-18d6-400f-82b8-c08f0d09718a');\n",
              "        const dataTable =\n",
              "          await google.colab.kernel.invokeFunction('convertToInteractive',\n",
              "                                                    [key], {});\n",
              "        if (!dataTable) return;\n",
              "\n",
              "        const docLinkHtml = 'Like what you see? Visit the ' +\n",
              "          '<a target=\"_blank\" href=https://colab.research.google.com/notebooks/data_table.ipynb>data table notebook</a>'\n",
              "          + ' to learn more about interactive tables.';\n",
              "        element.innerHTML = '';\n",
              "        dataTable['output_type'] = 'display_data';\n",
              "        await google.colab.output.renderOutput(dataTable, element);\n",
              "        const docLink = document.createElement('div');\n",
              "        docLink.innerHTML = docLinkHtml;\n",
              "        element.appendChild(docLink);\n",
              "      }\n",
              "    </script>\n",
              "  </div>\n",
              "\n",
              "\n",
              "<div id=\"df-5bee0918-1da7-4acc-8ef4-bc121857b53b\">\n",
              "  <button class=\"colab-df-quickchart\" onclick=\"quickchart('df-5bee0918-1da7-4acc-8ef4-bc121857b53b')\"\n",
              "            title=\"Suggest charts\"\n",
              "            style=\"display:none;\">\n",
              "\n",
              "<svg xmlns=\"http://www.w3.org/2000/svg\" height=\"24px\"viewBox=\"0 0 24 24\"\n",
              "     width=\"24px\">\n",
              "    <g>\n",
              "        <path d=\"M19 3H5c-1.1 0-2 .9-2 2v14c0 1.1.9 2 2 2h14c1.1 0 2-.9 2-2V5c0-1.1-.9-2-2-2zM9 17H7v-7h2v7zm4 0h-2V7h2v10zm4 0h-2v-4h2v4z\"/>\n",
              "    </g>\n",
              "</svg>\n",
              "  </button>\n",
              "\n",
              "<style>\n",
              "  .colab-df-quickchart {\n",
              "      --bg-color: #E8F0FE;\n",
              "      --fill-color: #1967D2;\n",
              "      --hover-bg-color: #E2EBFA;\n",
              "      --hover-fill-color: #174EA6;\n",
              "      --disabled-fill-color: #AAA;\n",
              "      --disabled-bg-color: #DDD;\n",
              "  }\n",
              "\n",
              "  [theme=dark] .colab-df-quickchart {\n",
              "      --bg-color: #3B4455;\n",
              "      --fill-color: #D2E3FC;\n",
              "      --hover-bg-color: #434B5C;\n",
              "      --hover-fill-color: #FFFFFF;\n",
              "      --disabled-bg-color: #3B4455;\n",
              "      --disabled-fill-color: #666;\n",
              "  }\n",
              "\n",
              "  .colab-df-quickchart {\n",
              "    background-color: var(--bg-color);\n",
              "    border: none;\n",
              "    border-radius: 50%;\n",
              "    cursor: pointer;\n",
              "    display: none;\n",
              "    fill: var(--fill-color);\n",
              "    height: 32px;\n",
              "    padding: 0;\n",
              "    width: 32px;\n",
              "  }\n",
              "\n",
              "  .colab-df-quickchart:hover {\n",
              "    background-color: var(--hover-bg-color);\n",
              "    box-shadow: 0 1px 2px rgba(60, 64, 67, 0.3), 0 1px 3px 1px rgba(60, 64, 67, 0.15);\n",
              "    fill: var(--button-hover-fill-color);\n",
              "  }\n",
              "\n",
              "  .colab-df-quickchart-complete:disabled,\n",
              "  .colab-df-quickchart-complete:disabled:hover {\n",
              "    background-color: var(--disabled-bg-color);\n",
              "    fill: var(--disabled-fill-color);\n",
              "    box-shadow: none;\n",
              "  }\n",
              "\n",
              "  .colab-df-spinner {\n",
              "    border: 2px solid var(--fill-color);\n",
              "    border-color: transparent;\n",
              "    border-bottom-color: var(--fill-color);\n",
              "    animation:\n",
              "      spin 1s steps(1) infinite;\n",
              "  }\n",
              "\n",
              "  @keyframes spin {\n",
              "    0% {\n",
              "      border-color: transparent;\n",
              "      border-bottom-color: var(--fill-color);\n",
              "      border-left-color: var(--fill-color);\n",
              "    }\n",
              "    20% {\n",
              "      border-color: transparent;\n",
              "      border-left-color: var(--fill-color);\n",
              "      border-top-color: var(--fill-color);\n",
              "    }\n",
              "    30% {\n",
              "      border-color: transparent;\n",
              "      border-left-color: var(--fill-color);\n",
              "      border-top-color: var(--fill-color);\n",
              "      border-right-color: var(--fill-color);\n",
              "    }\n",
              "    40% {\n",
              "      border-color: transparent;\n",
              "      border-right-color: var(--fill-color);\n",
              "      border-top-color: var(--fill-color);\n",
              "    }\n",
              "    60% {\n",
              "      border-color: transparent;\n",
              "      border-right-color: var(--fill-color);\n",
              "    }\n",
              "    80% {\n",
              "      border-color: transparent;\n",
              "      border-right-color: var(--fill-color);\n",
              "      border-bottom-color: var(--fill-color);\n",
              "    }\n",
              "    90% {\n",
              "      border-color: transparent;\n",
              "      border-bottom-color: var(--fill-color);\n",
              "    }\n",
              "  }\n",
              "</style>\n",
              "\n",
              "  <script>\n",
              "    async function quickchart(key) {\n",
              "      const quickchartButtonEl =\n",
              "        document.querySelector('#' + key + ' button');\n",
              "      quickchartButtonEl.disabled = true;  // To prevent multiple clicks.\n",
              "      quickchartButtonEl.classList.add('colab-df-spinner');\n",
              "      try {\n",
              "        const charts = await google.colab.kernel.invokeFunction(\n",
              "            'suggestCharts', [key], {});\n",
              "      } catch (error) {\n",
              "        console.error('Error during call to suggestCharts:', error);\n",
              "      }\n",
              "      quickchartButtonEl.classList.remove('colab-df-spinner');\n",
              "      quickchartButtonEl.classList.add('colab-df-quickchart-complete');\n",
              "    }\n",
              "    (() => {\n",
              "      let quickchartButtonEl =\n",
              "        document.querySelector('#df-5bee0918-1da7-4acc-8ef4-bc121857b53b button');\n",
              "      quickchartButtonEl.style.display =\n",
              "        google.colab.kernel.accessAllowed ? 'block' : 'none';\n",
              "    })();\n",
              "  </script>\n",
              "</div>\n",
              "\n",
              "    </div>\n",
              "  </div>\n"
            ],
            "application/vnd.google.colaboratory.intrinsic+json": {
              "type": "dataframe",
              "variable_name": "df_poly_sentiment",
              "summary": "{\n  \"name\": \"df_poly_sentiment\",\n  \"rows\": 34,\n  \"fields\": [\n    {\n      \"column\": \"entity\",\n      \"properties\": {\n        \"dtype\": \"category\",\n        \"num_unique_values\": 10,\n        \"samples\": [\n          \"carajo\",\n          \"Robin\",\n          \"Howard\"\n        ],\n        \"semantic_type\": \"\",\n        \"description\": \"\"\n      }\n    },\n    {\n      \"column\": \"positive\",\n      \"properties\": {\n        \"dtype\": \"number\",\n        \"std\": 0.4279964385109297,\n        \"min\": 0.0,\n        \"max\": 1.0,\n        \"num_unique_values\": 12,\n        \"samples\": [\n          0.9736842105263158,\n          0.9897959183673469,\n          0.0\n        ],\n        \"semantic_type\": \"\",\n        \"description\": \"\"\n      }\n    },\n    {\n      \"column\": \"negative\",\n      \"properties\": {\n        \"dtype\": \"number\",\n        \"std\": 0.4304588485137359,\n        \"min\": 0.0,\n        \"max\": 1.0,\n        \"num_unique_values\": 22,\n        \"samples\": [\n          0.8918918918918919,\n          0.7419354838709677,\n          0.858974358974359\n        ],\n        \"semantic_type\": \"\",\n        \"description\": \"\"\n      }\n    },\n    {\n      \"column\": \"total\",\n      \"properties\": {\n        \"dtype\": \"number\",\n        \"std\": 0.8525375620970498,\n        \"min\": -1.0,\n        \"max\": 1.0,\n        \"num_unique_values\": 32,\n        \"samples\": [\n          -0.72,\n          -0.858974358974359,\n          0.9736842105263158\n        ],\n        \"semantic_type\": \"\",\n        \"description\": \"\"\n      }\n    }\n  ]\n}"
            }
          },
          "metadata": {},
          "execution_count": 46
        }
      ]
    },
    {
      "cell_type": "code",
      "metadata": {
        "colab": {
          "base_uri": "https://localhost:8080/",
          "height": 363
        },
        "id": "3al-J4qd6FCx",
        "outputId": "e42eb8b8-5443-4924-ca63-2efdd4fb184b"
      },
      "source": [
        "plt.figure(figsize=(15, 4))\n",
        "\n",
        "plt.subplot(121)\n",
        "scatter = plt.scatter(df_poly_sentiment['entity'], df_poly_sentiment['total'],\n",
        "                      c=df_poly_sentiment['total'], cmap='coolwarm_r', edgecolor='black',\n",
        "                      linewidth=0.5, alpha=0.55, s=120)\n",
        "cbar = plt.colorbar()\n",
        "plt.xticks(rotation=90)\n",
        "cbar.set_label('<----negative ------------------ positive---->')\n",
        "\n",
        "plt.subplot(122)\n",
        "boxplot  = plt.boxplot(df_poly_sentiment['total'], showmeans=True, meanline=True,\n",
        "                       patch_artist=True, boxprops={'color': 'black'},\n",
        "                       medianprops={'color': 'red'})\n",
        "plt.suptitle('Carga positiva vs. carga negativa (Personas)')\n",
        "plt.style.use('ggplot')\n",
        "plt.show()"
      ],
      "execution_count": null,
      "outputs": [
        {
          "output_type": "display_data",
          "data": {
            "text/plain": [
              "<Figure size 1500x400 with 3 Axes>"
            ],
            "image/png": "[encoded data removed]"
          },
          "metadata": {}
        }
      ]
    },
    {
      "cell_type": "markdown",
      "metadata": {
        "id": "5zTlZoBwFaib"
      },
      "source": [
        "De los gráficos anteriores se evidencia que, al menos para el algoritmo de *Polyglot*, el texto del hilo de Robin Hood tiene una carga sentimental claramente negativa:\n",
        "En el *scatter plot* (*izq.*) vemos lo siguiente:\n",
        "1. Sólo tres de las personas identificadas por Polyglot han sido mencionadas en un contexto positivo. De esas tres personas una no lo es: el algoritmo etiquetó erróneamente XIII (siglo) como persona.\n",
        "2. De las dos restantes, Robin acumula un buen número de menciones en contexto negativo, mucho más que las que ha sido nombrado en contexto positivo.\n",
        "Por su parte, en el *boxplot* (*der.*) vemos que la línea media -en rojo- tiene un valor bajísimo, por debajo de -0.75.\n",
        "\n",
        "Lo anterior no debe sorprendernos, ya que el texto del hilo está lleno de palabras a las que normalmente se le asigna una valoración negativa (*duelo, forajido, ladrón, robar, muerte*), por lo que el resultado era el esperado."
      ]
    },
    {
      "cell_type": "markdown",
      "metadata": {
        "id": "-mMtzUTowW5U"
      },
      "source": [
        " ### Repitamos el ejercicio, esta vez con la librería ***sentiment-analysis-spanish***:\n",
        "\n",
        "Esta librería, lanzada recientemente, tiene una implementación sumamente sencilla, que consiste básicamente en crear un objeto de la clase *SentimentAnalysisSpanish* y llamar al método *sentiment* de dicha clase, pasando cada oración como argumento (recordemos que las oraciones las tenemos ya tokenizadas en la variable *robin_hood_tk_sent*), lo que arrojará un valor entre 0 y 1, en el que a medida que el resultado tienda a cero o uno la oración tendrá, respectivamente, una carga negativa o positiva, y los valores centrales representarán oraciones de carga neutra:"
      ]
    },
    {
      "cell_type": "code",
      "metadata": {
        "id": "R2RPEVSYphmB",
        "colab": {
          "base_uri": "https://localhost:8080/"
        },
        "outputId": "ae9a9f44-f251-4d35-cf8b-572d8c8bc472"
      },
      "source": [
        " from sentiment_analysis_spanish import sentiment_analysis\n",
        "\n",
        "sentiment = sentiment_analysis.SentimentAnalysisSpanish()\n",
        "sas_sentiment = []\n",
        "for sentence in robin_hood_tk_sent:\n",
        "    polarity = sentiment.sentiment(sentence)\n",
        "    sas_sentiment.append(polarity)\n",
        "sas_sentiment[:5] #se muestran los primeros cinco ítems"
      ],
      "execution_count": null,
      "outputs": [
        {
          "output_type": "stream",
          "name": "stderr",
          "text": [
            "/usr/local/lib/python3.10/dist-packages/sklearn/base.py:376: InconsistentVersionWarning: Trying to unpickle estimator CountVectorizer from version 0.23.2 when using version 1.5.2. This might lead to breaking code or invalid results. Use at your own risk. For more info please refer to:\n",
            "https://scikit-learn.org/stable/model_persistence.html#security-maintainability-limitations\n",
            "  warnings.warn(\n",
            "/usr/local/lib/python3.10/dist-packages/sklearn/base.py:376: InconsistentVersionWarning: Trying to unpickle estimator MultinomialNB from version 0.23.2 when using version 1.5.2. This might lead to breaking code or invalid results. Use at your own risk. For more info please refer to:\n",
            "https://scikit-learn.org/stable/model_persistence.html#security-maintainability-limitations\n",
            "  warnings.warn(\n"
          ]
        },
        {
          "output_type": "execute_result",
          "data": {
            "text/plain": [
              "[0.09000181786740202,\n",
              " 6.487187616840355e-12,\n",
              " 0.4513605618894927,\n",
              " 0.0007511345965412985,\n",
              " 0.0011175364332256443]"
            ]
          },
          "metadata": {},
          "execution_count": 48
        }
      ]
    },
    {
      "cell_type": "markdown",
      "metadata": {
        "id": "TOZhaMsD0DU2"
      },
      "source": [
        "Finalmente, podemos representar graficamente la data obtenida:"
      ]
    },
    {
      "cell_type": "code",
      "metadata": {
        "colab": {
          "base_uri": "https://localhost:8080/",
          "height": 291
        },
        "id": "bjsjdKYO0Lmb",
        "outputId": "c713b19a-26eb-4335-f8da-d477b6022b0c"
      },
      "source": [
        "plt.figure(figsize=(15, 4))\n",
        "\n",
        "plt.subplot(121)\n",
        "plot = plt.plot(sas_sentiment)\n",
        "plt.xlabel('|---------- oraciones ------------>')\n",
        "plt.ylabel('<---negative ----|---- positive--->')\n",
        "\n",
        "plt.subplot(122)\n",
        "boxplot  = plt.boxplot(sas_sentiment, showmeans=True, meanline=True,\n",
        "                       patch_artist=True, boxprops={'color': 'black'},\n",
        "                       medianprops={'color': 'red', 'linewidth': 1.5})\n",
        "plt.style.use('ggplot')\n",
        "plt.show()"
      ],
      "execution_count": null,
      "outputs": [
        {
          "output_type": "display_data",
          "data": {
            "text/plain": [
              "<Figure size 1500x400 with 2 Axes>"
            ],
            "image/png": "[encoded data removed]"
          },
          "metadata": {}
        }
      ]
    },
    {
      "cell_type": "markdown",
      "metadata": {
        "id": "eVrMLQzr1MUs"
      },
      "source": [
        "Aquí vemos cómo se repite el resultado esperado: un análisis de sentimiento que arroja una fuerte carga negativa con una media cercana a cero, apenas algunas desviaciones que concentran en una franja neutra y sólo dos oraciones que fueron valoradas como positivas por el algoritmo de *sentiment-analysis-spanish*."
      ]
    },
    {
      "cell_type": "markdown",
      "metadata": {
        "id": "hKm5hnYl2ezF"
      },
      "source": [
        "### Y con esto hemos llegado al final de este ejercicio. Espero que les haya gustado y les haya sido de utilidad.\n",
        "Gracias por leer. Por favor, compártelo si piensas que puede serle útil a alguien más.\n",
        "\n",
        "Hasta pronto,\n",
        "\n",
        "##Dan\n",
        "\n",
        "##Sobre mi:\n",
        "Soy un programador autodidacta de Buenos Aires (Argentina).\n",
        "\n",
        "Hago tutoriales en varios formatos tanto en español como en inglés. Todos mis tutoriales son y serán siemnpre gratuitos. Si quieres apoyarme, puedes colaborar en cualquiera de estas dos plataformas:\n",
        "\n",
        "• [Patreon](https://www.patreon.com/dandeveloper).\n",
        "\n",
        "• [Ko-fi](https://ko-fi.com/dandev)."
      ]
    }
  ]
}