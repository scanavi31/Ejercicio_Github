{
  "cells": [
    {
      "cell_type": "markdown",
      "metadata": {
        "id": "40e8VLKV3glv"
      },
      "source": [
        "## Exploración y acondicionamiento de un conjunto de datos\n",
        "### Objetivos:\n",
        "- Aplicar diferentes técnicas de tratamiento de estructuras numéricas con Numpy y datos estructurados con Pandas."
      ]
    },
    {
      "cell_type": "markdown",
      "metadata": {
        "id": "XRPXg2ao3glz"
      },
      "source": [
        "#### Descripción\n",
        "El conjunto de datos \"valenbici.csv\" (fichero modificado para el ejemplo) proviene de una descarga de datos del servicio web de la empresa municipal Valenbici, dedicada al alquiler de bicicletas en Valencia.\n",
        "\n",
        "Los datos recabados de este servicio web son de mediciones cada 10 minutos de las estaciones:\n",
        "\n",
        "https://valencia.opendatasoft.com/explore/dataset/valenbisi-disponibilitat-valenbisi-dsiponibilidad/information/\n"
      ]
    },
    {
      "cell_type": "markdown",
      "metadata": {
        "id": "qmc6t3k53gl0"
      },
      "source": [
        "## Librerías"
      ]
    },
    {
      "cell_type": "code",
      "execution_count": null,
      "metadata": {
        "tags": [],
        "id": "HQfp0TKk3gl1"
      },
      "outputs": [],
      "source": [
        "# importar librerias necesarias\n"
      ]
    },
    {
      "cell_type": "markdown",
      "metadata": {
        "id": "CT7i9dwO3gl2"
      },
      "source": [
        "## Exploración\n",
        "Carga de datos de csv en un DataFrame y exploración de datos.\n",
        "\n",
        "La primera columna del fichero debe aparecer como índice del DataFrame."
      ]
    },
    {
      "cell_type": "code",
      "source": [
        "# Monta Google drive\n"
      ],
      "metadata": {
        "id": "6012nn0o8CzW"
      },
      "execution_count": null,
      "outputs": []
    },
    {
      "cell_type": "code",
      "source": [
        "# Ruta del archivo\n"
      ],
      "metadata": {
        "id": "A9ednuZw9wX6"
      },
      "execution_count": null,
      "outputs": []
    },
    {
      "cell_type": "code",
      "execution_count": null,
      "metadata": {
        "tags": [],
        "id": "Ah80b0Zd3gl3"
      },
      "outputs": [],
      "source": [
        "# Especificar el delimitador\n",
        "\n",
        "# Cargar el archivo CSV en un DataFrame y establecer la primera columna como índice\n"
      ]
    },
    {
      "cell_type": "code",
      "source": [
        "# Primeras filas de df\n"
      ],
      "metadata": {
        "id": "aI7-0LsbLnYp"
      },
      "execution_count": null,
      "outputs": []
    },
    {
      "cell_type": "code",
      "source": [
        "# Información del df\n"
      ],
      "metadata": {
        "id": "TQMMvF-dBj9Q"
      },
      "execution_count": null,
      "outputs": []
    },
    {
      "cell_type": "markdown",
      "metadata": {
        "id": "4IJAtbe03gl4"
      },
      "source": [
        "Nota: Antes de continuar, para obtener datos para análisis estadístico que sean acertados y fiables se revisa si se tienen datos duplicados y se pasan a eliminar"
      ]
    },
    {
      "cell_type": "code",
      "execution_count": null,
      "metadata": {
        "tags": [],
        "id": "fjbtyH683gl5"
      },
      "outputs": [],
      "source": [
        "# Revisar si hay duplicados\n",
        "\n",
        "# Mostrar la cantidad de duplicados\n"
      ]
    },
    {
      "cell_type": "code",
      "source": [
        "# Revisar valores nulos\n"
      ],
      "metadata": {
        "id": "9CPwYCUsMV03"
      },
      "execution_count": null,
      "outputs": []
    },
    {
      "cell_type": "markdown",
      "source": [
        "## Eliminar duplicados"
      ],
      "metadata": {
        "id": "erztWCt6NcGe"
      }
    },
    {
      "cell_type": "code",
      "execution_count": null,
      "metadata": {
        "id": "tI4p4EMT3gl-"
      },
      "outputs": [],
      "source": [
        "# Eliminar duplicados\n",
        "\n",
        "# Verificar si se eliminaron duplicados\n",
        "\n"
      ]
    },
    {
      "cell_type": "markdown",
      "source": [
        "## Manejo de Valores Nulos"
      ],
      "metadata": {
        "id": "WrB27s2aMy0b"
      }
    },
    {
      "cell_type": "code",
      "source": [
        "# Visualizar valores nulos\n"
      ],
      "metadata": {
        "id": "VlyPJ92zMvKS"
      },
      "execution_count": null,
      "outputs": []
    },
    {
      "cell_type": "code",
      "source": [
        "# Imputar valores nulos en columnas numéricas con la mediana\n",
        "\n",
        "\n",
        "# Verificar valores nulos después de imputar\n"
      ],
      "metadata": {
        "id": "20kqUG0-NniM"
      },
      "execution_count": null,
      "outputs": []
    },
    {
      "cell_type": "markdown",
      "source": [
        "## Detectar y Manejar Outliers"
      ],
      "metadata": {
        "id": "NVSGWMhNN_df"
      }
    },
    {
      "cell_type": "code",
      "source": [
        "# Visualizar outliers con un boxplot\n"
      ],
      "metadata": {
        "id": "iOsLTXxVN-YM"
      },
      "execution_count": null,
      "outputs": []
    },
    {
      "cell_type": "code",
      "source": [
        "# Opcional: eliminar outliers (por ejemplo, usando el método IQR)\n",
        "\n",
        "\n",
        "# Filtros para eliminar outliers\n"
      ],
      "metadata": {
        "id": "OpocO5PDOFci"
      },
      "execution_count": null,
      "outputs": []
    },
    {
      "cell_type": "markdown",
      "source": [
        "## Ajustar el Formato de Datos"
      ],
      "metadata": {
        "id": "QOOvoVBIOclx"
      }
    },
    {
      "cell_type": "code",
      "source": [
        "# Convertir 'fecha_actualizacion' a tipo datetime\n",
        "\n",
        "\n",
        "# Convertir 'geo_point_2d' a tipo string si necesario\n"
      ],
      "metadata": {
        "id": "yW5AX627OVnx"
      },
      "execution_count": null,
      "outputs": []
    },
    {
      "cell_type": "markdown",
      "source": [
        "## Generar Visualizaciones y Estadística Descriptiva"
      ],
      "metadata": {
        "id": "Emqth8VoOtmW"
      }
    },
    {
      "cell_type": "code",
      "source": [
        "# Estadística descriptiva\n"
      ],
      "metadata": {
        "id": "JM2MPvT1OtIE"
      },
      "execution_count": null,
      "outputs": []
    },
    {
      "cell_type": "code",
      "source": [
        "# Restablecer el índice del DataFrame para evitar duplicados en el índice\n"
      ],
      "metadata": {
        "id": "18N2c6lmPPsN"
      },
      "execution_count": null,
      "outputs": []
    },
    {
      "cell_type": "code",
      "source": [
        "# Visualizaciones\n",
        "\n",
        "\n",
        "# Correlación entre variables numéricas\n"
      ],
      "metadata": {
        "id": "wz3xSv0NOhOZ"
      },
      "execution_count": null,
      "outputs": []
    },
    {
      "cell_type": "markdown",
      "source": [
        "## Guardar conjunto de datos"
      ],
      "metadata": {
        "id": "punNCeBjQPoz"
      }
    },
    {
      "cell_type": "code",
      "source": [
        "# Guardar el DataFrame limpio y procesado en un nuevo archivo CSV\n",
        "\n"
      ],
      "metadata": {
        "id": "6maFA-uqQSrp"
      },
      "execution_count": null,
      "outputs": []
    }
  ],
  "metadata": {
    "kernelspec": {
      "display_name": "Python 3 (ipykernel)",
      "language": "python",
      "name": "python3"
    },
    "language_info": {
      "codemirror_mode": {
        "name": "ipython",
        "version": 3
      },
      "file_extension": ".py",
      "mimetype": "text/x-python",
      "name": "python",
      "nbconvert_exporter": "python",
      "pygments_lexer": "ipython3",
      "version": "3.11.5"
    },
    "colab": {
      "provenance": []
    }
  },
  "nbformat": 4,
  "nbformat_minor": 0
}